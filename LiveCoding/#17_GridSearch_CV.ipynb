{
  "nbformat": 4,
  "nbformat_minor": 0,
  "metadata": {
    "colab": {
      "name": "17_LC_03062020_GridSearch_CV.ipynb",
      "provenance": [],
      "include_colab_link": true
    },
    "kernelspec": {
      "name": "python3",
      "display_name": "Python 3"
    }
  },
  "cells": [
    {
      "cell_type": "markdown",
      "metadata": {
        "id": "view-in-github",
        "colab_type": "text"
      },
      "source": [
        "<a href=\"https://colab.research.google.com/github/h4r1c0t/WildCodeSchool/blob/master/LiveCoding/%2317_GridSearch_CV.ipynb\" target=\"_parent\"><img src=\"https://colab.research.google.com/assets/colab-badge.svg\" alt=\"Open In Colab\"/></a>"
      ]
    },
    {
      "cell_type": "code",
      "metadata": {
        "id": "YsJEyIcLtdam",
        "colab_type": "code",
        "colab": {}
      },
      "source": [
        "from sklearn.datasets import make_classification\n",
        "from sklearn.ensemble import RandomForestClassifier\n",
        "from sklearn.model_selection import cross_val_score\n",
        "\n",
        "from sklearn.model_selection import train_test_split\n",
        "from sklearn.model_selection import GridSearchCV\n",
        "\n",
        "from sklearn.metrics import roc_auc_score\n",
        "from sklearn.metrics import accuracy_score"
      ],
      "execution_count": 0,
      "outputs": []
    },
    {
      "cell_type": "code",
      "metadata": {
        "id": "rXZ9qBYvuAY0",
        "colab_type": "code",
        "colab": {}
      },
      "source": [
        "X, y = make_classification(n_samples = 1000, n_features = 10, n_informative=4, n_redundant=3, random_state=0)"
      ],
      "execution_count": 0,
      "outputs": []
    },
    {
      "cell_type": "code",
      "metadata": {
        "id": "ZlnQvJFpuPfw",
        "colab_type": "code",
        "outputId": "86672406-5cd4-4625-d64a-c0756c43e453",
        "colab": {
          "base_uri": "https://localhost:8080/",
          "height": 35
        }
      },
      "source": [
        "X.shape"
      ],
      "execution_count": 0,
      "outputs": [
        {
          "output_type": "execute_result",
          "data": {
            "text/plain": [
              "(1000, 10)"
            ]
          },
          "metadata": {
            "tags": []
          },
          "execution_count": 25
        }
      ]
    },
    {
      "cell_type": "code",
      "metadata": {
        "id": "MlMtrDsXuQNv",
        "colab_type": "code",
        "outputId": "b8de6ef8-0e61-4e5a-f8aa-e755cd454e05",
        "colab": {
          "base_uri": "https://localhost:8080/",
          "height": 35
        }
      },
      "source": [
        "y.shape"
      ],
      "execution_count": 0,
      "outputs": [
        {
          "output_type": "execute_result",
          "data": {
            "text/plain": [
              "(1000,)"
            ]
          },
          "metadata": {
            "tags": []
          },
          "execution_count": 26
        }
      ]
    },
    {
      "cell_type": "code",
      "metadata": {
        "id": "2EqeFKUOuQnH",
        "colab_type": "code",
        "outputId": "d2fa937d-f940-45c0-b5f7-4673cfe0df8a",
        "colab": {
          "base_uri": "https://localhost:8080/",
          "height": 156
        }
      },
      "source": [
        "clf = RandomForestClassifier(random_state=42)\n",
        "clf.fit(X, y)"
      ],
      "execution_count": 0,
      "outputs": [
        {
          "output_type": "execute_result",
          "data": {
            "text/plain": [
              "RandomForestClassifier(bootstrap=True, ccp_alpha=0.0, class_weight=None,\n",
              "                       criterion='gini', max_depth=None, max_features='auto',\n",
              "                       max_leaf_nodes=None, max_samples=None,\n",
              "                       min_impurity_decrease=0.0, min_impurity_split=None,\n",
              "                       min_samples_leaf=1, min_samples_split=2,\n",
              "                       min_weight_fraction_leaf=0.0, n_estimators=100,\n",
              "                       n_jobs=None, oob_score=False, random_state=42, verbose=0,\n",
              "                       warm_start=False)"
            ]
          },
          "metadata": {
            "tags": []
          },
          "execution_count": 27
        }
      ]
    },
    {
      "cell_type": "code",
      "metadata": {
        "id": "tjIoqofOviXx",
        "colab_type": "code",
        "colab": {}
      },
      "source": [
        "scores = cross_val_score(clf, X, y, cv=5)"
      ],
      "execution_count": 0,
      "outputs": []
    },
    {
      "cell_type": "code",
      "metadata": {
        "id": "mN5PkhW_w9sq",
        "colab_type": "code",
        "outputId": "cddc8a9b-139b-4298-e873-ac344e7c231d",
        "colab": {
          "base_uri": "https://localhost:8080/",
          "height": 35
        }
      },
      "source": [
        "scores"
      ],
      "execution_count": 0,
      "outputs": [
        {
          "output_type": "execute_result",
          "data": {
            "text/plain": [
              "array([0.88 , 0.89 , 0.885, 0.875, 0.88 ])"
            ]
          },
          "metadata": {
            "tags": []
          },
          "execution_count": 29
        }
      ]
    },
    {
      "cell_type": "code",
      "metadata": {
        "id": "SGjyblddxAC3",
        "colab_type": "code",
        "colab": {}
      },
      "source": [
        "X_train, X_test, y_train, y_test = train_test_split(X, y, test_size=0.3, random_state=42)"
      ],
      "execution_count": 0,
      "outputs": []
    },
    {
      "cell_type": "code",
      "metadata": {
        "id": "i_UfXlFxxwNB",
        "colab_type": "code",
        "outputId": "7b528b8a-7fb8-43bb-8efd-0cbd76b56954",
        "colab": {
          "base_uri": "https://localhost:8080/",
          "height": 156
        }
      },
      "source": [
        "clf.fit(X_train, y_train)"
      ],
      "execution_count": 0,
      "outputs": [
        {
          "output_type": "execute_result",
          "data": {
            "text/plain": [
              "RandomForestClassifier(bootstrap=True, ccp_alpha=0.0, class_weight=None,\n",
              "                       criterion='gini', max_depth=None, max_features='auto',\n",
              "                       max_leaf_nodes=None, max_samples=None,\n",
              "                       min_impurity_decrease=0.0, min_impurity_split=None,\n",
              "                       min_samples_leaf=1, min_samples_split=2,\n",
              "                       min_weight_fraction_leaf=0.0, n_estimators=100,\n",
              "                       n_jobs=None, oob_score=False, random_state=42, verbose=0,\n",
              "                       warm_start=False)"
            ]
          },
          "metadata": {
            "tags": []
          },
          "execution_count": 31
        }
      ]
    },
    {
      "cell_type": "code",
      "metadata": {
        "id": "NSzd2rwsxzj6",
        "colab_type": "code",
        "colab": {}
      },
      "source": [
        "scores = cross_val_score(clf, X_train, y_train, cv=5)"
      ],
      "execution_count": 0,
      "outputs": []
    },
    {
      "cell_type": "code",
      "metadata": {
        "id": "t4DhGCdDx24g",
        "colab_type": "code",
        "outputId": "532d9793-f107-4666-bf34-d5bf053b7866",
        "colab": {
          "base_uri": "https://localhost:8080/",
          "height": 35
        }
      },
      "source": [
        "scores"
      ],
      "execution_count": 0,
      "outputs": [
        {
          "output_type": "execute_result",
          "data": {
            "text/plain": [
              "array([0.77857143, 0.82142857, 0.86428571, 0.92857143, 0.85      ])"
            ]
          },
          "metadata": {
            "tags": []
          },
          "execution_count": 33
        }
      ]
    },
    {
      "cell_type": "code",
      "metadata": {
        "id": "-F3lbVAax4eX",
        "colab_type": "code",
        "colab": {}
      },
      "source": [
        "y_pred = clf.predict(X_test)"
      ],
      "execution_count": 0,
      "outputs": []
    },
    {
      "cell_type": "code",
      "metadata": {
        "id": "KLB7399yyBi3",
        "colab_type": "code",
        "outputId": "7ddb4d45-e163-4787-878c-b18a8273cba6",
        "colab": {
          "base_uri": "https://localhost:8080/",
          "height": 35
        }
      },
      "source": [
        "accuracy_score(y_test, y_pred)"
      ],
      "execution_count": 0,
      "outputs": [
        {
          "output_type": "execute_result",
          "data": {
            "text/plain": [
              "0.85"
            ]
          },
          "metadata": {
            "tags": []
          },
          "execution_count": 35
        }
      ]
    },
    {
      "cell_type": "code",
      "metadata": {
        "id": "gNBoc67tyXz4",
        "colab_type": "code",
        "outputId": "1d62447b-b8ec-419b-c333-0312a2cba0f4",
        "colab": {
          "base_uri": "https://localhost:8080/",
          "height": 35
        }
      },
      "source": [
        "roc_auc_score(y_test, y_pred)"
      ],
      "execution_count": 0,
      "outputs": [
        {
          "output_type": "execute_result",
          "data": {
            "text/plain": [
              "0.8490926881337839"
            ]
          },
          "metadata": {
            "tags": []
          },
          "execution_count": 36
        }
      ]
    },
    {
      "cell_type": "code",
      "metadata": {
        "id": "kxpNDlXk2CZF",
        "colab_type": "code",
        "colab": {}
      },
      "source": [
        "## GridSearch"
      ],
      "execution_count": 0,
      "outputs": []
    },
    {
      "cell_type": "code",
      "metadata": {
        "id": "T2TmwEsG27_7",
        "colab_type": "code",
        "colab": {}
      },
      "source": [
        "clf = RandomForestClassifier()"
      ],
      "execution_count": 0,
      "outputs": []
    },
    {
      "cell_type": "code",
      "metadata": {
        "id": "kXIuojU916sN",
        "colab_type": "code",
        "colab": {}
      },
      "source": [
        "parameters = {'n_estimators':[100, 200, 300], 'max_depth':[2, 3]}"
      ],
      "execution_count": 0,
      "outputs": []
    },
    {
      "cell_type": "code",
      "metadata": {
        "id": "mECWp9oT2cA1",
        "colab_type": "code",
        "outputId": "e74c1f07-717a-4b58-9aca-82c0cc587149",
        "colab": {
          "base_uri": "https://localhost:8080/",
          "height": 1000
        }
      },
      "source": [
        "clf2 = GridSearchCV(clf, parameters, cv = 3, scoring = 'roc_auc', verbose = 3)\n",
        "clf2.fit(X_train, y_train)"
      ],
      "execution_count": 0,
      "outputs": [
        {
          "output_type": "stream",
          "text": [
            "Fitting 3 folds for each of 6 candidates, totalling 18 fits\n",
            "[CV] max_depth=2, n_estimators=100 ...................................\n",
            "[CV] ....... max_depth=2, n_estimators=100, score=0.765, total=   0.2s\n",
            "[CV] max_depth=2, n_estimators=100 ...................................\n"
          ],
          "name": "stdout"
        },
        {
          "output_type": "stream",
          "text": [
            "[Parallel(n_jobs=1)]: Using backend SequentialBackend with 1 concurrent workers.\n",
            "[Parallel(n_jobs=1)]: Done   1 out of   1 | elapsed:    0.2s remaining:    0.0s\n"
          ],
          "name": "stderr"
        },
        {
          "output_type": "stream",
          "text": [
            "[CV] ....... max_depth=2, n_estimators=100, score=0.836, total=   0.2s\n",
            "[CV] max_depth=2, n_estimators=100 ...................................\n",
            "[CV] ....... max_depth=2, n_estimators=100, score=0.854, total=   0.2s\n",
            "[CV] max_depth=2, n_estimators=200 ...................................\n"
          ],
          "name": "stdout"
        },
        {
          "output_type": "stream",
          "text": [
            "[Parallel(n_jobs=1)]: Done   2 out of   2 | elapsed:    0.3s remaining:    0.0s\n"
          ],
          "name": "stderr"
        },
        {
          "output_type": "stream",
          "text": [
            "[CV] ....... max_depth=2, n_estimators=200, score=0.759, total=   0.3s\n",
            "[CV] max_depth=2, n_estimators=200 ...................................\n",
            "[CV] ....... max_depth=2, n_estimators=200, score=0.828, total=   0.3s\n",
            "[CV] max_depth=2, n_estimators=200 ...................................\n",
            "[CV] ....... max_depth=2, n_estimators=200, score=0.851, total=   0.3s\n",
            "[CV] max_depth=2, n_estimators=300 ...................................\n",
            "[CV] ....... max_depth=2, n_estimators=300, score=0.760, total=   0.4s\n",
            "[CV] max_depth=2, n_estimators=300 ...................................\n",
            "[CV] ....... max_depth=2, n_estimators=300, score=0.832, total=   0.5s\n",
            "[CV] max_depth=2, n_estimators=300 ...................................\n",
            "[CV] ....... max_depth=2, n_estimators=300, score=0.844, total=   0.4s\n",
            "[CV] max_depth=3, n_estimators=100 ...................................\n",
            "[CV] ....... max_depth=3, n_estimators=100, score=0.813, total=   0.2s\n",
            "[CV] max_depth=3, n_estimators=100 ...................................\n",
            "[CV] ....... max_depth=3, n_estimators=100, score=0.884, total=   0.2s\n",
            "[CV] max_depth=3, n_estimators=100 ...................................\n",
            "[CV] ....... max_depth=3, n_estimators=100, score=0.893, total=   0.2s\n",
            "[CV] max_depth=3, n_estimators=200 ...................................\n",
            "[CV] ....... max_depth=3, n_estimators=200, score=0.810, total=   0.3s\n",
            "[CV] max_depth=3, n_estimators=200 ...................................\n",
            "[CV] ....... max_depth=3, n_estimators=200, score=0.892, total=   0.3s\n",
            "[CV] max_depth=3, n_estimators=200 ...................................\n",
            "[CV] ....... max_depth=3, n_estimators=200, score=0.902, total=   0.3s\n",
            "[CV] max_depth=3, n_estimators=300 ...................................\n",
            "[CV] ....... max_depth=3, n_estimators=300, score=0.812, total=   0.5s\n",
            "[CV] max_depth=3, n_estimators=300 ...................................\n",
            "[CV] ....... max_depth=3, n_estimators=300, score=0.891, total=   0.5s\n",
            "[CV] max_depth=3, n_estimators=300 ...................................\n",
            "[CV] ....... max_depth=3, n_estimators=300, score=0.906, total=   0.5s\n"
          ],
          "name": "stdout"
        },
        {
          "output_type": "stream",
          "text": [
            "[Parallel(n_jobs=1)]: Done  18 out of  18 | elapsed:    5.7s finished\n"
          ],
          "name": "stderr"
        },
        {
          "output_type": "execute_result",
          "data": {
            "text/plain": [
              "GridSearchCV(cv=3, error_score=nan,\n",
              "             estimator=RandomForestClassifier(bootstrap=True, ccp_alpha=0.0,\n",
              "                                              class_weight=None,\n",
              "                                              criterion='gini', max_depth=None,\n",
              "                                              max_features='auto',\n",
              "                                              max_leaf_nodes=None,\n",
              "                                              max_samples=None,\n",
              "                                              min_impurity_decrease=0.0,\n",
              "                                              min_impurity_split=None,\n",
              "                                              min_samples_leaf=1,\n",
              "                                              min_samples_split=2,\n",
              "                                              min_weight_fraction_leaf=0.0,\n",
              "                                              n_estimators=100, n_jobs=None,\n",
              "                                              oob_score=False,\n",
              "                                              random_state=None, verbose=0,\n",
              "                                              warm_start=False),\n",
              "             iid='deprecated', n_jobs=None,\n",
              "             param_grid={'max_depth': [2, 3], 'n_estimators': [100, 200, 300]},\n",
              "             pre_dispatch='2*n_jobs', refit=True, return_train_score=False,\n",
              "             scoring='roc_auc', verbose=3)"
            ]
          },
          "metadata": {
            "tags": []
          },
          "execution_count": 77
        }
      ]
    },
    {
      "cell_type": "code",
      "metadata": {
        "id": "XeMVaZTw3V2n",
        "colab_type": "code",
        "outputId": "115456cf-a790-4600-a60b-3732f3fd1710",
        "colab": {
          "base_uri": "https://localhost:8080/",
          "height": 35
        }
      },
      "source": [
        "clf2.best_score_"
      ],
      "execution_count": 0,
      "outputs": [
        {
          "output_type": "execute_result",
          "data": {
            "text/plain": [
              "0.8678739545191911"
            ]
          },
          "metadata": {
            "tags": []
          },
          "execution_count": 76
        }
      ]
    },
    {
      "cell_type": "code",
      "metadata": {
        "id": "V50LV3uF4ftf",
        "colab_type": "code",
        "outputId": "5743ed06-f98d-4d38-a73c-6ac6f38f67fb",
        "colab": {
          "base_uri": "https://localhost:8080/",
          "height": 35
        }
      },
      "source": [
        "clf2.best_params_"
      ],
      "execution_count": 0,
      "outputs": [
        {
          "output_type": "execute_result",
          "data": {
            "text/plain": [
              "{'max_depth': 3, 'n_estimators': 200}"
            ]
          },
          "metadata": {
            "tags": []
          },
          "execution_count": 75
        }
      ]
    }
  ]
}