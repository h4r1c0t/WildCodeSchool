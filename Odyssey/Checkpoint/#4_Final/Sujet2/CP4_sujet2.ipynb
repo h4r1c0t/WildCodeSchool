{
 "cells": [
  {
   "cell_type": "markdown",
   "metadata": {},
   "source": [
    "# Dernier checkpoint - formation data analyst\n",
    "___\n",
    "## Sujet n°1 : SQL Database\n",
    "### Open dataset"
   ]
  },
  {
   "cell_type": "code",
   "execution_count": 2,
   "metadata": {},
   "outputs": [],
   "source": [
    "import pandas as pd\n",
    "\n",
    "link = 'https://raw.githubusercontent.com/murpi/wilddata/master/quests/Data_pole_emploi.csv'\n",
    "df_jobs = pd.read_csv(link, sep = \";\")"
   ]
  },
  {
   "cell_type": "code",
   "execution_count": 4,
   "metadata": {},
   "outputs": [
    {
     "name": "stdout",
     "output_type": "stream",
     "text": [
      "<class 'pandas.core.frame.DataFrame'>\n",
      "RangeIndex: 1224 entries, 0 to 1223\n",
      "Data columns (total 57 columns):\n",
      " #   Column                       Non-Null Count  Dtype  \n",
      "---  ------                       --------------  -----  \n",
      " 0   alternance                   1224 non-null   bool   \n",
      " 1   appellationlibelle           1224 non-null   object \n",
      " 2   competences                  1224 non-null   object \n",
      " 3   dateActualisation            1224 non-null   object \n",
      " 4   dateCreation                 1224 non-null   object \n",
      " 5   description                  1224 non-null   object \n",
      " 6   dureeTravailLibelleConverti  1224 non-null   object \n",
      " 7   experienceCommentaire        246 non-null    object \n",
      " 8   experienceExige              1224 non-null   object \n",
      " 9   experienceLibelle            1224 non-null   object \n",
      " 10  formations                   1224 non-null   object \n",
      " 11  id                           1224 non-null   object \n",
      " 12  intitule                     1224 non-null   object \n",
      " 13  langues                      1224 non-null   object \n",
      " 14  natureContrat                1224 non-null   object \n",
      " 15  nombrePostes                 1224 non-null   int64  \n",
      " 16  qualificationCode            1224 non-null   object \n",
      " 17  qualificationLibelle         448 non-null    object \n",
      " 18  romeCode                     1224 non-null   object \n",
      " 19  romeLibelle                  1224 non-null   object \n",
      " 20  typeContrat                  1224 non-null   object \n",
      " 21  typeContratLibelle           1224 non-null   object \n",
      " 22  entreprise.nom               533 non-null    object \n",
      " 23  lieuTravail.codePostal       1074 non-null   float64\n",
      " 24  lieuTravail.commune          1111 non-null   float64\n",
      " 25  lieuTravail.latitude         1128 non-null   float64\n",
      " 26  lieuTravail.libelle          1224 non-null   object \n",
      " 27  lieuTravail.longitude        1128 non-null   float64\n",
      " 28  origineOffre.origine         1224 non-null   int64  \n",
      " 29  origineOffre.partenaires     1224 non-null   object \n",
      " 30  origineOffre.urlOrigine      1224 non-null   object \n",
      " 31  salaire.libelle              293 non-null    object \n",
      " 32  accessibleTH                 291 non-null    object \n",
      " 33  dureeTravailLibelle          299 non-null    object \n",
      " 34  qualitesProfessionnelles     193 non-null    object \n",
      " 35  secteurActivite              344 non-null    float64\n",
      " 36  secteurActiviteLibelle       344 non-null    object \n",
      " 37  trancheEffectifEtab          211 non-null    object \n",
      " 38  contact.coordonnees1         249 non-null    object \n",
      " 39  contact.courriel             170 non-null    object \n",
      " 40  contact.nom                  240 non-null    object \n",
      " 41  entreprise.description       193 non-null    object \n",
      " 42  entreprise.logo              100 non-null    object \n",
      " 43  entreprise.url               163 non-null    object \n",
      " 44  deplacementCode              50 non-null     float64\n",
      " 45  deplacementLibelle           50 non-null     object \n",
      " 46  contact.urlPostulation       35 non-null     object \n",
      " 47  salaire.commentaire          172 non-null    object \n",
      " 48  salaire.complement1          129 non-null    object \n",
      " 49  salaire.complement2          43 non-null     object \n",
      " 50  agence.courriel              36 non-null     object \n",
      " 51  contact.coordonnees2         44 non-null     object \n",
      " 52  contact.coordonnees3         39 non-null     object \n",
      " 53  permis                       21 non-null     object \n",
      " 54  complementExercice           3 non-null      object \n",
      " 55  contact.commentaire          8 non-null      object \n",
      " 56  contact.telephone            1 non-null      float64\n",
      "dtypes: bool(1), float64(7), int64(2), object(47)\n",
      "memory usage: 536.8+ KB\n"
     ]
    }
   ],
   "source": [
    "df_jobs.info()"
   ]
  },
  {
   "cell_type": "code",
   "execution_count": 6,
   "metadata": {},
   "outputs": [
    {
     "data": {
      "text/plain": [
       "alternance                      0.000000\n",
       "appellationlibelle              0.000000\n",
       "competences                     0.000000\n",
       "dateActualisation               0.000000\n",
       "dateCreation                    0.000000\n",
       "description                     0.000000\n",
       "dureeTravailLibelleConverti     0.000000\n",
       "experienceCommentaire          79.901961\n",
       "experienceExige                 0.000000\n",
       "experienceLibelle               0.000000\n",
       "formations                      0.000000\n",
       "id                              0.000000\n",
       "intitule                        0.000000\n",
       "langues                         0.000000\n",
       "natureContrat                   0.000000\n",
       "nombrePostes                    0.000000\n",
       "qualificationCode               0.000000\n",
       "qualificationLibelle           63.398693\n",
       "romeCode                        0.000000\n",
       "romeLibelle                     0.000000\n",
       "typeContrat                     0.000000\n",
       "typeContratLibelle              0.000000\n",
       "entreprise.nom                 56.454248\n",
       "lieuTravail.codePostal         12.254902\n",
       "lieuTravail.commune             9.232026\n",
       "lieuTravail.latitude            7.843137\n",
       "lieuTravail.libelle             0.000000\n",
       "lieuTravail.longitude           7.843137\n",
       "origineOffre.origine            0.000000\n",
       "origineOffre.partenaires        0.000000\n",
       "origineOffre.urlOrigine         0.000000\n",
       "salaire.libelle                76.062092\n",
       "accessibleTH                   76.225490\n",
       "dureeTravailLibelle            75.571895\n",
       "qualitesProfessionnelles       84.232026\n",
       "secteurActivite                71.895425\n",
       "secteurActiviteLibelle         71.895425\n",
       "trancheEffectifEtab            82.761438\n",
       "contact.coordonnees1           79.656863\n",
       "contact.courriel               86.111111\n",
       "contact.nom                    80.392157\n",
       "entreprise.description         84.232026\n",
       "entreprise.logo                91.830065\n",
       "entreprise.url                 86.683007\n",
       "deplacementCode                95.915033\n",
       "deplacementLibelle             95.915033\n",
       "contact.urlPostulation         97.140523\n",
       "salaire.commentaire            85.947712\n",
       "salaire.complement1            89.460784\n",
       "salaire.complement2            96.486928\n",
       "agence.courriel                97.058824\n",
       "contact.coordonnees2           96.405229\n",
       "contact.coordonnees3           96.813725\n",
       "permis                         98.284314\n",
       "complementExercice             99.754902\n",
       "contact.commentaire            99.346405\n",
       "contact.telephone              99.918301\n",
       "dtype: float64"
      ]
     },
     "execution_count": 6,
     "metadata": {},
     "output_type": "execute_result"
    }
   ],
   "source": [
    "(df_jobs.isna().sum()/len(df_jobs))*100"
   ]
  },
  {
   "cell_type": "code",
   "execution_count": null,
   "metadata": {},
   "outputs": [],
   "source": []
  }
 ],
 "metadata": {
  "kernelspec": {
   "display_name": "PyCharm (Python (default))",
   "language": "python",
   "name": "pycharm-9d3ed5e2"
  },
  "language_info": {
   "codemirror_mode": {
    "name": "ipython",
    "version": 3
   },
   "file_extension": ".py",
   "mimetype": "text/x-python",
   "name": "python",
   "nbconvert_exporter": "python",
   "pygments_lexer": "ipython3",
   "version": "3.7.7"
  }
 },
 "nbformat": 4,
 "nbformat_minor": 4
}
