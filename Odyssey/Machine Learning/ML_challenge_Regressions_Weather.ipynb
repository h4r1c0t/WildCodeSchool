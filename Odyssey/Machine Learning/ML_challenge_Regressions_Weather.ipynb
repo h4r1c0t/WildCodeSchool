{
  "nbformat": 4,
  "nbformat_minor": 0,
  "metadata": {
    "colab": {
      "name": "ML - challenge - Regressions - Weather.ipynb",
      "provenance": [],
      "collapsed_sections": [],
      "include_colab_link": true
    },
    "kernelspec": {
      "name": "python3",
      "display_name": "Python 3"
    }
  },
  "cells": [
    {
      "cell_type": "markdown",
      "metadata": {
        "id": "view-in-github",
        "colab_type": "text"
      },
      "source": [
        "<a href=\"https://colab.research.google.com/github/h4r1c0t/WildCodeSchool/blob/master/Odyssey/Machine%20Learning/ML_challenge_Regressions_Weather.ipynb\" target=\"_parent\"><img src=\"https://colab.research.google.com/assets/colab-badge.svg\" alt=\"Open In Colab\"/></a>"
      ]
    },
    {
      "cell_type": "markdown",
      "metadata": {
        "id": "HOwQ62ZHNfoL",
        "colab_type": "text"
      },
      "source": [
        "# Execute the code below"
      ]
    },
    {
      "cell_type": "code",
      "metadata": {
        "id": "cQtq-iEuNTCE",
        "colab_type": "code",
        "outputId": "fb4235dc-9d96-431d-b0a8-f19d53f0c44b",
        "colab": {
          "base_uri": "https://localhost:8080/",
          "height": 255
        }
      },
      "source": [
        "import pandas as pd\n",
        "import numpy as np\n",
        "link_main = \"https://raw.githubusercontent.com/murpi/wilddata/master/quests/weather_main_2018.csv\"\n",
        "link_opinion = \"https://raw.githubusercontent.com/murpi/wilddata/master/quests/weather_opinion_2018.csv\"\n",
        "df_main = pd.read_csv(link_main)\n",
        "df_opinion = pd.read_csv(link_opinion)\n",
        "print(df_main.head())\n",
        "print(df_opinion.head())"
      ],
      "execution_count": 0,
      "outputs": [
        {
          "output_type": "stream",
          "text": [
            "         DATE  MAX_TEMPERATURE_C  ...  DEWPOINT_MAX_C  WINDTEMP_MAX_C\n",
            "0  2018-01-01                 12  ...               8               7\n",
            "1  2018-01-02                 13  ...              12               6\n",
            "2  2018-01-03                 15  ...              13               7\n",
            "3  2018-01-04                 14  ...              12              10\n",
            "4  2018-01-05                 12  ...              10               7\n",
            "\n",
            "[5 rows x 15 columns]\n",
            "         date  WEATHER_CODE_EVENING  TOTAL_SNOW_MM  UV_INDEX  SUNHOUR OPINION\n",
            "0  2018-01-01                   113              0         3      5.1     bad\n",
            "1  2018-03-12                   119              0         2      8.8     bad\n",
            "2  2018-03-09                   116              0         3     10.2     bad\n",
            "3  2018-10-07                   122              0         1      5.6     bad\n",
            "4  2018-06-18                   119              0         1     12.9     bad\n"
          ],
          "name": "stdout"
        }
      ]
    },
    {
      "cell_type": "markdown",
      "metadata": {
        "id": "ys4dNAEWNuQi",
        "colab_type": "text"
      },
      "source": [
        "# Merge\n",
        "First of all, you have to merge both DataFrames to have a bien \"df2018\" DataFrame with 365 rows and 20 columns (indeed, you can drop the date column in double).\n",
        "\n"
      ]
    },
    {
      "cell_type": "code",
      "metadata": {
        "id": "n2d3_LJUOTWP",
        "colab_type": "code",
        "colab": {}
      },
      "source": [
        "# Your code here :"
      ],
      "execution_count": 0,
      "outputs": []
    },
    {
      "cell_type": "markdown",
      "metadata": {
        "id": "QAGXuKFWOVQo",
        "colab_type": "text"
      },
      "source": [
        "# Linear regresssion\n",
        "There are some missing values in the \"Sunhour\" column, and you want to fill them.\n",
        "\n",
        "First, you have to split the DataFrame to have :\n",
        "- a DF with only rows without NaN, you'll call it \"df_clean\"\n",
        "- a DF with only rows with NaN in the Sunhour column (The rows you want to fill), you'll call it \"df_nan\"\n"
      ]
    },
    {
      "cell_type": "code",
      "metadata": {
        "id": "5zSWb0_ZPOmr",
        "colab_type": "code",
        "colab": {}
      },
      "source": [
        "# Your code here :"
      ],
      "execution_count": 0,
      "outputs": []
    },
    {
      "cell_type": "markdown",
      "metadata": {
        "id": "WaI6fXfrPQTQ",
        "colab_type": "text"
      },
      "source": [
        "## Now, train your model\n",
        "With scikit-learn, find the multivariate linear regression model with the best score (remember to train-test-split your DataFrame \"df_clean\" before!).\n",
        "\n",
        "Print the R2-score for the test set."
      ]
    },
    {
      "cell_type": "code",
      "metadata": {
        "id": "RYg2aiBnPmQO",
        "colab_type": "code",
        "colab": {}
      },
      "source": [
        "# Your code here"
      ],
      "execution_count": 0,
      "outputs": []
    },
    {
      "cell_type": "markdown",
      "metadata": {
        "id": "c8oMykbkPnln",
        "colab_type": "text"
      },
      "source": [
        "## Predictions\n",
        "Predict the sunhours values for your DF \"df_nan\"."
      ]
    },
    {
      "cell_type": "code",
      "metadata": {
        "id": "C9v8hZkDQQeC",
        "colab_type": "code",
        "colab": {}
      },
      "source": [
        "# Your code here :"
      ],
      "execution_count": 0,
      "outputs": []
    },
    {
      "cell_type": "markdown",
      "metadata": {
        "id": "HTBZvFyIQhHo",
        "colab_type": "text"
      },
      "source": [
        "## Concatenate and scatterplot\n",
        "\n",
        "Concatenate both DataFrames to a new one \"df2018complete\", and draw a scatterplot with Date on X-axis and Sunhours on Y-axis."
      ]
    },
    {
      "cell_type": "code",
      "metadata": {
        "id": "35B7SggmQy_C",
        "colab_type": "code",
        "colab": {}
      },
      "source": [
        "# Your code here"
      ],
      "execution_count": 0,
      "outputs": []
    }
  ]
}