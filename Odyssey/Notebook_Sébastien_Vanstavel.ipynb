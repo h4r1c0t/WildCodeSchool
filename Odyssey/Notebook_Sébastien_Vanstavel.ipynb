{
  "nbformat": 4,
  "nbformat_minor": 0,
  "metadata": {
    "colab": {
      "name": "Notebook Sébastien Vanstavel.ipynb",
      "provenance": [],
      "collapsed_sections": [],
      "authorship_tag": "ABX9TyNUEEtgBufs/hlDYCPzXMf9",
      "include_colab_link": true
    },
    "kernelspec": {
      "name": "python3",
      "display_name": "Python 3"
    },
    "accelerator": "GPU"
  },
  "cells": [
    {
      "cell_type": "markdown",
      "metadata": {
        "id": "view-in-github",
        "colab_type": "text"
      },
      "source": [
        "<a href=\"https://colab.research.google.com/github/h4r1c0t/WildCodeSchool/blob/master/Odyssey/Notebook_S%C3%A9bastien_Vanstavel.ipynb\" target=\"_parent\"><img src=\"https://colab.research.google.com/assets/colab-badge.svg\" alt=\"Open In Colab\"/></a>"
      ]
    },
    {
      "cell_type": "markdown",
      "metadata": {
        "id": "6ce58mppyEBC",
        "colab_type": "text"
      },
      "source": [
        "**Version de python :**"
      ]
    },
    {
      "cell_type": "code",
      "metadata": {
        "id": "EygbSRAKx9SE",
        "colab_type": "code",
        "outputId": "6f108628-7589-4747-c282-1918d08dfdf9",
        "colab": {
          "base_uri": "https://localhost:8080/",
          "height": 51
        }
      },
      "source": [
        "import sys\n",
        "print(sys.version)"
      ],
      "execution_count": 0,
      "outputs": [
        {
          "output_type": "stream",
          "text": [
            "3.6.9 (default, Nov  7 2019, 10:44:02) \n",
            "[GCC 8.3.0]\n"
          ],
          "name": "stdout"
        }
      ]
    },
    {
      "cell_type": "markdown",
      "metadata": {
        "id": "zbFH2MTYzIAX",
        "colab_type": "text"
      },
      "source": [
        "**Pandas :**\n",
        "\n",
        "*Version :*\n"
      ]
    },
    {
      "cell_type": "code",
      "metadata": {
        "id": "XZIrdYDOzIP_",
        "colab_type": "code",
        "outputId": "4d25adc7-f045-470e-9c43-1eed94efde1a",
        "colab": {
          "base_uri": "https://localhost:8080/",
          "height": 34
        }
      },
      "source": [
        "import pandas as pd\n",
        "pd.__version__"
      ],
      "execution_count": 0,
      "outputs": [
        {
          "output_type": "execute_result",
          "data": {
            "text/plain": [
              "'0.25.3'"
            ]
          },
          "metadata": {
            "tags": []
          },
          "execution_count": 3
        }
      ]
    },
    {
      "cell_type": "markdown",
      "metadata": {
        "id": "l9U5C0eO34HH",
        "colab_type": "text"
      },
      "source": [
        "*Update :*"
      ]
    },
    {
      "cell_type": "code",
      "metadata": {
        "id": "B6iTU7y434en",
        "colab_type": "code",
        "outputId": "57fa20fe-87f8-445e-c374-363022dd5234",
        "colab": {
          "base_uri": "https://localhost:8080/",
          "height": 102
        }
      },
      "source": [
        "!pip install pandas==1.0.2"
      ],
      "execution_count": 0,
      "outputs": [
        {
          "output_type": "stream",
          "text": [
            "Requirement already satisfied: pandas==1.0.2 in /usr/local/lib/python3.6/dist-packages (1.0.2)\n",
            "Requirement already satisfied: python-dateutil>=2.6.1 in /usr/local/lib/python3.6/dist-packages (from pandas==1.0.2) (2.6.1)\n",
            "Requirement already satisfied: numpy>=1.13.3 in /usr/local/lib/python3.6/dist-packages (from pandas==1.0.2) (1.17.5)\n",
            "Requirement already satisfied: pytz>=2017.2 in /usr/local/lib/python3.6/dist-packages (from pandas==1.0.2) (2018.9)\n",
            "Requirement already satisfied: six>=1.5 in /usr/local/lib/python3.6/dist-packages (from python-dateutil>=2.6.1->pandas==1.0.2) (1.12.0)\n"
          ],
          "name": "stdout"
        }
      ]
    },
    {
      "cell_type": "markdown",
      "metadata": {
        "id": "3pQRC8B339yW",
        "colab_type": "text"
      },
      "source": [
        "*Version :*"
      ]
    },
    {
      "cell_type": "code",
      "metadata": {
        "id": "SDaapqV9396w",
        "colab_type": "code",
        "outputId": "5fb96ee8-9cdb-4ea7-ddc7-f4ce03973210",
        "colab": {
          "base_uri": "https://localhost:8080/",
          "height": 34
        }
      },
      "source": [
        "import pandas as pd\n",
        "pd.__version__"
      ],
      "execution_count": 0,
      "outputs": [
        {
          "output_type": "execute_result",
          "data": {
            "text/plain": [
              "'0.25.3'"
            ]
          },
          "metadata": {
            "tags": []
          },
          "execution_count": 2
        }
      ]
    },
    {
      "cell_type": "markdown",
      "metadata": {
        "id": "IWlZaLb44Eh0",
        "colab_type": "text"
      },
      "source": [
        "**Some Equations :**\n",
        "\n",
        "*Need Help equation :*\n",
        "\n",
        "$06.e^4\\pi \\sqrt7 \\sin \\pi. \\phi \\int^4_{-2} xdx.e^{-l} lne $\n",
        "\n",
        "*Boltzmann's equation :*\n",
        "\n",
        "$\\frac{\\theta f}{\\theta t} + v.xf-\\int_{R^3}\\int_{S^2}|v - v_*|[f(v')f(v'_*) - f(v)f(v')]dv_*d\\theta$\n",
        "\n",
        "$S = -\\int\\int flogfdxdv$\n"
      ]
    },
    {
      "cell_type": "markdown",
      "metadata": {
        "id": "onErh8Fz525t",
        "colab_type": "text"
      },
      "source": [
        "**Image GPU :**\n",
        "\n",
        "![GPU](https://drive.google.com/uc?id=144yu47JimU7eM3O67cUGCD2IEsog4dge)\n",
        "\n"
      ]
    },
    {
      "cell_type": "code",
      "metadata": {
        "colab_type": "code",
        "id": "jJiafXqV22Xv",
        "outputId": "0bb61eb9-56e3-493b-b24d-2aecaed891f0",
        "colab": {
          "base_uri": "https://localhost:8080/",
          "height": 421
        }
      },
      "source": [
        "from IPython.display import YouTubeVideo\n",
        "YouTubeVideo('XZysgIslP2A', width=600, height=400)"
      ],
      "execution_count": 0,
      "outputs": [
        {
          "output_type": "execute_result",
          "data": {
            "text/html": [
              "\n",
              "        <iframe\n",
              "            width=\"600\"\n",
              "            height=\"400\"\n",
              "            src=\"https://www.youtube.com/embed/XZysgIslP2A\"\n",
              "            frameborder=\"0\"\n",
              "            allowfullscreen\n",
              "        ></iframe>\n",
              "        "
            ],
            "text/plain": [
              "<IPython.lib.display.YouTubeVideo at 0x7f8d66f157b8>"
            ],
            "image/jpeg": "[encoded data removed]"
          },
          "metadata": {
            "tags": []
          },
          "execution_count": 3
        }
      ]
    }
  ]
}