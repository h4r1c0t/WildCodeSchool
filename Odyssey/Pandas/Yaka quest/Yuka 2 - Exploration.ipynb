{
 "nbformat": 4,
 "nbformat_minor": 0,
 "metadata": {
  "kernelspec": {
   "name": "pycharm-9d3ed5e2",
   "language": "python",
   "display_name": "PyCharm (Python (default))"
  },
  "language_info": {
   "codemirror_mode": {
    "name": "ipython",
    "version": 3
   },
   "file_extension": ".py",
   "mimetype": "text/x-python",
   "name": "python",
   "nbconvert_exporter": "python",
   "pygments_lexer": "ipython3",
   "version": "3.7.6"
  },
  "colab": {
   "name": "Yuka 2 - Exploration.ipynb",
   "provenance": [],
   "include_colab_link": true
  }
 },
 "cells": [
  {
   "cell_type": "markdown",
   "metadata": {
    "id": "view-in-github",
    "colab_type": "text"
   },
   "source": [
    "<a href=\"https://colab.research.google.com/github/h4r1c0t/WildCodeSchool/blob/master/Odyssey/Pandas/Yaka%20quest/Yuka%202%20-%20Exploration.ipynb\" target=\"_parent\"><img src=\"https://colab.research.google.com/assets/colab-badge.svg\" alt=\"Open In Colab\"/></a>"
   ]
  },
  {
   "cell_type": "markdown",
   "metadata": {
    "id": "fqTkEgq1p8_g",
    "colab_type": "text"
   },
   "source": [
    "# Yuka 2 \n",
    "## Import modules"
   ]
  },
  {
   "cell_type": "code",
   "metadata": {
    "id": "MaWJG-Lnp8_h",
    "colab_type": "code",
    "colab": {}
   },
   "source": [
    "import pandas as pd\n",
    "import numpy as np"
   ],
   "execution_count": 1,
   "outputs": []
  },
  {
   "cell_type": "code",
   "metadata": {
    "id": "p5rNXD5cqduu",
    "colab_type": "code",
    "colab": {}
   },
   "source": [
    "# # connexion avec le drive\n",
    "# from pydrive.auth import GoogleAuth\n",
    "# from pydrive.drive import GoogleDrive\n",
    "# from google.colab import auth\n",
    "# from oauth2client.client import GoogleCredentials\n",
    "#\n",
    "# auth.authenticate_user()\n",
    "# gauth = GoogleAuth()\n",
    "# gauth.credentials = GoogleCredentials.get_application_default()\n",
    "# drive = GoogleDrive(gauth)"
   ],
   "execution_count": 2,
   "outputs": []
  },
  {
   "cell_type": "markdown",
   "metadata": {
    "id": "mkspXuM7p8_k",
    "colab_type": "text"
   },
   "source": [
    "## Import dataset"
   ]
  },
  {
   "cell_type": "code",
   "metadata": {
    "id": "qmZJEeTCp8_l",
    "colab_type": "code",
    "colab": {}
   },
   "source": [
    "# # Via google drive\n",
    "# downloaded = drive.CreateFile({'id': '1CNB1kOMDVwZ15rHG2mZv0Qz6dNs2wUAw'})\n",
    "# downloaded.GetContentFile('Yuka.csv')\n",
    "# df_yuka = pd.read_csv('Yuka.csv')\n",
    "\n",
    "# Connexion en local\n",
    "path = 'D:/Google Drive/Wild Code School/Odyssey/Pandas/Yuka.csv'\n",
    "df_yuka = pd.read_csv(path)\n",
    "df_yuka.head(10)"
   ],
   "execution_count": 3,
   "outputs": [
    {
     "data": {
      "text/plain": "   Unnamed: 0                                                url  \\\n0           0  http://world-fr.openfoodfacts.org/produit/0000...   \n1           1  http://world-fr.openfoodfacts.org/produit/0000...   \n2           2  http://world-fr.openfoodfacts.org/produit/0000...   \n3           3  http://world-fr.openfoodfacts.org/produit/0000...   \n4           4  http://world-fr.openfoodfacts.org/produit/0000...   \n5           5  http://world-fr.openfoodfacts.org/produit/0000...   \n6           6  http://world-fr.openfoodfacts.org/produit/0000...   \n7           7  http://world-fr.openfoodfacts.org/produit/0000...   \n8           8  http://world-fr.openfoodfacts.org/produit/0000...   \n9           9  http://world-fr.openfoodfacts.org/produit/0000...   \n\n  last_modified_datetime                       product_name generic_name  \\\n0   2016-09-17T09:18:13Z                 Farine de blé noir          NaN   \n1   2017-03-09T14:32:37Z     Banana Chips Sweetened (Whole)          NaN   \n2   2017-03-09T14:32:37Z                            Peanuts          NaN   \n3   2017-03-09T10:35:31Z             Organic Salted Nut Mix          NaN   \n4   2017-03-09T10:34:13Z                    Organic Polenta          NaN   \n5   2017-03-09T10:34:11Z  Breadshop Honey Gone Nuts Granola          NaN   \n6   2017-03-09T10:35:30Z      Organic Long Grain White Rice          NaN   \n7   2017-03-09T10:35:12Z                     Organic Muesli          NaN   \n8   2017-03-09T10:34:11Z       Organic Dark Chocolate Minis          NaN   \n9   2017-03-09T10:34:14Z              Organic Sunflower Oil          NaN   \n\n  packaging categories categories_tags categories_fr origins  ... image_url  \\\n0       NaN        NaN             NaN           NaN     NaN  ...       NaN   \n1       NaN        NaN             NaN           NaN     NaN  ...       NaN   \n2       NaN        NaN             NaN           NaN     NaN  ...       NaN   \n3       NaN        NaN             NaN           NaN     NaN  ...       NaN   \n4       NaN        NaN             NaN           NaN     NaN  ...       NaN   \n5       NaN        NaN             NaN           NaN     NaN  ...       NaN   \n6       NaN        NaN             NaN           NaN     NaN  ...       NaN   \n7       NaN        NaN             NaN           NaN     NaN  ...       NaN   \n8       NaN        NaN             NaN           NaN     NaN  ...       NaN   \n9       NaN        NaN             NaN           NaN     NaN  ...       NaN   \n\n  energy-from-fat_100g butyric-acid_100g sucrose_100g casein_100g sodium_100g  \\\n0                  NaN               NaN          NaN         NaN         NaN   \n1                  NaN               NaN          NaN         NaN       0.000   \n2                  NaN               NaN          NaN         NaN       0.250   \n3                  NaN               NaN          NaN         NaN       0.482   \n4                  NaN               NaN          NaN         NaN         NaN   \n5                  NaN               NaN          NaN         NaN         NaN   \n6                  NaN               NaN          NaN         NaN         NaN   \n7                  NaN               NaN          NaN         NaN       0.055   \n8                  NaN               NaN          NaN         NaN         NaN   \n9                  NaN               NaN          NaN         NaN         NaN   \n\n  alcohol_100g nutrition-score-fr_100g  nutrition-score-uk_100g  \\\n0          NaN                     NaN                      NaN   \n1          NaN                    14.0                     14.0   \n2          NaN                     0.0                      0.0   \n3          NaN                    12.0                     12.0   \n4          NaN                     NaN                      NaN   \n5          NaN                     NaN                      NaN   \n6          NaN                     NaN                      NaN   \n7          NaN                     7.0                      7.0   \n8          NaN                     NaN                      NaN   \n9          NaN                     NaN                      NaN   \n\n   glycemic-index_100g  \n0                  NaN  \n1                  NaN  \n2                  NaN  \n3                  NaN  \n4                  NaN  \n5                  NaN  \n6                  NaN  \n7                  NaN  \n8                  NaN  \n9                  NaN  \n\n[10 rows x 27 columns]",
      "text/html": "<div>\n<style scoped>\n    .dataframe tbody tr th:only-of-type {\n        vertical-align: middle;\n    }\n\n    .dataframe tbody tr th {\n        vertical-align: top;\n    }\n\n    .dataframe thead th {\n        text-align: right;\n    }\n</style>\n<table border=\"1\" class=\"dataframe\">\n  <thead>\n    <tr style=\"text-align: right;\">\n      <th></th>\n      <th>Unnamed: 0</th>\n      <th>url</th>\n      <th>last_modified_datetime</th>\n      <th>product_name</th>\n      <th>generic_name</th>\n      <th>packaging</th>\n      <th>categories</th>\n      <th>categories_tags</th>\n      <th>categories_fr</th>\n      <th>origins</th>\n      <th>...</th>\n      <th>image_url</th>\n      <th>energy-from-fat_100g</th>\n      <th>butyric-acid_100g</th>\n      <th>sucrose_100g</th>\n      <th>casein_100g</th>\n      <th>sodium_100g</th>\n      <th>alcohol_100g</th>\n      <th>nutrition-score-fr_100g</th>\n      <th>nutrition-score-uk_100g</th>\n      <th>glycemic-index_100g</th>\n    </tr>\n  </thead>\n  <tbody>\n    <tr>\n      <th>0</th>\n      <td>0</td>\n      <td>http://world-fr.openfoodfacts.org/produit/0000...</td>\n      <td>2016-09-17T09:18:13Z</td>\n      <td>Farine de blé noir</td>\n      <td>NaN</td>\n      <td>NaN</td>\n      <td>NaN</td>\n      <td>NaN</td>\n      <td>NaN</td>\n      <td>NaN</td>\n      <td>...</td>\n      <td>NaN</td>\n      <td>NaN</td>\n      <td>NaN</td>\n      <td>NaN</td>\n      <td>NaN</td>\n      <td>NaN</td>\n      <td>NaN</td>\n      <td>NaN</td>\n      <td>NaN</td>\n      <td>NaN</td>\n    </tr>\n    <tr>\n      <th>1</th>\n      <td>1</td>\n      <td>http://world-fr.openfoodfacts.org/produit/0000...</td>\n      <td>2017-03-09T14:32:37Z</td>\n      <td>Banana Chips Sweetened (Whole)</td>\n      <td>NaN</td>\n      <td>NaN</td>\n      <td>NaN</td>\n      <td>NaN</td>\n      <td>NaN</td>\n      <td>NaN</td>\n      <td>...</td>\n      <td>NaN</td>\n      <td>NaN</td>\n      <td>NaN</td>\n      <td>NaN</td>\n      <td>NaN</td>\n      <td>0.000</td>\n      <td>NaN</td>\n      <td>14.0</td>\n      <td>14.0</td>\n      <td>NaN</td>\n    </tr>\n    <tr>\n      <th>2</th>\n      <td>2</td>\n      <td>http://world-fr.openfoodfacts.org/produit/0000...</td>\n      <td>2017-03-09T14:32:37Z</td>\n      <td>Peanuts</td>\n      <td>NaN</td>\n      <td>NaN</td>\n      <td>NaN</td>\n      <td>NaN</td>\n      <td>NaN</td>\n      <td>NaN</td>\n      <td>...</td>\n      <td>NaN</td>\n      <td>NaN</td>\n      <td>NaN</td>\n      <td>NaN</td>\n      <td>NaN</td>\n      <td>0.250</td>\n      <td>NaN</td>\n      <td>0.0</td>\n      <td>0.0</td>\n      <td>NaN</td>\n    </tr>\n    <tr>\n      <th>3</th>\n      <td>3</td>\n      <td>http://world-fr.openfoodfacts.org/produit/0000...</td>\n      <td>2017-03-09T10:35:31Z</td>\n      <td>Organic Salted Nut Mix</td>\n      <td>NaN</td>\n      <td>NaN</td>\n      <td>NaN</td>\n      <td>NaN</td>\n      <td>NaN</td>\n      <td>NaN</td>\n      <td>...</td>\n      <td>NaN</td>\n      <td>NaN</td>\n      <td>NaN</td>\n      <td>NaN</td>\n      <td>NaN</td>\n      <td>0.482</td>\n      <td>NaN</td>\n      <td>12.0</td>\n      <td>12.0</td>\n      <td>NaN</td>\n    </tr>\n    <tr>\n      <th>4</th>\n      <td>4</td>\n      <td>http://world-fr.openfoodfacts.org/produit/0000...</td>\n      <td>2017-03-09T10:34:13Z</td>\n      <td>Organic Polenta</td>\n      <td>NaN</td>\n      <td>NaN</td>\n      <td>NaN</td>\n      <td>NaN</td>\n      <td>NaN</td>\n      <td>NaN</td>\n      <td>...</td>\n      <td>NaN</td>\n      <td>NaN</td>\n      <td>NaN</td>\n      <td>NaN</td>\n      <td>NaN</td>\n      <td>NaN</td>\n      <td>NaN</td>\n      <td>NaN</td>\n      <td>NaN</td>\n      <td>NaN</td>\n    </tr>\n    <tr>\n      <th>5</th>\n      <td>5</td>\n      <td>http://world-fr.openfoodfacts.org/produit/0000...</td>\n      <td>2017-03-09T10:34:11Z</td>\n      <td>Breadshop Honey Gone Nuts Granola</td>\n      <td>NaN</td>\n      <td>NaN</td>\n      <td>NaN</td>\n      <td>NaN</td>\n      <td>NaN</td>\n      <td>NaN</td>\n      <td>...</td>\n      <td>NaN</td>\n      <td>NaN</td>\n      <td>NaN</td>\n      <td>NaN</td>\n      <td>NaN</td>\n      <td>NaN</td>\n      <td>NaN</td>\n      <td>NaN</td>\n      <td>NaN</td>\n      <td>NaN</td>\n    </tr>\n    <tr>\n      <th>6</th>\n      <td>6</td>\n      <td>http://world-fr.openfoodfacts.org/produit/0000...</td>\n      <td>2017-03-09T10:35:30Z</td>\n      <td>Organic Long Grain White Rice</td>\n      <td>NaN</td>\n      <td>NaN</td>\n      <td>NaN</td>\n      <td>NaN</td>\n      <td>NaN</td>\n      <td>NaN</td>\n      <td>...</td>\n      <td>NaN</td>\n      <td>NaN</td>\n      <td>NaN</td>\n      <td>NaN</td>\n      <td>NaN</td>\n      <td>NaN</td>\n      <td>NaN</td>\n      <td>NaN</td>\n      <td>NaN</td>\n      <td>NaN</td>\n    </tr>\n    <tr>\n      <th>7</th>\n      <td>7</td>\n      <td>http://world-fr.openfoodfacts.org/produit/0000...</td>\n      <td>2017-03-09T10:35:12Z</td>\n      <td>Organic Muesli</td>\n      <td>NaN</td>\n      <td>NaN</td>\n      <td>NaN</td>\n      <td>NaN</td>\n      <td>NaN</td>\n      <td>NaN</td>\n      <td>...</td>\n      <td>NaN</td>\n      <td>NaN</td>\n      <td>NaN</td>\n      <td>NaN</td>\n      <td>NaN</td>\n      <td>0.055</td>\n      <td>NaN</td>\n      <td>7.0</td>\n      <td>7.0</td>\n      <td>NaN</td>\n    </tr>\n    <tr>\n      <th>8</th>\n      <td>8</td>\n      <td>http://world-fr.openfoodfacts.org/produit/0000...</td>\n      <td>2017-03-09T10:34:11Z</td>\n      <td>Organic Dark Chocolate Minis</td>\n      <td>NaN</td>\n      <td>NaN</td>\n      <td>NaN</td>\n      <td>NaN</td>\n      <td>NaN</td>\n      <td>NaN</td>\n      <td>...</td>\n      <td>NaN</td>\n      <td>NaN</td>\n      <td>NaN</td>\n      <td>NaN</td>\n      <td>NaN</td>\n      <td>NaN</td>\n      <td>NaN</td>\n      <td>NaN</td>\n      <td>NaN</td>\n      <td>NaN</td>\n    </tr>\n    <tr>\n      <th>9</th>\n      <td>9</td>\n      <td>http://world-fr.openfoodfacts.org/produit/0000...</td>\n      <td>2017-03-09T10:34:14Z</td>\n      <td>Organic Sunflower Oil</td>\n      <td>NaN</td>\n      <td>NaN</td>\n      <td>NaN</td>\n      <td>NaN</td>\n      <td>NaN</td>\n      <td>NaN</td>\n      <td>...</td>\n      <td>NaN</td>\n      <td>NaN</td>\n      <td>NaN</td>\n      <td>NaN</td>\n      <td>NaN</td>\n      <td>NaN</td>\n      <td>NaN</td>\n      <td>NaN</td>\n      <td>NaN</td>\n      <td>NaN</td>\n    </tr>\n  </tbody>\n</table>\n<p>10 rows × 27 columns</p>\n</div>"
     },
     "execution_count": 3,
     "metadata": {},
     "output_type": "execute_result"
    }
   ]
  },
  {
   "cell_type": "markdown",
   "metadata": {
    "id": "MPYYRQVlp8_o",
    "colab_type": "text"
   },
   "source": [
    "## Describe dataset"
   ]
  },
  {
   "cell_type": "code",
   "metadata": {
    "id": "SbIPSEiKp8_r",
    "colab_type": "code",
    "colab": {}
   },
   "source": [
    "df_yuka.drop('Unnamed: 0', axis = 1, inplace = True)\n"
   ],
   "execution_count": 4,
   "outputs": []
  },
  {
   "cell_type": "code",
   "metadata": {
    "id": "vWfCxlynp8_o",
    "colab_type": "code",
    "colab": {
     "base_uri": "https://localhost:8080/",
     "height": 476
    },
    "outputId": "73d0d0a4-4876-44c8-e465-49b80a350394"
   },
   "source": [
    "# Columns filling rate:\n",
    "fill_col = round(df_yuka.count()/df_yuka.shape[0]*100)\n",
    "fill_col"
   ],
   "execution_count": 10,
   "outputs": [
    {
     "data": {
      "text/plain": "url                        100.0\nlast_modified_datetime     100.0\nproduct_name                94.0\ngeneric_name                16.0\npackaging                   25.0\ncategories                  26.0\ncategories_tags             26.0\ncategories_fr               26.0\norigins                      7.0\ncountries_fr               100.0\ningredients_text            78.0\npnns_groups_1               29.0\npnns_groups_2               29.0\nstates_fr                  100.0\nmain_category               26.0\nmain_category_fr            26.0\nimage_url                   24.0\nenergy-from-fat_100g         0.0\nbutyric-acid_100g            0.0\nsucrose_100g                 0.0\ncasein_100g                  0.0\nsodium_100g                 80.0\nalcohol_100g                 1.0\nnutrition-score-fr_100g     69.0\nnutrition-score-uk_100g     69.0\nglycemic-index_100g          0.0\ndtype: float64"
     },
     "execution_count": 10,
     "metadata": {},
     "output_type": "execute_result"
    }
   ]
  },
  {
   "cell_type": "code",
   "execution_count": 14,
   "outputs": [
    {
     "name": "stdout",
     "output_type": "stream",
     "text": [
      "<class 'pandas.core.frame.DataFrame'>\n",
      "RangeIndex: 320772 entries, 0 to 320771\n",
      "Data columns (total 9 columns):\n",
      " #   Column                   Non-Null Count   Dtype  \n",
      "---  ------                   --------------   -----  \n",
      " 0   url                      320749 non-null  object \n",
      " 1   last_modified_datetime   320772 non-null  object \n",
      " 2   product_name             303010 non-null  object \n",
      " 3   countries_fr             320492 non-null  object \n",
      " 4   ingredients_text         248962 non-null  object \n",
      " 5   states_fr                320726 non-null  object \n",
      " 6   sodium_100g              255463 non-null  float64\n",
      " 7   nutrition-score-fr_100g  221210 non-null  float64\n",
      " 8   nutrition-score-uk_100g  221210 non-null  float64\n",
      "dtypes: float64(3), object(6)\n",
      "memory usage: 22.0+ MB\n"
     ]
    }
   ],
   "source": [
    "# Keep col with filling rate > 60%\n",
    "df_yuka = df_yuka.loc[:, [key for key, value in fill_col.items() if value >= 60]]\n",
    "df_yuka.info()"
   ],
   "metadata": {
    "collapsed": false,
    "pycharm": {
     "name": "#%%\n"
    }
   }
  },
  {
   "cell_type": "code",
   "execution_count": 16,
   "outputs": [
    {
     "data": {
      "text/plain": "                                                      url  \\\ncount                                              320749   \nunique                                             320749   \ntop     http://world-fr.openfoodfacts.org/produit/5021...   \nfreq                                                    1   \nmean                                                  NaN   \nstd                                                   NaN   \nmin                                                   NaN   \n25%                                                   NaN   \n50%                                                   NaN   \n75%                                                   NaN   \nmax                                                   NaN   \n\n       last_modified_datetime product_name countries_fr  \\\ncount                  320772       303010       320492   \nunique                 180495       221347          722   \ntop      2015-08-09T17:35:42Z    Ice Cream   États-Unis   \nfreq                       33          410       172998   \nmean                      NaN          NaN          NaN   \nstd                       NaN          NaN          NaN   \nmin                       NaN          NaN          NaN   \n25%                       NaN          NaN          NaN   \n50%                       NaN          NaN          NaN   \n75%                       NaN          NaN          NaN   \nmax                       NaN          NaN          NaN   \n\n                         ingredients_text  \\\ncount                              248962   \nunique                             205520   \ntop     Carbonated water, natural flavor.   \nfreq                                  222   \nmean                                  NaN   \nstd                                   NaN   \nmin                                   NaN   \n25%                                   NaN   \n50%                                   NaN   \n75%                                   NaN   \nmax                                   NaN   \n\n                                                states_fr    sodium_100g  \\\ncount                                              320726  255463.000000   \nunique                                               1021            NaN   \ntop     A compléter,Informations nutritionnelles compl...            NaN   \nfreq                                               168905            NaN   \nmean                                                  NaN       0.798815   \nstd                                                   NaN      50.504428   \nmin                                                   NaN       0.000000   \n25%                                                   NaN       0.025000   \n50%                                                   NaN       0.229000   \n75%                                                   NaN       0.541000   \nmax                                                   NaN   25320.000000   \n\n        nutrition-score-fr_100g  nutrition-score-uk_100g  \ncount             221210.000000            221210.000000  \nunique                      NaN                      NaN  \ntop                         NaN                      NaN  \nfreq                        NaN                      NaN  \nmean                   9.165535                 9.058049  \nstd                    9.055903                 9.183589  \nmin                  -15.000000               -15.000000  \n25%                    1.000000                 1.000000  \n50%                   10.000000                 9.000000  \n75%                   16.000000                16.000000  \nmax                   40.000000                40.000000  ",
      "text/html": "<div>\n<style scoped>\n    .dataframe tbody tr th:only-of-type {\n        vertical-align: middle;\n    }\n\n    .dataframe tbody tr th {\n        vertical-align: top;\n    }\n\n    .dataframe thead th {\n        text-align: right;\n    }\n</style>\n<table border=\"1\" class=\"dataframe\">\n  <thead>\n    <tr style=\"text-align: right;\">\n      <th></th>\n      <th>url</th>\n      <th>last_modified_datetime</th>\n      <th>product_name</th>\n      <th>countries_fr</th>\n      <th>ingredients_text</th>\n      <th>states_fr</th>\n      <th>sodium_100g</th>\n      <th>nutrition-score-fr_100g</th>\n      <th>nutrition-score-uk_100g</th>\n    </tr>\n  </thead>\n  <tbody>\n    <tr>\n      <th>count</th>\n      <td>320749</td>\n      <td>320772</td>\n      <td>303010</td>\n      <td>320492</td>\n      <td>248962</td>\n      <td>320726</td>\n      <td>255463.000000</td>\n      <td>221210.000000</td>\n      <td>221210.000000</td>\n    </tr>\n    <tr>\n      <th>unique</th>\n      <td>320749</td>\n      <td>180495</td>\n      <td>221347</td>\n      <td>722</td>\n      <td>205520</td>\n      <td>1021</td>\n      <td>NaN</td>\n      <td>NaN</td>\n      <td>NaN</td>\n    </tr>\n    <tr>\n      <th>top</th>\n      <td>http://world-fr.openfoodfacts.org/produit/5021...</td>\n      <td>2015-08-09T17:35:42Z</td>\n      <td>Ice Cream</td>\n      <td>États-Unis</td>\n      <td>Carbonated water, natural flavor.</td>\n      <td>A compléter,Informations nutritionnelles compl...</td>\n      <td>NaN</td>\n      <td>NaN</td>\n      <td>NaN</td>\n    </tr>\n    <tr>\n      <th>freq</th>\n      <td>1</td>\n      <td>33</td>\n      <td>410</td>\n      <td>172998</td>\n      <td>222</td>\n      <td>168905</td>\n      <td>NaN</td>\n      <td>NaN</td>\n      <td>NaN</td>\n    </tr>\n    <tr>\n      <th>mean</th>\n      <td>NaN</td>\n      <td>NaN</td>\n      <td>NaN</td>\n      <td>NaN</td>\n      <td>NaN</td>\n      <td>NaN</td>\n      <td>0.798815</td>\n      <td>9.165535</td>\n      <td>9.058049</td>\n    </tr>\n    <tr>\n      <th>std</th>\n      <td>NaN</td>\n      <td>NaN</td>\n      <td>NaN</td>\n      <td>NaN</td>\n      <td>NaN</td>\n      <td>NaN</td>\n      <td>50.504428</td>\n      <td>9.055903</td>\n      <td>9.183589</td>\n    </tr>\n    <tr>\n      <th>min</th>\n      <td>NaN</td>\n      <td>NaN</td>\n      <td>NaN</td>\n      <td>NaN</td>\n      <td>NaN</td>\n      <td>NaN</td>\n      <td>0.000000</td>\n      <td>-15.000000</td>\n      <td>-15.000000</td>\n    </tr>\n    <tr>\n      <th>25%</th>\n      <td>NaN</td>\n      <td>NaN</td>\n      <td>NaN</td>\n      <td>NaN</td>\n      <td>NaN</td>\n      <td>NaN</td>\n      <td>0.025000</td>\n      <td>1.000000</td>\n      <td>1.000000</td>\n    </tr>\n    <tr>\n      <th>50%</th>\n      <td>NaN</td>\n      <td>NaN</td>\n      <td>NaN</td>\n      <td>NaN</td>\n      <td>NaN</td>\n      <td>NaN</td>\n      <td>0.229000</td>\n      <td>10.000000</td>\n      <td>9.000000</td>\n    </tr>\n    <tr>\n      <th>75%</th>\n      <td>NaN</td>\n      <td>NaN</td>\n      <td>NaN</td>\n      <td>NaN</td>\n      <td>NaN</td>\n      <td>NaN</td>\n      <td>0.541000</td>\n      <td>16.000000</td>\n      <td>16.000000</td>\n    </tr>\n    <tr>\n      <th>max</th>\n      <td>NaN</td>\n      <td>NaN</td>\n      <td>NaN</td>\n      <td>NaN</td>\n      <td>NaN</td>\n      <td>NaN</td>\n      <td>25320.000000</td>\n      <td>40.000000</td>\n      <td>40.000000</td>\n    </tr>\n  </tbody>\n</table>\n</div>"
     },
     "execution_count": 16,
     "metadata": {},
     "output_type": "execute_result"
    }
   ],
   "source": [
    "df_yuka.describe(include = ['object', 'float'])\n"
   ],
   "metadata": {
    "collapsed": false,
    "pycharm": {
     "name": "#%%\n"
    }
   }
  }
 ]
}