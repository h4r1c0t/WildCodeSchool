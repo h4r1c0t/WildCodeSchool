{
 "nbformat": 4,
 "nbformat_minor": 0,
 "metadata": {
  "kernelspec": {
   "name": "pycharm-9d3ed5e2",
   "language": "python",
   "display_name": "PyCharm (Python (default))"
  },
  "language_info": {
   "codemirror_mode": {
    "name": "ipython",
    "version": 3
   },
   "file_extension": ".py",
   "mimetype": "text/x-python",
   "name": "python",
   "nbconvert_exporter": "python",
   "pygments_lexer": "ipython3",
   "version": "3.7.6"
  },
  "colab": {
   "name": "Yuka 2 - Exploration.ipynb",
   "provenance": [],
   "include_colab_link": true
  }
 },
 "cells": [
  {
   "cell_type": "markdown",
   "metadata": {
    "id": "view-in-github",
    "colab_type": "text"
   },
   "source": [
    "<a href=\"https://colab.research.google.com/github/h4r1c0t/WildCodeSchool/blob/master/Odyssey/Pandas/Yaka%20quest/Yuka%202%20-%20Exploration.ipynb\" target=\"_parent\"><img src=\"https://colab.research.google.com/assets/colab-badge.svg\" alt=\"Open In Colab\"/></a>"
   ]
  },
  {
   "cell_type": "markdown",
   "metadata": {
    "id": "fqTkEgq1p8_g",
    "colab_type": "text"
   },
   "source": [
    "# Yuka 2 \n",
    "## Import modules"
   ]
  },
  {
   "cell_type": "code",
   "metadata": {
    "id": "MaWJG-Lnp8_h",
    "colab_type": "code",
    "colab": {}
   },
   "source": [
    "import pandas as pd\n",
    "import numpy as np"
   ],
   "execution_count": 0,
   "outputs": []
  },
  {
   "cell_type": "code",
   "metadata": {
    "id": "p5rNXD5cqduu",
    "colab_type": "code",
    "colab": {}
   },
   "source": [
    "# # connexion avec le drive\n",
    "# from pydrive.auth import GoogleAuth\n",
    "# from pydrive.drive import GoogleDrive\n",
    "# from google.colab import auth\n",
    "# from oauth2client.client import GoogleCredentials\n",
    "#\n",
    "# auth.authenticate_user()\n",
    "# gauth = GoogleAuth()\n",
    "# gauth.credentials = GoogleCredentials.get_application_default()\n",
    "# drive = GoogleDrive(gauth)"
   ],
   "execution_count": 0,
   "outputs": []
  },
  {
   "cell_type": "markdown",
   "metadata": {
    "id": "mkspXuM7p8_k",
    "colab_type": "text"
   },
   "source": [
    "## Import dataset"
   ]
  },
  {
   "cell_type": "code",
   "metadata": {
    "id": "qmZJEeTCp8_l",
    "colab_type": "code",
    "colab": {}
   },
   "source": [
    "# # Via google drive\n",
    "# downloaded = drive.CreateFile({'id': '1CNB1kOMDVwZ15rHG2mZv0Qz6dNs2wUAw'})\n",
    "# downloaded.GetContentFile('Yuka.csv')\n",
    "# df_yuka = pd.read_csv('Yuka.csv')\n",
    "\n",
    "# Connexion en local\n",
    "df_yuka = pd.read_csv()"
   ],
   "execution_count": 0,
   "outputs": []
  },
  {
   "cell_type": "markdown",
   "metadata": {
    "id": "MPYYRQVlp8_o",
    "colab_type": "text"
   },
   "source": [
    "## Describe dataset"
   ]
  },
  {
   "cell_type": "code",
   "metadata": {
    "id": "SbIPSEiKp8_r",
    "colab_type": "code",
    "colab": {}
   },
   "source": [
    "df_yuka.drop('Unnamed: 0', axis = 1, inplace = True) "
   ],
   "execution_count": 0,
   "outputs": []
  },
  {
   "cell_type": "code",
   "metadata": {
    "id": "vWfCxlynp8_o",
    "colab_type": "code",
    "colab": {
     "base_uri": "https://localhost:8080/",
     "height": 476
    },
    "outputId": "73d0d0a4-4876-44c8-e465-49b80a350394"
   },
   "source": [
    "# Remplissage des colonnes:\n",
    "round(df_yuka.count()/df_yuka.shape[0]*100)"
   ],
   "execution_count": 15,
   "outputs": [
    {
     "output_type": "execute_result",
     "data": {
      "text/plain": [
       "url                        100.0\n",
       "last_modified_datetime     100.0\n",
       "product_name                94.0\n",
       "generic_name                16.0\n",
       "packaging                   25.0\n",
       "categories                  26.0\n",
       "categories_tags             26.0\n",
       "categories_fr               26.0\n",
       "origins                      7.0\n",
       "countries_fr               100.0\n",
       "ingredients_text            78.0\n",
       "pnns_groups_1               29.0\n",
       "pnns_groups_2               29.0\n",
       "states_fr                  100.0\n",
       "main_category               26.0\n",
       "main_category_fr            26.0\n",
       "image_url                   24.0\n",
       "energy-from-fat_100g         0.0\n",
       "butyric-acid_100g            0.0\n",
       "sucrose_100g                 0.0\n",
       "casein_100g                  0.0\n",
       "sodium_100g                 80.0\n",
       "alcohol_100g                 1.0\n",
       "nutrition-score-fr_100g     69.0\n",
       "nutrition-score-uk_100g     69.0\n",
       "glycemic-index_100g          0.0\n",
       "dtype: float64"
      ]
     },
     "metadata": {
      "tags": []
     },
     "execution_count": 15
    }
   ]
  }
 ]
}