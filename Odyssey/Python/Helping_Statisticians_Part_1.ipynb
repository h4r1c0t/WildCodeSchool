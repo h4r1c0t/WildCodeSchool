{
  "nbformat": 4,
  "nbformat_minor": 0,
  "metadata": {
    "colab": {
      "name": "Helping Statisticians - Part 1.ipynb",
      "provenance": [],
      "collapsed_sections": [],
      "include_colab_link": true
    },
    "kernelspec": {
      "name": "python3",
      "display_name": "Python 3"
    }
  },
  "cells": [
    {
      "cell_type": "markdown",
      "metadata": {
        "id": "view-in-github",
        "colab_type": "text"
      },
      "source": [
        "<a href=\"https://colab.research.google.com/github/h4r1c0t/WildCodeSchool/blob/master/Odyssey/Python/Helping_Statisticians_Part_1.ipynb\" target=\"_parent\"><img src=\"https://colab.research.google.com/assets/colab-badge.svg\" alt=\"Open In Colab\"/></a>"
      ]
    },
    {
      "cell_type": "markdown",
      "metadata": {
        "id": "co2X9cGIieV0",
        "colab_type": "text"
      },
      "source": [
        "# Help for statisticians!\n",
        "\n",
        "Your fellow statisticians need you. They want to learn how to program in Python and have tons of calculations to do.\n",
        "\n",
        "Very kindly, you agree to help them. Complete the missions below."
      ]
    },
    {
      "cell_type": "markdown",
      "metadata": {
        "id": "rvnKhKV7CVoS",
        "colab_type": "text"
      },
      "source": [
        "![Einstien le génie](https://wallup.net/wp-content/uploads/2018/09/30/201016-funny-albert-einstein-748x468.jpg)"
      ]
    },
    {
      "cell_type": "markdown",
      "metadata": {
        "id": "b3rZ49PEKZQP",
        "colab_type": "text"
      },
      "source": [
        "## Mission 1: ✔\n",
        "\n",
        "Display the message \"Hello Python\". You will need to use a str variable that is passed as a print parameter\n"
      ]
    },
    {
      "cell_type": "code",
      "metadata": {
        "id": "S4jmbgw-kWcj",
        "colab_type": "code",
        "outputId": "269d01bb-d913-49bf-96ae-472a346b8467",
        "colab": {
          "base_uri": "https://localhost:8080/",
          "height": 34
        }
      },
      "source": [
        "message = 'Hello Python'\n",
        "print(message)"
      ],
      "execution_count": 0,
      "outputs": [
        {
          "output_type": "stream",
          "text": [
            "Hello Python\n"
          ],
          "name": "stdout"
        }
      ]
    },
    {
      "cell_type": "markdown",
      "metadata": {
        "id": "w0AAHagFKOPx",
        "colab_type": "text"
      },
      "source": [
        "## Mission 2: ✔\n",
        "\n",
        "Create a function that takes in 2 numbers as parameters, and indicates whether or not they are equal.\n"
      ]
    },
    {
      "cell_type": "code",
      "metadata": {
        "id": "4rJVUEkNk5Oo",
        "colab_type": "code",
        "outputId": "e915f4b6-7fd4-4135-dda8-aa9651589b50",
        "colab": {
          "base_uri": "https://localhost:8080/",
          "height": 68
        }
      },
      "source": [
        "def equalOrNot(int1, int2):\n",
        "  if int1 == int2: \n",
        "    print('Equal')\n",
        "  else:\n",
        "    print('Not equal')\n",
        "\n",
        "equalOrNot(int(input()), int(input()))"
      ],
      "execution_count": 0,
      "outputs": [
        {
          "output_type": "stream",
          "text": [
            "12\n",
            "5\n",
            "Not equal\n"
          ],
          "name": "stdout"
        }
      ]
    },
    {
      "cell_type": "markdown",
      "metadata": {
        "id": "IfXuWhZzKhCq",
        "colab_type": "text"
      },
      "source": [
        "## Mission 3: ✔\n",
        "\n",
        "Create a function that uses a while or for loop to display the times tables of any number from 0 to 10. \n",
        "Then skip every other result.\n",
        "\n",
        "*For example if your input is 1 it will look like this: 0, 2, 4, 6, 8, 10*"
      ]
    },
    {
      "cell_type": "code",
      "metadata": {
        "id": "Q9X4m3D4h-xu",
        "colab_type": "code",
        "outputId": "440b44e0-ff55-41e4-fbb2-609d53fa4199",
        "colab": {
          "base_uri": "https://localhost:8080/",
          "height": 136
        }
      },
      "source": [
        "def timeTable(int):\n",
        "  num = 0\n",
        "  result = 0\n",
        "  while result < 10:\n",
        "    result = num * (int +1)\n",
        "    print(result)\n",
        "    num += 1\n",
        "\n",
        "timeTable(int(input()))"
      ],
      "execution_count": 0,
      "outputs": [
        {
          "output_type": "stream",
          "text": [
            "1\n",
            "0\n",
            "2\n",
            "4\n",
            "6\n",
            "8\n",
            "10\n"
          ],
          "name": "stdout"
        }
      ]
    },
    {
      "cell_type": "markdown",
      "metadata": {
        "id": "GNYYg7iSKxgJ",
        "colab_type": "text"
      },
      "source": [
        "## Mission 4: ✔\n",
        "\n",
        "Create a while loop that displays the vowels of the longest word in English one after the other (i.e. horizontally, not one above) of the other, i.e. vertically). The longest word in English is: \"antidisestablishmentarianism\"\n"
      ]
    },
    {
      "cell_type": "code",
      "metadata": {
        "id": "Fe9kZrvklI0b",
        "colab_type": "code",
        "outputId": "636e0596-cb29-4552-9f46-63b9ef7411df",
        "colab": {
          "base_uri": "https://localhost:8080/",
          "height": 34
        }
      },
      "source": [
        "def vowelsCounter(word):\n",
        "  vowels = ['a', 'e', 'i', 'o', 'u', 'y']\n",
        "  i = 0\n",
        "  while i +1 <= len(word):\n",
        "    isVowels = False\n",
        "    for k in range(len(vowels)):\n",
        "      if word[i] == vowels[k]:\n",
        "        isVowels = True\n",
        "    if isVowels:\n",
        "        print(word[i], end = \"\")\n",
        "    i += 1\n",
        "\n",
        "word = 'antidisestablishmentarianism'\n",
        "vowelsCounter(word)"
      ],
      "execution_count": 0,
      "outputs": [
        {
          "output_type": "stream",
          "text": [
            "aiieaieaiai"
          ],
          "name": "stdout"
        }
      ]
    },
    {
      "cell_type": "markdown",
      "metadata": {
        "id": "TuxaXDGFK_Pu",
        "colab_type": "text"
      },
      "source": [
        "## Mission 5: ✔\n",
        "\n",
        "Create a function that takes in 3 numbers as parameters, and carries out two operations (+, -, *, /).\n",
        "Then return the result of the applied operations. You will have to factor for a situation where division by zero is attempted.\n",
        "Display a message that indicates whether the result is positive, negative or zero.\n",
        "\n",
        "*Example operations:* \n",
        "\n",
        "0*32+2 = 2; 21/0+3 > \"Error, you're trying to divide by zero\"\n"
      ]
    },
    {
      "cell_type": "code",
      "metadata": {
        "id": "6hjrrDyUlN8o",
        "colab_type": "code",
        "outputId": "677a6a46-152d-4f83-fda6-5e1461a2ecb4",
        "colab": {
          "base_uri": "https://localhost:8080/",
          "height": 119
        }
      },
      "source": [
        "def randomOperation(int1, int2, int3):\n",
        "  if int2 == 0:\n",
        "    result2 = \"Error, you're trying to divide by zero\"\n",
        "  else: \n",
        "    result2 = int1 / int2 - int3\n",
        "  result1 = int1 * int2 + int3\n",
        "  # sens of operation #1\n",
        "  if result1 < 0:\n",
        "    sens1 = 'negatif'\n",
        "  elif result1 > 0:\n",
        "    sens1 = 'positif'\n",
        "  else:\n",
        "    sens1 = null\n",
        "  # sens of operation #2\n",
        "  if type(result2) is not str:\n",
        "    if result2 < 0:\n",
        "      sens2 = 'negatif'\n",
        "    elif result2 > 0:\n",
        "      sens2 = 'positif'\n",
        "    else:\n",
        "      sens2 = 'null'\n",
        "    print(\"{} * {} / {} = {}\".format(int1, int2, int3, result1), end = \"; \")\n",
        "    print(\"{} * {} / {} = {}\".format(int1, int2, int3, result2))\n",
        "    print(\"The first result is {}\".format(sens1))  \n",
        "    print(\"The second result is {}\".format(sens2))  \n",
        "  else:\n",
        "    print(\"{} * {} / {} = {}\".format(int1, int2, int3, result1), end = \"; \")\n",
        "    print(\"{} * {} / {} > {}\".format(int1, int2, int3, result2))\n",
        "    print(\"The first result is {}\".format(sens1))      \n",
        "\n",
        "randomOperation(6, 2, 3)\n",
        "print(\"\")\n",
        "randomOperation(4, 0, 2)"
      ],
      "execution_count": 0,
      "outputs": [
        {
          "output_type": "stream",
          "text": [
            "6 * 2 / 3 = 15; 6 * 2 / 3 = 0.0\n",
            "The first result is positif\n",
            "The second result is null\n",
            "\n",
            "4 * 0 / 2 = 2; 4 * 0 / 2 > Error, you're trying to divide by zero\n",
            "The first result is positif\n"
          ],
          "name": "stdout"
        }
      ]
    },
    {
      "cell_type": "markdown",
      "metadata": {
        "id": "WeD_A0ESK_6Z",
        "colab_type": "text"
      },
      "source": [
        "## Mission 6: ✔\n",
        "\n",
        "Create a lambda function that takes 2 numbers as parameters, and returns the result of a division operation. \n",
        "Test if the denominator is equal to 0 and if so, display a message that says: \"You can't divide by zero\".\n"
      ]
    },
    {
      "cell_type": "code",
      "metadata": {
        "id": "7b3JtuNClm4a",
        "colab_type": "code",
        "outputId": "21964e22-18df-424a-e57b-72f32a111d02",
        "colab": {
          "base_uri": "https://localhost:8080/",
          "height": 85
        }
      },
      "source": [
        "def divide_function(int1, int2):\n",
        "  if int2 == 0:\n",
        "    print(\"You can't divide by zero\")\n",
        "  else: \n",
        "    division = lambda int1, int2 : int1 / int2\n",
        "    print(division(int1, int2))\n",
        "\n",
        "divide_function(4, 2)\n",
        "divide_function(2, 4)\n",
        "divide_function(4, 0)\n",
        "divide_function(0, 4)"
      ],
      "execution_count": 0,
      "outputs": [
        {
          "output_type": "stream",
          "text": [
            "2.0\n",
            "0.5\n",
            "You can't divide by zero\n",
            "0.0\n"
          ],
          "name": "stdout"
        }
      ]
    },
    {
      "cell_type": "markdown",
      "metadata": {
        "id": "kJ0TPtUSLApo",
        "colab_type": "text"
      },
      "source": [
        "## Mission 7: ✔\n",
        "\n",
        "Create a function that takes a number as a parameter that corresponds to gross salary and returns the net salary for executives.\n",
        "\n"
      ]
    },
    {
      "cell_type": "code",
      "metadata": {
        "id": "r6DP6oTDmqfs",
        "colab_type": "code",
        "outputId": "68dec726-c117-4a13-aa84-a39fe122d22c",
        "colab": {
          "base_uri": "https://localhost:8080/",
          "height": 34
        }
      },
      "source": [
        "def gross_to_net_salary(gross):\n",
        "  gross -= gross * 23 / 100\n",
        "  print(gross, '€')\n",
        "\n",
        "gross_to_net_salary(2900)"
      ],
      "execution_count": 0,
      "outputs": [
        {
          "output_type": "stream",
          "text": [
            "2233.0 €\n"
          ],
          "name": "stdout"
        }
      ]
    },
    {
      "cell_type": "markdown",
      "metadata": {
        "id": "SgjFVbrnLBei",
        "colab_type": "text"
      },
      "source": [
        "## Mission 8: ✔\n",
        "\n",
        "Create a function that can mutate the value of 2 variables"
      ]
    },
    {
      "cell_type": "code",
      "metadata": {
        "id": "MyF5hG_hm1np",
        "colab_type": "code",
        "outputId": "5537a6cf-51d3-4c6d-ce9c-619feda8b238",
        "colab": {
          "base_uri": "https://localhost:8080/",
          "height": 85
        }
      },
      "source": [
        "def mutate(x, y):\n",
        "  x1 = input()\n",
        "  y1 = input()\n",
        "  x = x1\n",
        "  y = y1\n",
        "  return (x, y)\n",
        "\n",
        "x = 1\n",
        "y = 2\n",
        "\n",
        "(x, y) = mutate(x, y)\n",
        "\n",
        "print(x)\n",
        "print(y)"
      ],
      "execution_count": 0,
      "outputs": [
        {
          "output_type": "stream",
          "text": [
            "12\n",
            "banana\n",
            "12\n",
            "banana\n"
          ],
          "name": "stdout"
        }
      ]
    },
    {
      "cell_type": "markdown",
      "metadata": {
        "id": "CLFkEk_Fm9d4",
        "colab_type": "text"
      },
      "source": [
        "## Your colleagues are impressed. So they show you some more exercises that they're stuck on. Code your heart out, you go for it ^^"
      ]
    },
    {
      "cell_type": "markdown",
      "metadata": {
        "id": "6enP7y4TLaBs",
        "colab_type": "text"
      },
      "source": [
        "## Mission 9: ✔\n",
        "\n",
        "Create a function that takes in a day as a parameter and returns the next day (*i.e.* for Sunday it would return Monday). \n",
        "You can use lists or dictionaries to solve this."
      ]
    },
    {
      "cell_type": "code",
      "metadata": {
        "id": "pIoUqiKynBbe",
        "colab_type": "code",
        "outputId": "24eb4092-8c65-427a-cef6-b391f6e5babd",
        "colab": {
          "base_uri": "https://localhost:8080/",
          "height": 51
        }
      },
      "source": [
        "def nextDay(day):\n",
        "  days = ['Monday', 'Tuesday', 'Wednesday', 'Thursday', 'Friday', 'Saturday', 'Sunday']\n",
        "  if day == 'Sunday':\n",
        "    print(days[0])\n",
        "  else:\n",
        "    id_day = days.index(day)\n",
        "    print(days[id_day +1])\n",
        "\n",
        "nextDay('Tuesday')\n",
        "nextDay('Sunday')"
      ],
      "execution_count": 0,
      "outputs": [
        {
          "output_type": "stream",
          "text": [
            "Wednesday\n",
            "Monday\n"
          ],
          "name": "stdout"
        }
      ]
    },
    {
      "cell_type": "markdown",
      "metadata": {
        "id": "2kK5Nt6XLgma",
        "colab_type": "text"
      },
      "source": [
        "## Mission 10: ✔\n",
        "Create a function that fills an empty list with values from the following string : \n",
        "\n",
        "\"*After twelve soft showers are the arch-duchess' socks dry, arch-dry?*\""
      ]
    },
    {
      "cell_type": "code",
      "metadata": {
        "id": "68rX-Y0AnGiR",
        "colab_type": "code",
        "outputId": "b5a826a2-f98d-4375-beb1-42925ea96a80",
        "colab": {
          "base_uri": "https://localhost:8080/",
          "height": 187
        }
      },
      "source": [
        "def str_to_list(str): \n",
        "  list = str.split(\" \")\n",
        "  return list\n",
        "\n",
        "string = \"After twelve soft showers are the arch-duchess' socks dry, arch-dry?\"\n",
        "str_to_list(string)"
      ],
      "execution_count": 0,
      "outputs": [
        {
          "output_type": "execute_result",
          "data": {
            "text/plain": [
              "['After',\n",
              " 'twelve',\n",
              " 'soft',\n",
              " 'showers',\n",
              " 'are',\n",
              " 'the',\n",
              " \"arch-duchess'\",\n",
              " 'socks',\n",
              " 'dry,',\n",
              " 'arch-dry?']"
            ]
          },
          "metadata": {
            "tags": []
          },
          "execution_count": 10
        }
      ]
    },
    {
      "cell_type": "markdown",
      "metadata": {
        "id": "4wnA_utALwlN",
        "colab_type": "text"
      },
      "source": [
        "## Mission 11: ✔\n",
        "\n",
        "Create a function that takes a str as a parameter, and returns in uppercase one of two letters unless it's a consonant.\n"
      ]
    },
    {
      "cell_type": "code",
      "metadata": {
        "id": "YGNoBYBEnLAx",
        "colab_type": "code",
        "outputId": "2b19908a-9157-49ab-eada-737f3e9ee62d",
        "colab": {
          "base_uri": "https://localhost:8080/",
          "height": 34
        }
      },
      "source": [
        "def str1on2Up(str):\n",
        "  vowels = ['a', 'e', 'i', 'o', 'u', 'y']\n",
        "  s = string.lower()\n",
        "  for i in range(len(s)):\n",
        "    isVowels = False\n",
        "    if i % 2 == 0:\n",
        "      for k in range(len(vowels)):\n",
        "        if s[i] == vowels[k]:\n",
        "          isVowels = True\n",
        "      if isVowels:\n",
        "        print(s[i].upper(), end = \"\")\n",
        "      else:\n",
        "        print(s[i], end= \"\")\n",
        "    else:\n",
        "      print(s[i], end= \"\")\n",
        "\n",
        "string = \"Bonjour, je m'appelle S\"\n",
        "str1on2Up(string)"
      ],
      "execution_count": 0,
      "outputs": [
        {
          "output_type": "stream",
          "text": [
            "bonjOur, jE m'AppellE s"
          ],
          "name": "stdout"
        }
      ]
    },
    {
      "cell_type": "markdown",
      "metadata": {
        "id": "0tGw0nfaL1vw",
        "colab_type": "text"
      },
      "source": [
        "## Mission 12: ✔\n",
        "\n",
        "Create a function that uses a list to fill an empty list with string values of: \n",
        "\"Python fan\" then display the filled list\n"
      ]
    },
    {
      "cell_type": "code",
      "metadata": {
        "id": "IJCr_jvwnOCh",
        "colab_type": "code",
        "outputId": "5cf69c91-80ab-4909-868b-275b60e849e9",
        "colab": {
          "base_uri": "https://localhost:8080/",
          "height": 204
        }
      },
      "source": [
        "list1 = [\"Python fan\"] * 10\n",
        "print(list1)\n",
        "\n",
        "def fill_list(list):\n",
        "  empty_list = [0] * len(list1)\n",
        "  i = 0\n",
        "  for item in list1:\n",
        "    empty_list[i] = item\n",
        "    i += 1\n",
        "  filled_list = empty_list\n",
        "  return filled_list\n",
        "\n",
        "fill_list(list1)"
      ],
      "execution_count": 0,
      "outputs": [
        {
          "output_type": "stream",
          "text": [
            "['Python fan', 'Python fan', 'Python fan', 'Python fan', 'Python fan', 'Python fan', 'Python fan', 'Python fan', 'Python fan', 'Python fan']\n"
          ],
          "name": "stdout"
        },
        {
          "output_type": "execute_result",
          "data": {
            "text/plain": [
              "['Python fan',\n",
              " 'Python fan',\n",
              " 'Python fan',\n",
              " 'Python fan',\n",
              " 'Python fan',\n",
              " 'Python fan',\n",
              " 'Python fan',\n",
              " 'Python fan',\n",
              " 'Python fan',\n",
              " 'Python fan']"
            ]
          },
          "metadata": {
            "tags": []
          },
          "execution_count": 12
        }
      ]
    },
    {
      "cell_type": "markdown",
      "metadata": {
        "id": "pywPZqhLL8EJ",
        "colab_type": "text"
      },
      "source": [
        "## Mission 13: ✔\n",
        "Create a function that retrieves 2 inputs from the user, their date of birth and first name.\n",
        "Convert the date of birth into an int to subtract it from the current year that you can return using a certain module :-P.\n",
        "Then display the message: Hello [first name], today you are [age] years old.\n"
      ]
    },
    {
      "cell_type": "code",
      "metadata": {
        "id": "xjYGsODEnSb2",
        "colab_type": "code",
        "outputId": "22e5a010-2ef1-44ad-8a57-596903609a9f",
        "colab": {
          "base_uri": "https://localhost:8080/",
          "height": 102
        }
      },
      "source": [
        "def peopleAge():\n",
        "  print(\"What's your name?\")\n",
        "  name = input()\n",
        "  print(\"When is your birthday? (YYYY-MM-DD)\")\n",
        "  birthdate = input()\n",
        "  birthdate = birthdate.split(\"-\")\n",
        "  age = 2020 - int(birthdate[0])\n",
        "  print(\"Hello \", name, \", today you are \", age, \" years old.\", sep = \"\")\n",
        "\n",
        "peopleAge()"
      ],
      "execution_count": 0,
      "outputs": [
        {
          "output_type": "stream",
          "text": [
            "What's your name?\n",
            "Sébastien\n",
            "When is your birthday? (YYYY-MM-DD)\n",
            "1992-08-30\n",
            "Hello Sébastien, today you are 28 years old.\n"
          ],
          "name": "stdout"
        }
      ]
    }
  ]
}