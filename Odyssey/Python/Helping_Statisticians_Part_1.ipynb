{
  "nbformat": 4,
  "nbformat_minor": 0,
  "metadata": {
    "colab": {
      "name": "Helping Statisticians - Part 1.ipynb",
      "provenance": [],
      "collapsed_sections": [],
      "include_colab_link": true
    },
    "kernelspec": {
      "name": "python3",
      "display_name": "Python 3"
    }
  },
  "cells": [
    {
      "cell_type": "markdown",
      "metadata": {
        "id": "view-in-github",
        "colab_type": "text"
      },
      "source": [
        "<a href=\"https://colab.research.google.com/github/h4r1c0t/WildCodeSchool/blob/master/Odyssey/Python/Helping_Statisticians_Part_1.ipynb\" target=\"_parent\"><img src=\"https://colab.research.google.com/assets/colab-badge.svg\" alt=\"Open In Colab\"/></a>"
      ]
    },
    {
      "cell_type": "markdown",
      "metadata": {
        "id": "co2X9cGIieV0",
        "colab_type": "text"
      },
      "source": [
        "# Help for statisticians!\n",
        "\n",
        "Your fellow statisticians need you. They want to learn how to program in Python and have tons of calculations to do.\n",
        "\n",
        "Very kindly, you agree to help them. Complete the missions below."
      ]
    },
    {
      "cell_type": "markdown",
      "metadata": {
        "id": "rvnKhKV7CVoS",
        "colab_type": "text"
      },
      "source": [
        "![Einstien le génie](https://wallup.net/wp-content/uploads/2018/09/30/201016-funny-albert-einstein-748x468.jpg)"
      ]
    },
    {
      "cell_type": "markdown",
      "metadata": {
        "id": "b3rZ49PEKZQP",
        "colab_type": "text"
      },
      "source": [
        "## Mission 1: ✔\n",
        "\n",
        "Display the message \"Hello Python\". You will need to use a str variable that is passed as a print parameter\n"
      ]
    },
    {
      "cell_type": "code",
      "metadata": {
        "id": "S4jmbgw-kWcj",
        "colab_type": "code",
        "outputId": "cb5d3df1-c2c8-40b7-8142-46247adf8136",
        "colab": {
          "base_uri": "https://localhost:8080/",
          "height": 34
        }
      },
      "source": [
        "# Mission 1: Display the message \"Hello Python\". You will need to use a str variable that is passed as a print parameter\n",
        "message = 'Hello Python'\n",
        "print(message)"
      ],
      "execution_count": 0,
      "outputs": [
        {
          "output_type": "stream",
          "text": [
            "Hello Python\n"
          ],
          "name": "stdout"
        }
      ]
    },
    {
      "cell_type": "markdown",
      "metadata": {
        "id": "w0AAHagFKOPx",
        "colab_type": "text"
      },
      "source": [
        "## Mission 2: ✔\n",
        "\n",
        "Create a function that takes in 2 numbers as parameters, and indicates whether or not they are equal.\n"
      ]
    },
    {
      "cell_type": "code",
      "metadata": {
        "id": "4rJVUEkNk5Oo",
        "colab_type": "code",
        "outputId": "6f797906-ef60-4820-cfc2-376043c1c29a",
        "colab": {
          "base_uri": "https://localhost:8080/",
          "height": 68
        }
      },
      "source": [
        "def equalOrNot(int1, int2):\n",
        "  if int1 == int2: \n",
        "    print('Equal')\n",
        "  else:\n",
        "    print('Not equal')\n",
        "\n",
        "equalOrNot(int(input()), int(input()))"
      ],
      "execution_count": 0,
      "outputs": [
        {
          "output_type": "stream",
          "text": [
            "12\n",
            "13\n",
            "Not equal\n"
          ],
          "name": "stdout"
        }
      ]
    },
    {
      "cell_type": "markdown",
      "metadata": {
        "id": "IfXuWhZzKhCq",
        "colab_type": "text"
      },
      "source": [
        "## Mission 3: ✔\n",
        "\n",
        "Create a function that uses a while or for loop to display the times tables of any number from 0 to 10. \n",
        "Then skip every other result.\n",
        "\n",
        "*For example if your input is 1 it will look like this: 0, 2, 4, 6, 8, 10*"
      ]
    },
    {
      "cell_type": "code",
      "metadata": {
        "id": "Q9X4m3D4h-xu",
        "colab_type": "code",
        "outputId": "dd32f7cc-0ba2-4362-f0c8-74995a614468",
        "colab": {
          "base_uri": "https://localhost:8080/",
          "height": 136
        }
      },
      "source": [
        "def timeTable(int):\n",
        "  i = 0\n",
        "  while i <= 10: \n",
        "    print(i)\n",
        "    i += int +1\n",
        "\n",
        "timeTable(int(input()))"
      ],
      "execution_count": 0,
      "outputs": [
        {
          "output_type": "stream",
          "text": [
            "1\n",
            "0\n",
            "2\n",
            "4\n",
            "6\n",
            "8\n",
            "10\n"
          ],
          "name": "stdout"
        }
      ]
    },
    {
      "cell_type": "markdown",
      "metadata": {
        "id": "GNYYg7iSKxgJ",
        "colab_type": "text"
      },
      "source": [
        "## Mission 4: ✔\n",
        "\n",
        "Create a while loop that displays the vowels of the longest word in English one after the other (i.e. horizontally, not one above) of the other, i.e. vertically). The longest word in English is: \"antidisestablishmentarianism\"\n"
      ]
    },
    {
      "cell_type": "code",
      "metadata": {
        "id": "Fe9kZrvklI0b",
        "colab_type": "code",
        "outputId": "f5da1110-2834-4c99-eac1-b6f9a55653a7",
        "colab": {
          "base_uri": "https://localhost:8080/",
          "height": 34
        }
      },
      "source": [
        "def vowelsCounter(word):\n",
        "  vowels = ['a', 'e', 'i', 'o', 'u', 'y']\n",
        "  i = 0\n",
        "  while i +1 <= len(word):\n",
        "    isVowels = False\n",
        "    for k in range(len(vowels)):\n",
        "      if word[i] == vowels[k]:\n",
        "        isVowels = True\n",
        "    if isVowels:\n",
        "        print(word[i], end = \"\")\n",
        "    i += 1\n",
        "\n",
        "word = 'antidisestablishmentarianism'\n",
        "vowelsCounter(word)"
      ],
      "execution_count": 0,
      "outputs": [
        {
          "output_type": "stream",
          "text": [
            "aiieaieaiai"
          ],
          "name": "stdout"
        }
      ]
    },
    {
      "cell_type": "markdown",
      "metadata": {
        "id": "TuxaXDGFK_Pu",
        "colab_type": "text"
      },
      "source": [
        "## Mission 5: ✔\n",
        "\n",
        "Create a function that takes in 3 numbers as parameters, and carries out two operations (+, -, *, /).\n",
        "Then return the result of the applied operations. You will have to factor for a situation where division by zero is attempted.\n",
        "Display a message that indicates whether the result is positive, negative or zero.\n",
        "\n",
        "*Example operations: 0*\n",
        "\n",
        "*32+2 = 2; 21/0+3 > \"Error, you're trying to divide by zero\"*\n"
      ]
    },
    {
      "cell_type": "code",
      "metadata": {
        "id": "6hjrrDyUlN8o",
        "colab_type": "code",
        "outputId": "55cbd2e8-5317-43f5-8fe2-a1e8effdf451",
        "colab": {
          "base_uri": "https://localhost:8080/",
          "height": 68
        }
      },
      "source": [
        "def operationOrder(int1, int2, int3):\n",
        "  if int3 == 0:\n",
        "    print(\"Error, you're trying to divide by zero\")\n",
        "  else: \n",
        "    print(round(int1 + int2 / int3, 2))\n",
        "    print(round((int1 + int2) / int3, 2))\n",
        "\n",
        "operationOrder(6, 2, 3)\n",
        "\n",
        "operationOrder(4, 2, 0)"
      ],
      "execution_count": 0,
      "outputs": [
        {
          "output_type": "stream",
          "text": [
            "6.67\n",
            "2.67\n",
            "Error, you're trying to divide by zero\n"
          ],
          "name": "stdout"
        }
      ]
    },
    {
      "cell_type": "markdown",
      "metadata": {
        "id": "WeD_A0ESK_6Z",
        "colab_type": "text"
      },
      "source": [
        "## Mission 6: ✔\n",
        "Create a lambda function that takes 2 numbers as parameters, and returns the result of a division operation. \n",
        "Test if the denominator is equal to 0 and if so, display a message that says: \"You can't divide by zero\".\n"
      ]
    },
    {
      "cell_type": "code",
      "metadata": {
        "id": "7b3JtuNClm4a",
        "colab_type": "code",
        "outputId": "3c11b360-3606-47a1-98a6-1ce530ea8059",
        "colab": {
          "base_uri": "https://localhost:8080/",
          "height": 85
        }
      },
      "source": [
        "def lambda_function(int1, int2):\n",
        "  if int2 == 0:\n",
        "    print(\"You can't divide by zero\")\n",
        "  else: \n",
        "    print(int1/int2)\n",
        "\n",
        "lambda_function(4, 2)\n",
        "lambda_function(2, 4)\n",
        "lambda_function(4, 0)\n",
        "lambda_function(0, 4)"
      ],
      "execution_count": 0,
      "outputs": [
        {
          "output_type": "stream",
          "text": [
            "2.0\n",
            "0.5\n",
            "You can't divide by zero\n",
            "0.0\n"
          ],
          "name": "stdout"
        }
      ]
    },
    {
      "cell_type": "markdown",
      "metadata": {
        "id": "kJ0TPtUSLApo",
        "colab_type": "text"
      },
      "source": [
        "## Mission 7: ✔\n",
        "\n",
        "Create a function that takes a number as a parameter that corresponds to gross salary and returns the net salary for executives.\n",
        "\n"
      ]
    },
    {
      "cell_type": "code",
      "metadata": {
        "id": "r6DP6oTDmqfs",
        "colab_type": "code",
        "outputId": "8e299aa2-f5cd-4d41-920c-1344d67cfae1",
        "colab": {
          "base_uri": "https://localhost:8080/",
          "height": 34
        }
      },
      "source": [
        "def gross_to_net_salary(gross):\n",
        "  gross -= gross * 23 / 100\n",
        "  print(gross, '€')\n",
        "\n",
        "gross_to_net_salary(2900)"
      ],
      "execution_count": 0,
      "outputs": [
        {
          "output_type": "stream",
          "text": [
            "2233.0 €\n"
          ],
          "name": "stdout"
        }
      ]
    },
    {
      "cell_type": "markdown",
      "metadata": {
        "id": "SgjFVbrnLBei",
        "colab_type": "text"
      },
      "source": [
        "## Mission 8: ✔\n",
        "\n",
        "Create a function that can mutate the value of 2 variables"
      ]
    },
    {
      "cell_type": "code",
      "metadata": {
        "id": "MyF5hG_hm1np",
        "colab_type": "code",
        "outputId": "205614cb-c213-4da8-8f86-3d204674fe81",
        "colab": {
          "base_uri": "https://localhost:8080/",
          "height": 85
        }
      },
      "source": [
        "def mutate(x, y):\n",
        "  x1 = input()\n",
        "  y1 = input()\n",
        "  x = x1\n",
        "  y = y1\n",
        "  return (x, y)\n",
        "\n",
        "x = 1\n",
        "y = 2\n",
        "\n",
        "(x, y) = mutate(x, y)\n",
        "\n",
        "print(x)\n",
        "print(y)"
      ],
      "execution_count": 0,
      "outputs": [
        {
          "output_type": "stream",
          "text": [
            "banana\n",
            "666\n",
            "banana\n",
            "666\n"
          ],
          "name": "stdout"
        }
      ]
    },
    {
      "cell_type": "markdown",
      "metadata": {
        "id": "CLFkEk_Fm9d4",
        "colab_type": "text"
      },
      "source": [
        "## Your colleagues are impressed. So they show you some more exercises that they're stuck on. Code your heart out, you go for it ^^"
      ]
    },
    {
      "cell_type": "markdown",
      "metadata": {
        "id": "6enP7y4TLaBs",
        "colab_type": "text"
      },
      "source": [
        "## Mission 9: ✔\n",
        "\n",
        "Create a function that takes in a day as a parameter and returns the next day (*i.e.* for Sunday it would return Monday). \n",
        "You can use lists or dictionaries to solve this."
      ]
    },
    {
      "cell_type": "code",
      "metadata": {
        "id": "pIoUqiKynBbe",
        "colab_type": "code",
        "outputId": "7a52b8ea-28b0-41c3-c528-1678774db3ab",
        "colab": {
          "base_uri": "https://localhost:8080/",
          "height": 51
        }
      },
      "source": [
        "def nextDay(day):\n",
        "  days = ['Monday', 'Tuesday', 'Wednesday', 'Thursday', 'Friday', 'Saturday', 'Sunday']\n",
        "  if day == 'Sunday':\n",
        "    print(days[0])\n",
        "  else:\n",
        "    id_day = days.index(day)\n",
        "    print(days[id_day +1])\n",
        "\n",
        "nextDay('Tuesday')\n",
        "nextDay('Sunday')"
      ],
      "execution_count": 0,
      "outputs": [
        {
          "output_type": "stream",
          "text": [
            "Wednesday\n",
            "Monday\n"
          ],
          "name": "stdout"
        }
      ]
    },
    {
      "cell_type": "markdown",
      "metadata": {
        "id": "2kK5Nt6XLgma",
        "colab_type": "text"
      },
      "source": [
        "## Mission 10: ✔\n",
        "Create a function that fills an empty list with values from the following string : \n",
        "\n",
        "\"*After twelve soft showers are the arch-duchess' socks dry, arch-dry?*\""
      ]
    },
    {
      "cell_type": "code",
      "metadata": {
        "id": "68rX-Y0AnGiR",
        "colab_type": "code",
        "outputId": "7b48ac4a-5d97-4ffc-922f-f134f640b591",
        "colab": {
          "base_uri": "https://localhost:8080/",
          "height": 187
        }
      },
      "source": [
        "def str_to_list(str): \n",
        "  list = str.split(\" \")\n",
        "  return list\n",
        "\n",
        "string = \"After twelve soft showers are the arch-duchess' socks dry, arch-dry?\"\n",
        "str_to_list(string)"
      ],
      "execution_count": 0,
      "outputs": [
        {
          "output_type": "execute_result",
          "data": {
            "text/plain": [
              "['After',\n",
              " 'twelve',\n",
              " 'soft',\n",
              " 'showers',\n",
              " 'are',\n",
              " 'the',\n",
              " \"arch-duchess'\",\n",
              " 'socks',\n",
              " 'dry,',\n",
              " 'arch-dry?']"
            ]
          },
          "metadata": {
            "tags": []
          },
          "execution_count": 10
        }
      ]
    },
    {
      "cell_type": "markdown",
      "metadata": {
        "id": "4wnA_utALwlN",
        "colab_type": "text"
      },
      "source": [
        "## Mission 11: ✔\n",
        "\n",
        "Create a function that takes a str as a parameter, and returns in uppercase one of two letters unless it's a consonant.\n"
      ]
    },
    {
      "cell_type": "code",
      "metadata": {
        "id": "YGNoBYBEnLAx",
        "colab_type": "code",
        "outputId": "bf4ef31d-85a9-45cd-891d-a50633a9b9f2",
        "colab": {
          "base_uri": "https://localhost:8080/",
          "height": 34
        }
      },
      "source": [
        "def str1on2Up(str):\n",
        "  vowels = ['a', 'e', 'i', 'o', 'u', 'y']\n",
        "  s = string.lower()\n",
        "  for i in range(len(s)):\n",
        "    isVowels = False\n",
        "    if i % 2 == 0:\n",
        "      for k in range(len(vowels)):\n",
        "        if s[i] == vowels[k]:\n",
        "          isVowels = True\n",
        "      if isVowels:\n",
        "        print(s[i].upper(), end = \"\")\n",
        "      else:\n",
        "        print(s[i], end= \"\")\n",
        "    else:\n",
        "      print(s[i], end= \"\")\n",
        "\n",
        "string = \"Bonjour, je m'appelle S\"\n",
        "str1on2Up(string)"
      ],
      "execution_count": 0,
      "outputs": [
        {
          "output_type": "stream",
          "text": [
            "bonjOur, jE m'AppellE s"
          ],
          "name": "stdout"
        }
      ]
    },
    {
      "cell_type": "markdown",
      "metadata": {
        "id": "0tGw0nfaL1vw",
        "colab_type": "text"
      },
      "source": [
        "## Mission 12: ✔\n",
        "\n",
        "Create a function that uses a list to fill an empty list with string values of: \n",
        "\"Python fan\" then display the filled list\n"
      ]
    },
    {
      "cell_type": "code",
      "metadata": {
        "id": "IJCr_jvwnOCh",
        "colab_type": "code",
        "outputId": "96a23f26-1c4c-4af9-9d49-e6e589c5381b",
        "colab": {
          "base_uri": "https://localhost:8080/",
          "height": 204
        }
      },
      "source": [
        "list1 = [\"Python fan\"] * 10\n",
        "print(list1)\n",
        "\n",
        "def fill_list(list):\n",
        "  empty_list = [0] * len(list1)\n",
        "  i = 0\n",
        "  for item in list1:\n",
        "    empty_list[i] = item\n",
        "    i += 1\n",
        "  filled_list = empty_list\n",
        "  return filled_list\n",
        "\n",
        "fill_list(list1)"
      ],
      "execution_count": 0,
      "outputs": [
        {
          "output_type": "stream",
          "text": [
            "['Python fan', 'Python fan', 'Python fan', 'Python fan', 'Python fan', 'Python fan', 'Python fan', 'Python fan', 'Python fan', 'Python fan']\n"
          ],
          "name": "stdout"
        },
        {
          "output_type": "execute_result",
          "data": {
            "text/plain": [
              "['Python fan',\n",
              " 'Python fan',\n",
              " 'Python fan',\n",
              " 'Python fan',\n",
              " 'Python fan',\n",
              " 'Python fan',\n",
              " 'Python fan',\n",
              " 'Python fan',\n",
              " 'Python fan',\n",
              " 'Python fan']"
            ]
          },
          "metadata": {
            "tags": []
          },
          "execution_count": 12
        }
      ]
    },
    {
      "cell_type": "markdown",
      "metadata": {
        "id": "pywPZqhLL8EJ",
        "colab_type": "text"
      },
      "source": [
        "## Mission 13: ✔\n",
        "Create a function that retrieves 2 inputs from the user, their date of birth and first name.\n",
        "Convert the date of birth into an int to subtract it from the current year that you can return using a certain module :-P.\n",
        "Then display the message: Hello [first name], today you are [age] years old.\n"
      ]
    },
    {
      "cell_type": "code",
      "metadata": {
        "id": "xjYGsODEnSb2",
        "colab_type": "code",
        "outputId": "071f1d05-614b-4ee1-8f77-0f283f53b0c4",
        "colab": {
          "base_uri": "https://localhost:8080/",
          "height": 102
        }
      },
      "source": [
        "def peopleAge():\n",
        "  print(\"What's your name?\")\n",
        "  name = input()\n",
        "  print(\"When is your birthday? (YYYY-MM-DD)\")\n",
        "  birthdate = input()\n",
        "  birthdate = birthdate.split(\"-\")\n",
        "  age = 2020 - int(birthdate[0])\n",
        "  print(\"Hello \", name, \", today you are \", age, \" years old.\", sep = \"\")\n",
        "\n",
        "peopleAge()"
      ],
      "execution_count": 0,
      "outputs": [
        {
          "output_type": "stream",
          "text": [
            "What's your name?\n",
            "Sebastien\n",
            "When is your birthday? (YYYY-MM-DD)\n",
            "1992-08-30\n",
            "Hello Sebastien, today you are 28 years old.\n"
          ],
          "name": "stdout"
        }
      ]
    }
  ]
}