{
  "nbformat": 4,
  "nbformat_minor": 0,
  "metadata": {
    "colab": {
      "name": "Python and strings.ipynb",
      "provenance": [],
      "collapsed_sections": [
        "LoJw-LlCTnWF",
        "J3bsGIvAT049",
        "dVl36lvlWLdV",
        "GCvpkWzXXPTf",
        "V8ZS3aECXvuZ",
        "geMLdrvAYHKx"
      ],
      "include_colab_link": true
    },
    "kernelspec": {
      "name": "python3",
      "display_name": "Python 3"
    }
  },
  "cells": [
    {
      "cell_type": "markdown",
      "metadata": {
        "id": "view-in-github",
        "colab_type": "text"
      },
      "source": [
        "<a href=\"https://colab.research.google.com/github/h4r1c0t/WildCodeSchool/blob/master/Python_and_strings.ipynb\" target=\"_parent\"><img src=\"https://colab.research.google.com/assets/colab-badge.svg\" alt=\"Open In Colab\"/></a>"
      ]
    },
    {
      "cell_type": "markdown",
      "metadata": {
        "id": "LoJw-LlCTnWF",
        "colab_type": "text"
      },
      "source": [
        "# Mission 1\n",
        "\n",
        "Create a function that uses the len method to display the length of the string named: \"string\" below.\n",
        "\n",
        "Make the character count returned by your function ignore the number of spaces (without changing the string).\n",
        "\n",
        "string = \"Taumata whakatangihanga koauau o tamatea turi pukaka piki maungah oronuku pokai whenuaki tanatahu \""
      ]
    },
    {
      "cell_type": "code",
      "metadata": {
        "colab_type": "code",
        "id": "oweHYwlm1EVo",
        "outputId": "ef39dbea-8d1b-4da2-cc13-f46457aa0cfb",
        "colab": {
          "base_uri": "https://localhost:8080/",
          "height": 34
        }
      },
      "source": [
        "string = \"Taumata whakatangihanga koauau o tamatea turi pukaka piki maungah oronuku pokai whenuaki tanatahu \"\n",
        "\n",
        "def chCounter():\n",
        "  print(len(string) - string.count(\" \"))\n",
        "\n",
        "chCounter()"
      ],
      "execution_count": 0,
      "outputs": [
        {
          "output_type": "stream",
          "text": [
            "85\n"
          ],
          "name": "stdout"
        }
      ]
    },
    {
      "cell_type": "markdown",
      "metadata": {
        "id": "J3bsGIvAT049",
        "colab_type": "text"
      },
      "source": [
        "# Mission 2\n",
        "\n",
        "Create a function that takes a string as one parameter and a character as another parameter. The function should return the position (starting with 1 and not 0) of all occurrences of the character within the string.\n",
        "\n",
        "For example for the word \"hello\" and for the character \"o\" the function will return :\n",
        "- \"position : 5\""
      ]
    },
    {
      "cell_type": "code",
      "metadata": {
        "id": "Fy1OmPSUXNaP",
        "colab_type": "code",
        "outputId": "5c6551d6-294e-4206-f2a1-182cddcbc517",
        "colab": {
          "base_uri": "https://localhost:8080/",
          "height": 68
        }
      },
      "source": [
        "string = input()\n",
        "ch = input()\n",
        "\n",
        "def indexCh(string, ch):\n",
        "  print(string.index(ch) +1)\n",
        "\n",
        "indexCh(string, ch)"
      ],
      "execution_count": 0,
      "outputs": [
        {
          "output_type": "stream",
          "text": [
            "hello\n",
            "o\n",
            "5\n"
          ],
          "name": "stdout"
        }
      ]
    },
    {
      "cell_type": "markdown",
      "metadata": {
        "id": "dVl36lvlWLdV",
        "colab_type": "text"
      },
      "source": [
        "# Mission 3\n",
        "\n",
        "Create a function that only displays characters from one position to another position. In other words, make it so that you are able decide the exact character range to be displayed."
      ]
    },
    {
      "cell_type": "code",
      "metadata": {
        "id": "pN3_mD4YSPfb",
        "colab_type": "code",
        "outputId": "0f1df75c-cfe4-44c9-e8f4-6b4d8bc6a195",
        "colab": {
          "base_uri": "https://localhost:8080/",
          "height": 119
        }
      },
      "source": [
        "string = input()\n",
        "\n",
        "def enumCh():\n",
        "  nbCh1 = int(input()) -1\n",
        "  nbCh2 = int(input()) \n",
        "  for i in range(nbCh1, nbCh2):\n",
        "    print(string[i])\n",
        "\n",
        "enumCh()"
      ],
      "execution_count": 0,
      "outputs": [
        {
          "output_type": "stream",
          "text": [
            "abcdef\n",
            "2\n",
            "4\n",
            "b\n",
            "c\n",
            "d\n"
          ],
          "name": "stdout"
        }
      ]
    },
    {
      "cell_type": "markdown",
      "metadata": {
        "id": "GCvpkWzXXPTf",
        "colab_type": "text"
      },
      "source": [
        "# Mission 4\n",
        "\n",
        "Find 3 ways to return the following string without including the spaces at the beginning and end only (without changing the string): \" Data Analyst \"."
      ]
    },
    {
      "cell_type": "code",
      "metadata": {
        "id": "QjLMjogySPk_",
        "colab_type": "code",
        "outputId": "0ba66e21-1c8b-4d94-9bf9-a5e7f4d254f4",
        "colab": {
          "base_uri": "https://localhost:8080/",
          "height": 68
        }
      },
      "source": [
        "string = \" Data Analyst \"\n",
        "#1 \n",
        "print(string[1:len(string) -1])\n",
        "#2 \n",
        "mots = string.split(\" \")\n",
        "print(mots[1], mots[2])\n",
        "#3\n",
        "print(string.strip())"
      ],
      "execution_count": 0,
      "outputs": [
        {
          "output_type": "stream",
          "text": [
            "Data Analyst\n",
            "Data Analyst\n",
            "Data Analyst\n"
          ],
          "name": "stdout"
        }
      ]
    },
    {
      "cell_type": "markdown",
      "metadata": {
        "id": "V8ZS3aECXvuZ",
        "colab_type": "text"
      },
      "source": [
        "# Mission 5\n",
        "\n",
        "Create a function that converts all vowels to uppercase and all consonants to lowercase."
      ]
    },
    {
      "cell_type": "code",
      "metadata": {
        "id": "ph_j97PoSPmU",
        "colab_type": "code",
        "outputId": "fa7fbc1a-f70e-4352-ec5b-9dceee16edae",
        "colab": {
          "base_uri": "https://localhost:8080/",
          "height": 51
        }
      },
      "source": [
        "string = input()\n",
        "\n",
        "def upperVowles():\n",
        "  vowels = \"a e i o u y\"\n",
        "  vowels = vowels.split(\" \")\n",
        "  s = string.lower()\n",
        "  for i in range(len(s)):\n",
        "    isVowels = False\n",
        "    for k in range(len(vowels)):\n",
        "      if s[i] == vowels[k]:\n",
        "        isVowels = True\n",
        "    if isVowels:\n",
        "        print(s[i].upper(), end = \"\")\n",
        "    else:\n",
        "      print(s[i], end= \"\")\n",
        "            \n",
        "upperVowles()"
      ],
      "execution_count": 0,
      "outputs": [
        {
          "output_type": "stream",
          "text": [
            "BONJOUR JE M APPELLE S\n",
            "bOnjOUr jE m AppEllE s"
          ],
          "name": "stdout"
        }
      ]
    },
    {
      "cell_type": "markdown",
      "metadata": {
        "id": "geMLdrvAYHKx",
        "colab_type": "text"
      },
      "source": [
        "# Mission 6\n",
        "\n",
        "Create a function that replaces one character with another and redisplays the modified string."
      ]
    },
    {
      "cell_type": "code",
      "metadata": {
        "id": "1-cenx3RSPpq",
        "colab_type": "code",
        "outputId": "1e8b7e5b-302d-4e0e-a429-f78b88d9e60a",
        "colab": {
          "base_uri": "https://localhost:8080/",
          "height": 85
        }
      },
      "source": [
        "string = input()\n",
        "l1 = input()\n",
        "l2 = input()\n",
        "\n",
        "def replace(string, l1, l2): \n",
        "  result = ''\n",
        "  for letter in string:\n",
        "    if letter not in l1:\n",
        "        result += letter\n",
        "    else:\n",
        "        for char in l1:\n",
        "            if char == letter:\n",
        "                result += l2\n",
        "                break \n",
        "  print(result)\n",
        "\n",
        "\n",
        "replace(string, l1, l2)"
      ],
      "execution_count": 0,
      "outputs": [
        {
          "output_type": "stream",
          "text": [
            "bonjour\n",
            "o\n",
            "e\n",
            "benjeur\n"
          ],
          "name": "stdout"
        }
      ]
    }
  ]
}
