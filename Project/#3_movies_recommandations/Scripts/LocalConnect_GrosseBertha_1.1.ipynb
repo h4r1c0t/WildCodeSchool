{
 "cells": [
  {
   "cell_type": "markdown",
   "source": [
    "# Nettoyage de \"***la Grosse Bertha***\""
   ],
   "metadata": {
    "collapsed": false
   }
  },
  {
   "cell_type": "markdown",
   "source": [
    "### Import modules"
   ],
   "metadata": {
    "collapsed": false
   }
  },
  {
   "cell_type": "code",
   "execution_count": 1,
   "outputs": [],
   "source": [
    "import sqlite3\n",
    "\n",
    "import numpy as np\n",
    "import pandas as pd\n",
    "\n",
    "import matplotlib.pyplot as plt"
   ],
   "metadata": {
    "collapsed": false,
    "pycharm": {
     "name": "#%%\n"
    }
   }
  },
  {
   "cell_type": "markdown",
   "source": [
    "### Connexion à \"***la Grosse Bertha_1.1***\" en **LOCAL** sur mon poste"
   ],
   "metadata": {
    "collapsed": false
   }
  },
  {
   "cell_type": "code",
   "execution_count": 2,
   "outputs": [],
   "source": [
    "path = 'D:/tmp storage/Project#3/SQLite3 db/GrosseBertha_1.1.db'\n",
    "db_conn = sqlite3.connect(path)"
   ],
   "metadata": {
    "collapsed": false,
    "pycharm": {
     "name": "#%%\n"
    }
   }
  },
  {
   "cell_type": "markdown",
   "source": [
    "## Exploration des tables"
   ],
   "metadata": {
    "collapsed": false
   }
  },
  {
   "cell_type": "markdown",
   "source": [
    "### Filtrage des films\n",
    "On cherche à ne garder dans la database **que les films présents initialement dans la base de données de notre client**.\n",
    "On supprimera donc toutes les entrées de la base IMDB qui ne sont pas dans la base du client."
   ],
   "metadata": {
    "collapsed": false
   }
  },
  {
   "cell_type": "markdown",
   "source": [
    "#### Table **links**\n"
   ],
   "metadata": {
    "collapsed": false
   }
  },
  {
   "cell_type": "code",
   "execution_count": null,
   "outputs": [],
   "source": [
    "query = '''\n",
    "SELECT * FROM links\n",
    "LIMIT 1\n",
    "'''\n",
    "pd.read_sql(query, db_conn)"
   ],
   "metadata": {
    "collapsed": false,
    "pycharm": {
     "name": "#%%\n"
    }
   }
  },
  {
   "cell_type": "markdown",
   "source": [
    "La table **links** comporte les **id** des films utilisés dans la base client et dans la base IMDB.\n",
    "___\n",
    "Première ligne de la table **movies** correnspondant au film \"*Toy Story*\"\n"
   ],
   "metadata": {
    "collapsed": false
   }
  },
  {
   "cell_type": "code",
   "execution_count": null,
   "outputs": [],
   "source": [
    "query = '''\n",
    "SELECT * FROM movies\n",
    "LIMIT 1\n",
    "'''\n",
    "pd.read_sql(query, db_conn)"
   ],
   "metadata": {
    "collapsed": false,
    "pycharm": {
     "name": "#%%\n"
    }
   }
  },
  {
   "cell_type": "markdown",
   "source": [
    "La ligne de la table **imdb_title_basics** correspondante au film \"*Toy Story*\" (l'équivalent de la table movies pour la base imdb)"
   ],
   "metadata": {
    "collapsed": false
   }
  },
  {
   "cell_type": "code",
   "execution_count": null,
   "outputs": [],
   "source": [
    "query = '''\n",
    "SELECT * FROM imdb_title_basics\n",
    "WHERE primaryTitle == 'Toy Story' AND titleType == 'movie'\n",
    "'''\n",
    "pd.read_sql(query, db_conn)"
   ],
   "metadata": {
    "collapsed": false,
    "pycharm": {
     "name": "#%%\n"
    }
   }
  },
  {
   "cell_type": "markdown",
   "source": [
    "On constate que **`tconst`**, qui représente l'id du film dans cette table, n'a pas tout à fait le format attendu..\n",
    "\n",
    "|**id dans links** | **id dans imdb** |\n",
    "|------------------|------------------|\n",
    "| 114709           | tt0114709         |\n",
    "\n",
    "Il faut donc convertir les **id** de la table **links** pour qu'ils correspondent à ceux utilisés dans la base IMDB\n",
    "___\n",
    "On créer un DF à partir de **links**"
   ],
   "metadata": {
    "collapsed": false
   }
  },
  {
   "cell_type": "code",
   "execution_count": 9,
   "outputs": [],
   "source": [
    "query = '''\n",
    "SELECT * FROM links\n",
    "'''\n",
    "links = pd.DataFrame(pd.read_sql(query, db_conn))"
   ],
   "metadata": {
    "collapsed": false,
    "pycharm": {
     "name": "#%%\n"
    }
   }
  },
  {
   "cell_type": "code",
   "execution_count": null,
   "outputs": [],
   "source": [
    "links.info()"
   ],
   "metadata": {
    "collapsed": false,
    "pycharm": {
     "name": "#%%\n"
    }
   }
  },
  {
   "cell_type": "code",
   "execution_count": 10,
   "outputs": [
    {
     "data": {
      "text/plain": "(58098, 3)"
     },
     "execution_count": 10,
     "metadata": {},
     "output_type": "execute_result"
    }
   ],
   "source": [
    "links.shape"
   ],
   "metadata": {
    "collapsed": false,
    "pycharm": {
     "name": "#%%\n"
    }
   }
  },
  {
   "cell_type": "markdown",
   "source": [
    "On ajoute des **`00`** pour avoir 7 chiffres et **`tt`** à chaque **`imdbId`**"
   ],
   "metadata": {
    "collapsed": false
   }
  },
  {
   "cell_type": "code",
   "execution_count": null,
   "outputs": [],
   "source": [
    "# links['imdbId'] = links['imdbId'].apply(lambda x: str(x).zfill(7))\n",
    "# links['imdbId'] = links['imdbId'].apply(lambda x: 'tt' + x)"
   ],
   "metadata": {
    "collapsed": false,
    "pycharm": {
     "name": "#%%\n"
    }
   }
  },
  {
   "cell_type": "code",
   "execution_count": null,
   "outputs": [],
   "source": [
    "links.head()"
   ],
   "metadata": {
    "collapsed": false,
    "pycharm": {
     "name": "#%%\n"
    }
   }
  },
  {
   "cell_type": "code",
   "execution_count": null,
   "outputs": [],
   "source": [
    "links.tail()"
   ],
   "metadata": {
    "collapsed": false,
    "pycharm": {
     "name": "#%%\n"
    }
   }
  },
  {
   "cell_type": "markdown",
   "source": [
    "Et on remplace la table **links** par le DataFrame ***links***"
   ],
   "metadata": {
    "collapsed": false
   }
  },
  {
   "cell_type": "code",
   "execution_count": null,
   "outputs": [],
   "source": [
    "# links.to_sql('links', db_conn, if_exists = 'replace', index = False)"
   ],
   "metadata": {
    "collapsed": false,
    "pycharm": {
     "name": "#%%\n"
    }
   }
  },
  {
   "cell_type": "code",
   "execution_count": null,
   "outputs": [],
   "source": [
    "query = '''\n",
    "SELECT * FROM links\n",
    "'''\n",
    "pd.DataFrame(pd.read_sql(query, db_conn)).shape"
   ],
   "metadata": {
    "collapsed": false,
    "pycharm": {
     "name": "#%%\n"
    }
   }
  },
  {
   "cell_type": "markdown",
   "source": [
    "On constate que la table link comporte maintenant le double de lignes. Il faut donc supprimer\n"
   ],
   "metadata": {
    "collapsed": false
   }
  },
  {
   "cell_type": "markdown",
   "source": [
    "## Filtrage des films\n",
    "On souhaite ne garder que les films qui sont dans la base de données de notre client pour ne pas proposer des films qu'il ne pocède pas."
   ],
   "metadata": {
    "collapsed": false
   }
  },
  {
   "cell_type": "markdown",
   "source": [
    "### SELECT\n",
    "On sélectionne tous les **films de la base IMDB** dont l'identifiant se trouve également dans la table **links**"
   ],
   "metadata": {
    "collapsed": false,
    "pycharm": {
     "name": "#%% md\n"
    }
   }
  },
  {
   "cell_type": "code",
   "execution_count": 11,
   "outputs": [
    {
     "data": {
      "text/plain": "(58016, 9)"
     },
     "execution_count": 11,
     "metadata": {},
     "output_type": "execute_result"
    }
   ],
   "source": [
    "query = '''\n",
    "SELECT * FROM imdb_title_basics\n",
    "WHERE tconst IN\n",
    "    (SELECT imdbId\n",
    "     FROM links)\n",
    "'''\n",
    "imdb_mouvies = pd.DataFrame(pd.read_sql(query, db_conn))\n",
    "imdb_mouvies.shape"
   ],
   "metadata": {
    "collapsed": false,
    "pycharm": {
     "name": "#%%\n"
    }
   }
  },
  {
   "cell_type": "markdown",
   "source": [
    "Il y a donc 58016 films en commun (il semblerait que certains films n'ait pas leur id dans la table IMBD)\n",
    "___\n",
    "### INSERT dans la BDD\n",
    "On remplace la table **`imdb_title_basics`** par le DF qui ne contient que les films client."
   ],
   "metadata": {
    "collapsed": false
   }
  },
  {
   "cell_type": "code",
   "execution_count": 13,
   "outputs": [],
   "source": [
    "imdb_mouvies.to_sql('imdb_title_basics', db_conn, if_exists = 'replace', index = False)"
   ],
   "metadata": {
    "collapsed": false,
    "pycharm": {
     "name": "#%%\n"
    }
   }
  },
  {
   "cell_type": "code",
   "execution_count": 15,
   "outputs": [
    {
     "data": {
      "text/plain": "(58016, 9)"
     },
     "execution_count": 15,
     "metadata": {},
     "output_type": "execute_result"
    }
   ],
   "source": [
    "query = '''\n",
    "SELECT * FROM imdb_title_basics\n",
    "'''\n",
    "pd.DataFrame(pd.read_sql(query, db_conn)).shape"
   ],
   "metadata": {
    "collapsed": false,
    "pycharm": {
     "name": "#%%\n"
    }
   }
  },
  {
   "cell_type": "markdown",
   "source": [
    "## Nettoyage des \"ratings\"\n",
    "\n",
    "### SELECT\n",
    "On ne sélectionne que les ratings portant sur les films qui sont dans notre BDD"
   ],
   "metadata": {
    "collapsed": false
   }
  },
  {
   "cell_type": "code",
   "source": [
    "query = '''\n",
    "SELECT * FROM imdb_title_ratings Ir\n",
    "WHERE Ir.tconst IN (\n",
    "    SELECT imdbId FROM links\n",
    "    )\n",
    "'''\n",
    "imdb_ratings = pd.DataFrame(pd.read_sql(query, db_conn))\n",
    "imdb_ratings.shape"
   ],
   "metadata": {
    "collapsed": false,
    "pycharm": {
     "name": "#%%\n"
    }
   },
   "execution_count": 17,
   "outputs": [
    {
     "data": {
      "text/plain": "(57928, 3)"
     },
     "execution_count": 17,
     "metadata": {},
     "output_type": "execute_result"
    }
   ]
  },
  {
   "cell_type": "markdown",
   "source": [
    "### Import to BDD"
   ],
   "metadata": {
    "collapsed": false
   }
  },
  {
   "cell_type": "code",
   "execution_count": 18,
   "outputs": [],
   "source": [
    "imdb_ratings.to_sql('imdb_title_ratings', db_conn, if_exists = 'replace', index = False)"
   ],
   "metadata": {
    "collapsed": false,
    "pycharm": {
     "name": "#%%\n"
    }
   }
  },
  {
   "cell_type": "code",
   "execution_count": 19,
   "outputs": [
    {
     "data": {
      "text/plain": "(1036256, 3)"
     },
     "execution_count": 19,
     "metadata": {},
     "output_type": "execute_result"
    }
   ],
   "source": [
    "query = '''\n",
    "SELECT * FROM imdb_title_ratings\n",
    "'''\n",
    "pd.DataFrame(pd.read_sql(query, db_conn)).shape\n"
   ],
   "metadata": {
    "collapsed": false,
    "pycharm": {
     "name": "#%%\n"
    }
   }
  }
 ],
 "metadata": {
  "kernelspec": {
   "name": "pycharm-9d3ed5e2",
   "language": "python",
   "display_name": "PyCharm (Python (default))"
  },
  "language_info": {
   "codemirror_mode": {
    "name": "ipython",
    "version": 2
   },
   "file_extension": ".py",
   "mimetype": "text/x-python",
   "name": "python",
   "nbconvert_exporter": "python",
   "pygments_lexer": "ipython2",
   "version": "2.7.6"
  }
 },
 "nbformat": 4,
 "nbformat_minor": 0
}