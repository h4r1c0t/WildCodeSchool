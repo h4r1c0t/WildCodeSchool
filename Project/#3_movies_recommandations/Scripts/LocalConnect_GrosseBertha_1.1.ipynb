{
 "cells": [
  {
   "cell_type": "markdown",
   "source": [
    "# Nettoyage de \"***la Grosse Bertha***\""
   ],
   "metadata": {
    "collapsed": false
   }
  },
  {
   "cell_type": "markdown",
   "source": [
    "### Import modules"
   ],
   "metadata": {
    "collapsed": false
   }
  },
  {
   "cell_type": "code",
   "execution_count": 2,
   "outputs": [],
   "source": [
    "import sqlite3\n",
    "\n",
    "import numpy as np\n",
    "import pandas as pd\n",
    "\n",
    "import matplotlib.pyplot as plt"
   ],
   "metadata": {
    "collapsed": false,
    "pycharm": {
     "name": "#%%\n"
    }
   }
  },
  {
   "cell_type": "markdown",
   "source": [
    "### Connexion à \"***la Grosse Bertha_1.1***\" en **LOCAL** sur mon poste"
   ],
   "metadata": {
    "collapsed": false
   }
  },
  {
   "cell_type": "code",
   "execution_count": 3,
   "outputs": [],
   "source": [
    "path = 'D:/tmp storage/Project#3/SQLite3 db/GrosseBertha_1.1.db'\n",
    "db_conn = sqlite3.connect(path)"
   ],
   "metadata": {
    "collapsed": false,
    "pycharm": {
     "name": "#%%\n"
    }
   }
  },
  {
   "cell_type": "markdown",
   "source": [
    "## Exploration des tables"
   ],
   "metadata": {
    "collapsed": false
   }
  },
  {
   "cell_type": "markdown",
   "source": [
    "### Filtrage des films\n",
    "On cherche à ne garder dans la database **que les films présents initialement dans la base de données de notre client**.\n",
    "On supprimera donc toutes les entrées de la base IMDB qui ne sont pas dans la base du client."
   ],
   "metadata": {
    "collapsed": false
   }
  },
  {
   "cell_type": "markdown",
   "source": [
    "#### Table **links**\n"
   ],
   "metadata": {
    "collapsed": false
   }
  },
  {
   "cell_type": "code",
   "execution_count": 3,
   "outputs": [
    {
     "data": {
      "text/plain": "   movieId  imdbId  tmdbId\n0   172063       1   16612",
      "text/html": "<div>\n<style scoped>\n    .dataframe tbody tr th:only-of-type {\n        vertical-align: middle;\n    }\n\n    .dataframe tbody tr th {\n        vertical-align: top;\n    }\n\n    .dataframe thead th {\n        text-align: right;\n    }\n</style>\n<table border=\"1\" class=\"dataframe\">\n  <thead>\n    <tr style=\"text-align: right;\">\n      <th></th>\n      <th>movieId</th>\n      <th>imdbId</th>\n      <th>tmdbId</th>\n    </tr>\n  </thead>\n  <tbody>\n    <tr>\n      <th>0</th>\n      <td>172063</td>\n      <td>1</td>\n      <td>16612</td>\n    </tr>\n  </tbody>\n</table>\n</div>"
     },
     "execution_count": 3,
     "metadata": {},
     "output_type": "execute_result"
    }
   ],
   "source": [
    "query = '''\n",
    "SELECT * FROM links\n",
    "LIMIT 1\n",
    "'''\n",
    "pd.read_sql(query, db_conn)"
   ],
   "metadata": {
    "collapsed": false,
    "pycharm": {
     "name": "#%%\n"
    }
   }
  },
  {
   "cell_type": "markdown",
   "source": [
    "La table **links** comporte les **id** des films utilisés dans la base client et dans la base IMDB.\n",
    "___\n",
    "Première ligne de la table **movies** correnspondant au film \"*Toy Story*\"\n"
   ],
   "metadata": {
    "collapsed": false
   }
  },
  {
   "cell_type": "code",
   "execution_count": 4,
   "outputs": [
    {
     "data": {
      "text/plain": "   movieId             title                                       genres\n0        1  Toy Story (1995)  Adventure|Animation|Children|Comedy|Fantasy",
      "text/html": "<div>\n<style scoped>\n    .dataframe tbody tr th:only-of-type {\n        vertical-align: middle;\n    }\n\n    .dataframe tbody tr th {\n        vertical-align: top;\n    }\n\n    .dataframe thead th {\n        text-align: right;\n    }\n</style>\n<table border=\"1\" class=\"dataframe\">\n  <thead>\n    <tr style=\"text-align: right;\">\n      <th></th>\n      <th>movieId</th>\n      <th>title</th>\n      <th>genres</th>\n    </tr>\n  </thead>\n  <tbody>\n    <tr>\n      <th>0</th>\n      <td>1</td>\n      <td>Toy Story (1995)</td>\n      <td>Adventure|Animation|Children|Comedy|Fantasy</td>\n    </tr>\n  </tbody>\n</table>\n</div>"
     },
     "execution_count": 4,
     "metadata": {},
     "output_type": "execute_result"
    }
   ],
   "source": [
    "query = '''\n",
    "SELECT * FROM movies\n",
    "LIMIT 1\n",
    "'''\n",
    "pd.read_sql(query, db_conn)"
   ],
   "metadata": {
    "collapsed": false,
    "pycharm": {
     "name": "#%%\n"
    }
   }
  },
  {
   "cell_type": "markdown",
   "source": [
    "La ligne de la table **imdb_title_basics** correspondante au film \"*Toy Story*\" (l'équivalent de la table movies pour la base imdb)"
   ],
   "metadata": {
    "collapsed": false
   }
  },
  {
   "cell_type": "code",
   "execution_count": 5,
   "outputs": [
    {
     "data": {
      "text/plain": "      tconst titleType primaryTitle originalTitle  isAdult  startYear endYear  \\\n0  tt0114709     movie    Toy Story     Toy Story        0       1995      \\N   \n\n   runtimeMinutes                      genres  \n0              81  Adventure,Animation,Comedy  ",
      "text/html": "<div>\n<style scoped>\n    .dataframe tbody tr th:only-of-type {\n        vertical-align: middle;\n    }\n\n    .dataframe tbody tr th {\n        vertical-align: top;\n    }\n\n    .dataframe thead th {\n        text-align: right;\n    }\n</style>\n<table border=\"1\" class=\"dataframe\">\n  <thead>\n    <tr style=\"text-align: right;\">\n      <th></th>\n      <th>tconst</th>\n      <th>titleType</th>\n      <th>primaryTitle</th>\n      <th>originalTitle</th>\n      <th>isAdult</th>\n      <th>startYear</th>\n      <th>endYear</th>\n      <th>runtimeMinutes</th>\n      <th>genres</th>\n    </tr>\n  </thead>\n  <tbody>\n    <tr>\n      <th>0</th>\n      <td>tt0114709</td>\n      <td>movie</td>\n      <td>Toy Story</td>\n      <td>Toy Story</td>\n      <td>0</td>\n      <td>1995</td>\n      <td>\\N</td>\n      <td>81</td>\n      <td>Adventure,Animation,Comedy</td>\n    </tr>\n  </tbody>\n</table>\n</div>"
     },
     "execution_count": 5,
     "metadata": {},
     "output_type": "execute_result"
    }
   ],
   "source": [
    "query = '''\n",
    "SELECT * FROM imdb_title_basics\n",
    "WHERE primaryTitle == 'Toy Story' AND titleType == 'movie'\n",
    "'''\n",
    "pd.read_sql(query, db_conn)"
   ],
   "metadata": {
    "collapsed": false,
    "pycharm": {
     "name": "#%%\n"
    }
   }
  },
  {
   "cell_type": "markdown",
   "source": [
    "On constate que **`tconst`**, qui représente l'id du film dans cette table, n'a pas tout à fait le format attendu..\n",
    "\n",
    "|**id dans links** | **id dans imdb** |\n",
    "|------------------|------------------|\n",
    "| 114709           | tt0114709         |\n",
    "\n",
    "Il faut donc convertir les **id** de la table **links** pour qu'ils correspondent à ceux utilisés dans la base IMDB\n",
    "___\n",
    "On créer un DF à partir de **links**"
   ],
   "metadata": {
    "collapsed": false
   }
  },
  {
   "cell_type": "code",
   "execution_count": 6,
   "outputs": [],
   "source": [
    "query = '''\n",
    "SELECT * FROM links\n",
    "'''\n",
    "links = pd.DataFrame(pd.read_sql(query, db_conn))"
   ],
   "metadata": {
    "collapsed": false,
    "pycharm": {
     "name": "#%%\n"
    }
   }
  },
  {
   "cell_type": "code",
   "execution_count": 7,
   "outputs": [
    {
     "name": "stdout",
     "output_type": "stream",
     "text": [
      "<class 'pandas.core.frame.DataFrame'>\n",
      "RangeIndex: 58098 entries, 0 to 58097\n",
      "Data columns (total 3 columns):\n",
      " #   Column   Non-Null Count  Dtype \n",
      "---  ------   --------------  ----- \n",
      " 0   movieId  58098 non-null  int64 \n",
      " 1   imdbId   58098 non-null  int64 \n",
      " 2   tmdbId   58098 non-null  object\n",
      "dtypes: int64(2), object(1)\n",
      "memory usage: 1.3+ MB\n"
     ]
    }
   ],
   "source": [
    "links.info()"
   ],
   "metadata": {
    "collapsed": false,
    "pycharm": {
     "name": "#%%\n"
    }
   }
  },
  {
   "cell_type": "code",
   "execution_count": 8,
   "outputs": [
    {
     "data": {
      "text/plain": "(58098, 3)"
     },
     "execution_count": 8,
     "metadata": {},
     "output_type": "execute_result"
    }
   ],
   "source": [
    "links.shape"
   ],
   "metadata": {
    "collapsed": false,
    "pycharm": {
     "name": "#%%\n"
    }
   }
  },
  {
   "cell_type": "markdown",
   "source": [
    "On ajoute des **`00`** pour avoir 7 chiffres et **`tt`** à chaque **`imdbId`**"
   ],
   "metadata": {
    "collapsed": false
   }
  },
  {
   "cell_type": "code",
   "execution_count": 9,
   "outputs": [],
   "source": [
    "links['imdbId'] = links['imdbId'].apply(lambda x: str(x).zfill(7))\n",
    "links['imdbId'] = links['imdbId'].apply(lambda x: 'tt' + x)"
   ],
   "metadata": {
    "collapsed": false,
    "pycharm": {
     "name": "#%%\n"
    }
   }
  },
  {
   "cell_type": "code",
   "execution_count": 10,
   "outputs": [
    {
     "data": {
      "text/plain": "   movieId     imdbId  tmdbId\n0   172063  tt0000001   16612\n1   140539  tt0000003   88013\n2    95541  tt0000005   16624\n3   180695  tt0000007  159895\n4    88674  tt0000008  105158",
      "text/html": "<div>\n<style scoped>\n    .dataframe tbody tr th:only-of-type {\n        vertical-align: middle;\n    }\n\n    .dataframe tbody tr th {\n        vertical-align: top;\n    }\n\n    .dataframe thead th {\n        text-align: right;\n    }\n</style>\n<table border=\"1\" class=\"dataframe\">\n  <thead>\n    <tr style=\"text-align: right;\">\n      <th></th>\n      <th>movieId</th>\n      <th>imdbId</th>\n      <th>tmdbId</th>\n    </tr>\n  </thead>\n  <tbody>\n    <tr>\n      <th>0</th>\n      <td>172063</td>\n      <td>tt0000001</td>\n      <td>16612</td>\n    </tr>\n    <tr>\n      <th>1</th>\n      <td>140539</td>\n      <td>tt0000003</td>\n      <td>88013</td>\n    </tr>\n    <tr>\n      <th>2</th>\n      <td>95541</td>\n      <td>tt0000005</td>\n      <td>16624</td>\n    </tr>\n    <tr>\n      <th>3</th>\n      <td>180695</td>\n      <td>tt0000007</td>\n      <td>159895</td>\n    </tr>\n    <tr>\n      <th>4</th>\n      <td>88674</td>\n      <td>tt0000008</td>\n      <td>105158</td>\n    </tr>\n  </tbody>\n</table>\n</div>"
     },
     "execution_count": 10,
     "metadata": {},
     "output_type": "execute_result"
    }
   ],
   "source": [
    "links.head()"
   ],
   "metadata": {
    "collapsed": false,
    "pycharm": {
     "name": "#%%\n"
    }
   }
  },
  {
   "cell_type": "code",
   "execution_count": 11,
   "outputs": [
    {
     "data": {
      "text/plain": "       movieId     imdbId  tmdbId\n58093   192795  tt8816130  527266\n58094   193273  tt8837018  539033\n58095   193277  tt8846862  537973\n58096   193279  tt8916694  485164\n58097   193849  tt9038520  549443",
      "text/html": "<div>\n<style scoped>\n    .dataframe tbody tr th:only-of-type {\n        vertical-align: middle;\n    }\n\n    .dataframe tbody tr th {\n        vertical-align: top;\n    }\n\n    .dataframe thead th {\n        text-align: right;\n    }\n</style>\n<table border=\"1\" class=\"dataframe\">\n  <thead>\n    <tr style=\"text-align: right;\">\n      <th></th>\n      <th>movieId</th>\n      <th>imdbId</th>\n      <th>tmdbId</th>\n    </tr>\n  </thead>\n  <tbody>\n    <tr>\n      <th>58093</th>\n      <td>192795</td>\n      <td>tt8816130</td>\n      <td>527266</td>\n    </tr>\n    <tr>\n      <th>58094</th>\n      <td>193273</td>\n      <td>tt8837018</td>\n      <td>539033</td>\n    </tr>\n    <tr>\n      <th>58095</th>\n      <td>193277</td>\n      <td>tt8846862</td>\n      <td>537973</td>\n    </tr>\n    <tr>\n      <th>58096</th>\n      <td>193279</td>\n      <td>tt8916694</td>\n      <td>485164</td>\n    </tr>\n    <tr>\n      <th>58097</th>\n      <td>193849</td>\n      <td>tt9038520</td>\n      <td>549443</td>\n    </tr>\n  </tbody>\n</table>\n</div>"
     },
     "execution_count": 11,
     "metadata": {},
     "output_type": "execute_result"
    }
   ],
   "source": [
    "links.tail()"
   ],
   "metadata": {
    "collapsed": false,
    "pycharm": {
     "name": "#%%\n"
    }
   }
  },
  {
   "cell_type": "markdown",
   "source": [
    "Et on remplace la table **links** par le DataFrame ***links***"
   ],
   "metadata": {
    "collapsed": false
   }
  },
  {
   "cell_type": "code",
   "execution_count": 12,
   "outputs": [],
   "source": [
    "links.to_sql('links', db_conn, if_exists = 'replace', index = False)"
   ],
   "metadata": {
    "collapsed": false,
    "pycharm": {
     "name": "#%%\n"
    }
   }
  },
  {
   "cell_type": "code",
   "execution_count": 13,
   "outputs": [
    {
     "data": {
      "text/plain": "(58098, 3)"
     },
     "execution_count": 13,
     "metadata": {},
     "output_type": "execute_result"
    }
   ],
   "source": [
    "query = '''\n",
    "SELECT * FROM links\n",
    "'''\n",
    "pd.DataFrame(pd.read_sql(query, db_conn)).shape"
   ],
   "metadata": {
    "collapsed": false,
    "pycharm": {
     "name": "#%%\n"
    }
   }
  },
  {
   "cell_type": "markdown",
   "source": [
    "On constate que la table link comporte maintenant le double de lignes. Il faut donc supprimer\n"
   ],
   "metadata": {
    "collapsed": false
   }
  },
  {
   "cell_type": "markdown",
   "source": [
    "## Filtrage des films\n",
    "On souhaite ne garder que les films qui sont dans la base de données de notre client pour ne pas proposer des films qu'il ne pocède pas."
   ],
   "metadata": {
    "collapsed": false
   }
  },
  {
   "cell_type": "markdown",
   "source": [
    "### SELECT\n",
    "On sélectionne tous les **films de la base IMDB** dont l'identifiant se trouve également dans la table **links**"
   ],
   "metadata": {
    "collapsed": false,
    "pycharm": {
     "name": "#%% md\n"
    }
   }
  },
  {
   "cell_type": "code",
   "execution_count": 14,
   "outputs": [
    {
     "data": {
      "text/plain": "(58016, 9)"
     },
     "execution_count": 14,
     "metadata": {},
     "output_type": "execute_result"
    }
   ],
   "source": [
    "query = '''\n",
    "SELECT * FROM imdb_title_basics\n",
    "WHERE tconst IN\n",
    "    (SELECT imdbId\n",
    "     FROM links)\n",
    "'''\n",
    "imdb_mouvies = pd.DataFrame(pd.read_sql(query, db_conn))\n",
    "imdb_mouvies.shape"
   ],
   "metadata": {
    "collapsed": false,
    "pycharm": {
     "name": "#%%\n"
    }
   }
  },
  {
   "cell_type": "markdown",
   "source": [
    "Il y a donc 58016 films en commun (il semblerait que certains films n'ait pas leur id dans la table IMBD)\n",
    "___\n",
    "### INSERT dans la BDD\n",
    "On remplace la table **`imdb_title_basics`** par le DF qui ne contient que les films client."
   ],
   "metadata": {
    "collapsed": false
   }
  },
  {
   "cell_type": "code",
   "execution_count": 15,
   "outputs": [],
   "source": [
    "imdb_mouvies.to_sql('imdb_title_basics', db_conn, if_exists = 'replace', index = False)"
   ],
   "metadata": {
    "collapsed": false,
    "pycharm": {
     "name": "#%%\n"
    }
   }
  },
  {
   "cell_type": "code",
   "execution_count": 16,
   "outputs": [
    {
     "data": {
      "text/plain": "(58016, 9)"
     },
     "execution_count": 16,
     "metadata": {},
     "output_type": "execute_result"
    }
   ],
   "source": [
    "query = '''\n",
    "SELECT * FROM imdb_title_basics\n",
    "'''\n",
    "pd.DataFrame(pd.read_sql(query, db_conn)).shape"
   ],
   "metadata": {
    "collapsed": false,
    "pycharm": {
     "name": "#%%\n"
    }
   }
  },
  {
   "cell_type": "markdown",
   "source": [
    "## Nettoyage des \"ratings\"\n",
    "\n",
    "### SELECT\n",
    "On ne sélectionne que les ratings portant sur les films qui sont dans notre BDD"
   ],
   "metadata": {
    "collapsed": false
   }
  },
  {
   "cell_type": "code",
   "source": [
    "query = '''\n",
    "SELECT * FROM imdb_title_ratings Ir\n",
    "WHERE Ir.tconst IN (\n",
    "    SELECT imdbId FROM links\n",
    "    )\n",
    "'''\n",
    "imdb_ratings = pd.DataFrame(pd.read_sql(query, db_conn))\n",
    "imdb_ratings.shape"
   ],
   "metadata": {
    "collapsed": false,
    "pycharm": {
     "name": "#%%\n"
    }
   },
   "execution_count": 17,
   "outputs": [
    {
     "data": {
      "text/plain": "(57928, 3)"
     },
     "execution_count": 17,
     "metadata": {},
     "output_type": "execute_result"
    }
   ]
  },
  {
   "cell_type": "markdown",
   "source": [
    "### Import to BDD"
   ],
   "metadata": {
    "collapsed": false
   }
  },
  {
   "cell_type": "code",
   "execution_count": 18,
   "outputs": [],
   "source": [
    "imdb_ratings.to_sql('imdb_title_ratings', db_conn, if_exists = 'replace', index = False)"
   ],
   "metadata": {
    "collapsed": false,
    "pycharm": {
     "name": "#%%\n"
    }
   }
  },
  {
   "cell_type": "code",
   "execution_count": 19,
   "outputs": [
    {
     "data": {
      "text/plain": "(57928, 3)"
     },
     "execution_count": 19,
     "metadata": {},
     "output_type": "execute_result"
    }
   ],
   "source": [
    "query = '''\n",
    "SELECT * FROM imdb_title_ratings\n",
    "'''\n",
    "pd.DataFrame(pd.read_sql(query, db_conn)).shape"
   ],
   "metadata": {
    "collapsed": false,
    "pycharm": {
     "name": "#%%\n"
    }
   }
  },
  {
   "cell_type": "markdown",
   "source": [
    "## Nettoyage des \"title_principal\"\n",
    "\n",
    "### SELECT\n",
    "On ne sélectionne que les données portant sur les films qui sont dans notre BDD"
   ],
   "metadata": {
    "collapsed": false,
    "pycharm": {
     "name": "#%% md\n"
    }
   }
  },
  {
   "cell_type": "code",
   "source": [
    "query = '''\n",
    "SELECT * FROM imdb_title_principals titles\n",
    "WHERE titles.tconst IN (\n",
    "    SELECT imdbId FROM links\n",
    "    );\n",
    "'''\n",
    "imdb_titles = pd.DataFrame(pd.read_sql(query, db_conn))\n",
    "imdb_titles.shape"
   ],
   "metadata": {
    "collapsed": false,
    "pycharm": {
     "name": "#%%\n"
    }
   },
   "execution_count": 3,
   "outputs": [
    {
     "data": {
      "text/plain": "(550362, 6)"
     },
     "execution_count": 3,
     "metadata": {},
     "output_type": "execute_result"
    }
   ]
  },
  {
   "cell_type": "code",
   "execution_count": 7,
   "outputs": [
    {
     "data": {
      "text/plain": "      tconst  ordering     nconst         category                      job  \\\n0  tt0000001         1  nm1588970             self                       \\N   \n1  tt0000001         2  nm0005690         director                       \\N   \n2  tt0000001         3  nm0374658  cinematographer  director of photography   \n3  tt0000003         1  nm0721526         director                       \\N   \n4  tt0000003         2  nm5442194         producer                 producer   \n\n  characters  \n0   [\"Self\"]  \n1         \\N  \n2         \\N  \n3         \\N  \n4         \\N  ",
      "text/html": "<div>\n<style scoped>\n    .dataframe tbody tr th:only-of-type {\n        vertical-align: middle;\n    }\n\n    .dataframe tbody tr th {\n        vertical-align: top;\n    }\n\n    .dataframe thead th {\n        text-align: right;\n    }\n</style>\n<table border=\"1\" class=\"dataframe\">\n  <thead>\n    <tr style=\"text-align: right;\">\n      <th></th>\n      <th>tconst</th>\n      <th>ordering</th>\n      <th>nconst</th>\n      <th>category</th>\n      <th>job</th>\n      <th>characters</th>\n    </tr>\n  </thead>\n  <tbody>\n    <tr>\n      <th>0</th>\n      <td>tt0000001</td>\n      <td>1</td>\n      <td>nm1588970</td>\n      <td>self</td>\n      <td>\\N</td>\n      <td>[\"Self\"]</td>\n    </tr>\n    <tr>\n      <th>1</th>\n      <td>tt0000001</td>\n      <td>2</td>\n      <td>nm0005690</td>\n      <td>director</td>\n      <td>\\N</td>\n      <td>\\N</td>\n    </tr>\n    <tr>\n      <th>2</th>\n      <td>tt0000001</td>\n      <td>3</td>\n      <td>nm0374658</td>\n      <td>cinematographer</td>\n      <td>director of photography</td>\n      <td>\\N</td>\n    </tr>\n    <tr>\n      <th>3</th>\n      <td>tt0000003</td>\n      <td>1</td>\n      <td>nm0721526</td>\n      <td>director</td>\n      <td>\\N</td>\n      <td>\\N</td>\n    </tr>\n    <tr>\n      <th>4</th>\n      <td>tt0000003</td>\n      <td>2</td>\n      <td>nm5442194</td>\n      <td>producer</td>\n      <td>producer</td>\n      <td>\\N</td>\n    </tr>\n  </tbody>\n</table>\n</div>"
     },
     "execution_count": 7,
     "metadata": {},
     "output_type": "execute_result"
    }
   ],
   "source": [
    "imdb_titles.head()"
   ],
   "metadata": {
    "collapsed": false,
    "pycharm": {
     "name": "#%%\n"
    }
   }
  },
  {
   "cell_type": "markdown",
   "source": [
    "### Import to BDD"
   ],
   "metadata": {
    "collapsed": false
   }
  },
  {
   "cell_type": "code",
   "execution_count": 4,
   "outputs": [],
   "source": [
    "imdb_titles.to_sql('imdb_title_principals', db_conn, if_exists = 'replace', index = False)"
   ],
   "metadata": {
    "collapsed": false,
    "pycharm": {
     "name": "#%%\n"
    }
   }
  },
  {
   "cell_type": "markdown",
   "source": [
    "## Base des acteurs\n",
    "\n",
    "### SELECT"
   ],
   "metadata": {
    "collapsed": false
   }
  },
  {
   "cell_type": "code",
   "execution_count": 5,
   "outputs": [
    {
     "data": {
      "text/plain": "(210057, 6)"
     },
     "execution_count": 5,
     "metadata": {},
     "output_type": "execute_result"
    }
   ],
   "source": [
    "query = '''\n",
    "SELECT * FROM imdb_name_basic names\n",
    "WHERE names.nconst IN (\n",
    "    SELECT p.nconst\n",
    "        FROM imdb_title_principals p\n",
    "    );\n",
    "'''\n",
    "imdb_names = pd.DataFrame(pd.read_sql(query, db_conn))\n",
    "imdb_names.shape"
   ],
   "metadata": {
    "collapsed": false,
    "pycharm": {
     "name": "#%%\n"
    }
   }
  },
  {
   "cell_type": "markdown",
   "source": [
    "### Import dans la BDD"
   ],
   "metadata": {
    "collapsed": false
   }
  },
  {
   "cell_type": "code",
   "execution_count": 6,
   "outputs": [],
   "source": [
    "imdb_names.to_sql('imdb_name_basic', db_conn, if_exists = 'replace', index = False)\n"
   ],
   "metadata": {
    "collapsed": false,
    "pycharm": {
     "name": "#%%\n"
    }
   }
  }
 ],
 "metadata": {
  "kernelspec": {
   "name": "pycharm-9d3ed5e2",
   "language": "python",
   "display_name": "PyCharm (Python (default))"
  },
  "language_info": {
   "codemirror_mode": {
    "name": "ipython",
    "version": 2
   },
   "file_extension": ".py",
   "mimetype": "text/x-python",
   "name": "python",
   "nbconvert_exporter": "python",
   "pygments_lexer": "ipython2",
   "version": "2.7.6"
  }
 },
 "nbformat": 4,
 "nbformat_minor": 0
}