{
 "cells": [
  {
   "cell_type": "markdown",
   "metadata": {},
   "source": [
    "# Concaténation des données "
   ]
  },
  {
   "cell_type": "markdown",
   "metadata": {},
   "source": [
    "Import des packages"
   ]
  },
  {
   "cell_type": "code",
   "execution_count": 1,
   "metadata": {},
   "outputs": [],
   "source": [
    "import glob\n",
    "import pandas as pd "
   ]
  },
  {
   "cell_type": "markdown",
   "metadata": {},
   "source": [
    " ## Tour 1"
   ]
  },
  {
   "cell_type": "code",
   "execution_count": 2,
   "metadata": {},
   "outputs": [],
   "source": [
    "files = glob.glob('/home/h4r1c0t/Github/WildCodeSchool/Project/Datathon#1/PRESIDENTIELLES_1965-2012-csv/pres_circ_t1/*.csv')\n",
    "files.sort()\n",
    "dates = ['1965-12-05', '1969-06-01', '1974-05-05', '1981-04-26', '1988-04-24', \n",
    "         '1995-04-23', '2002-04-21', '2007-04-22', '2012-04-22']\n",
    "data = pd.DataFrame(columns = ['Code département', 'département', 'circonscription', 'Inscrits', 'Votants', 'Exprimés', 'Blancs et nuls'])\n",
    "\n",
    "for file, k in zip(files, dates):\n",
    "    df = pd.read_csv(file)\n",
    "    df1 = df.iloc[:, 0:7]\n",
    "    df1.columns = ['Code département', 'département', 'circonscription', 'Inscrits', 'Votants', 'Exprimés', 'Blancs et nuls']\n",
    "    for i in range(8, len(df.columns)):\n",
    "        df2 = pd.DataFrame(df.iloc[:, i])\n",
    "        df2['Candidats'] = df.columns[i]\n",
    "        df2.rename(columns = {df.columns[i]:'Score'}, inplace = True)\n",
    "        df2['Tour'] = 1\n",
    "        df2['Date'] = k\n",
    "        df3 = pd.concat([df1, df2], axis = 1)\n",
    "        data = pd.concat([data, df3])"
   ]
  },
  {
   "cell_type": "markdown",
   "metadata": {},
   "source": [
    " ## Tour 2"
   ]
  },
  {
   "cell_type": "code",
   "execution_count": 3,
   "metadata": {},
   "outputs": [],
   "source": [
    "files = glob.glob('/home/h4r1c0t/Github/WildCodeSchool/Project/Datathon#1/PRESIDENTIELLES_1965-2012-csv/pres_circ_t2/*.csv')\n",
    "dates = ['1965-12-19', '1969-06-15', '1974-05-19', '1981-05-10', '1988-05-08', \n",
    "         '1995-05-07', '2002-05-05', '2007-05-06', '2012-05-06']\n",
    "\n",
    "for file, k in zip(files, dates):\n",
    "    df = pd.read_csv(file)\n",
    "    df1 = df.iloc[:, 0:7]\n",
    "    df1.columns = ['Code département', 'département', 'circonscription', 'Inscrits', 'Votants', 'Exprimés', 'Blancs et nuls']\n",
    "    for i in range(8, len(df.columns)):\n",
    "        df2 = pd.DataFrame(df.iloc[:, i])\n",
    "        df2['Candidats'] = df.columns[i]\n",
    "        df2.rename(columns = {df.columns[i]:'Score'}, inplace = True)\n",
    "        df2['Tour'] = 2\n",
    "        df2['Date'] = k\n",
    "        df3 = pd.concat([df1, df2], axis = 1)\n",
    "        data = pd.concat([data, df3])"
   ]
  },
  {
   "cell_type": "markdown",
   "metadata": {},
   "source": [
    "## Visualisation du DataFrame"
   ]
  },
  {
   "cell_type": "code",
   "execution_count": 4,
   "metadata": {},
   "outputs": [
    {
     "data": {
      "text/plain": [
       "(48372, 11)"
      ]
     },
     "execution_count": 4,
     "metadata": {},
     "output_type": "execute_result"
    }
   ],
   "source": [
    "data.shape"
   ]
  },
  {
   "cell_type": "code",
   "execution_count": 5,
   "metadata": {},
   "outputs": [
    {
     "data": {
      "text/html": [
       "<div>\n",
       "<style scoped>\n",
       "    .dataframe tbody tr th:only-of-type {\n",
       "        vertical-align: middle;\n",
       "    }\n",
       "\n",
       "    .dataframe tbody tr th {\n",
       "        vertical-align: top;\n",
       "    }\n",
       "\n",
       "    .dataframe thead th {\n",
       "        text-align: right;\n",
       "    }\n",
       "</style>\n",
       "<table border=\"1\" class=\"dataframe\">\n",
       "  <thead>\n",
       "    <tr style=\"text-align: right;\">\n",
       "      <th></th>\n",
       "      <th>Code département</th>\n",
       "      <th>département</th>\n",
       "      <th>circonscription</th>\n",
       "      <th>Inscrits</th>\n",
       "      <th>Votants</th>\n",
       "      <th>Exprimés</th>\n",
       "      <th>Blancs et nuls</th>\n",
       "      <th>Score</th>\n",
       "      <th>Candidats</th>\n",
       "      <th>Tour</th>\n",
       "      <th>Date</th>\n",
       "    </tr>\n",
       "  </thead>\n",
       "  <tbody>\n",
       "    <tr>\n",
       "      <th>0</th>\n",
       "      <td>1</td>\n",
       "      <td>AIN</td>\n",
       "      <td>1</td>\n",
       "      <td>68818</td>\n",
       "      <td>54262</td>\n",
       "      <td>53769</td>\n",
       "      <td>493</td>\n",
       "      <td>11669.0</td>\n",
       "      <td>LECANUET (MRP)</td>\n",
       "      <td>1.0</td>\n",
       "      <td>1965-12-05</td>\n",
       "    </tr>\n",
       "    <tr>\n",
       "      <th>1</th>\n",
       "      <td>1</td>\n",
       "      <td>AIN</td>\n",
       "      <td>2</td>\n",
       "      <td>70186</td>\n",
       "      <td>57221</td>\n",
       "      <td>56780</td>\n",
       "      <td>441</td>\n",
       "      <td>7936.0</td>\n",
       "      <td>LECANUET (MRP)</td>\n",
       "      <td>1.0</td>\n",
       "      <td>1965-12-05</td>\n",
       "    </tr>\n",
       "    <tr>\n",
       "      <th>2</th>\n",
       "      <td>1</td>\n",
       "      <td>AIN</td>\n",
       "      <td>3</td>\n",
       "      <td>67492</td>\n",
       "      <td>55503</td>\n",
       "      <td>55006</td>\n",
       "      <td>497</td>\n",
       "      <td>10811.0</td>\n",
       "      <td>LECANUET (MRP)</td>\n",
       "      <td>1.0</td>\n",
       "      <td>1965-12-05</td>\n",
       "    </tr>\n",
       "    <tr>\n",
       "      <th>3</th>\n",
       "      <td>2</td>\n",
       "      <td>AISNE</td>\n",
       "      <td>1</td>\n",
       "      <td>52618</td>\n",
       "      <td>46064</td>\n",
       "      <td>45564</td>\n",
       "      <td>500</td>\n",
       "      <td>7242.0</td>\n",
       "      <td>LECANUET (MRP)</td>\n",
       "      <td>1.0</td>\n",
       "      <td>1965-12-05</td>\n",
       "    </tr>\n",
       "    <tr>\n",
       "      <th>4</th>\n",
       "      <td>2</td>\n",
       "      <td>AISNE</td>\n",
       "      <td>2</td>\n",
       "      <td>68770</td>\n",
       "      <td>59908</td>\n",
       "      <td>59145</td>\n",
       "      <td>763</td>\n",
       "      <td>8066.0</td>\n",
       "      <td>LECANUET (MRP)</td>\n",
       "      <td>1.0</td>\n",
       "      <td>1965-12-05</td>\n",
       "    </tr>\n",
       "  </tbody>\n",
       "</table>\n",
       "</div>"
      ],
      "text/plain": [
       "  Code département département circonscription Inscrits Votants Exprimés  \\\n",
       "0                1         AIN               1    68818   54262    53769   \n",
       "1                1         AIN               2    70186   57221    56780   \n",
       "2                1         AIN               3    67492   55503    55006   \n",
       "3                2       AISNE               1    52618   46064    45564   \n",
       "4                2       AISNE               2    68770   59908    59145   \n",
       "\n",
       "  Blancs et nuls    Score       Candidats  Tour        Date  \n",
       "0            493  11669.0  LECANUET (MRP)   1.0  1965-12-05  \n",
       "1            441   7936.0  LECANUET (MRP)   1.0  1965-12-05  \n",
       "2            497  10811.0  LECANUET (MRP)   1.0  1965-12-05  \n",
       "3            500   7242.0  LECANUET (MRP)   1.0  1965-12-05  \n",
       "4            763   8066.0  LECANUET (MRP)   1.0  1965-12-05  "
      ]
     },
     "execution_count": 5,
     "metadata": {},
     "output_type": "execute_result"
    }
   ],
   "source": [
    "data.head()"
   ]
  },
  {
   "cell_type": "code",
   "execution_count": 6,
   "metadata": {},
   "outputs": [
    {
     "data": {
      "text/html": [
       "<div>\n",
       "<style scoped>\n",
       "    .dataframe tbody tr th:only-of-type {\n",
       "        vertical-align: middle;\n",
       "    }\n",
       "\n",
       "    .dataframe tbody tr th {\n",
       "        vertical-align: top;\n",
       "    }\n",
       "\n",
       "    .dataframe thead th {\n",
       "        text-align: right;\n",
       "    }\n",
       "</style>\n",
       "<table border=\"1\" class=\"dataframe\">\n",
       "  <thead>\n",
       "    <tr style=\"text-align: right;\">\n",
       "      <th></th>\n",
       "      <th>Code département</th>\n",
       "      <th>département</th>\n",
       "      <th>circonscription</th>\n",
       "      <th>Inscrits</th>\n",
       "      <th>Votants</th>\n",
       "      <th>Exprimés</th>\n",
       "      <th>Blancs et nuls</th>\n",
       "      <th>Score</th>\n",
       "      <th>Candidats</th>\n",
       "      <th>Tour</th>\n",
       "      <th>Date</th>\n",
       "    </tr>\n",
       "  </thead>\n",
       "  <tbody>\n",
       "    <tr>\n",
       "      <th>469</th>\n",
       "      <td>95</td>\n",
       "      <td>VAL-D'OISE</td>\n",
       "      <td>1</td>\n",
       "      <td>116492</td>\n",
       "      <td>101867</td>\n",
       "      <td>98727</td>\n",
       "      <td>3140</td>\n",
       "      <td>45178.0</td>\n",
       "      <td>GISCARD D'ESTAING (UDF)</td>\n",
       "      <td>2.0</td>\n",
       "      <td>2012-05-06</td>\n",
       "    </tr>\n",
       "    <tr>\n",
       "      <th>470</th>\n",
       "      <td>95</td>\n",
       "      <td>VAL-D'OISE</td>\n",
       "      <td>2</td>\n",
       "      <td>88572</td>\n",
       "      <td>76804</td>\n",
       "      <td>74415</td>\n",
       "      <td>2389</td>\n",
       "      <td>34047.0</td>\n",
       "      <td>GISCARD D'ESTAING (UDF)</td>\n",
       "      <td>2.0</td>\n",
       "      <td>2012-05-06</td>\n",
       "    </tr>\n",
       "    <tr>\n",
       "      <th>471</th>\n",
       "      <td>95</td>\n",
       "      <td>VAL-D'OISE</td>\n",
       "      <td>3</td>\n",
       "      <td>68462</td>\n",
       "      <td>57233</td>\n",
       "      <td>55549</td>\n",
       "      <td>1684</td>\n",
       "      <td>18739.0</td>\n",
       "      <td>GISCARD D'ESTAING (UDF)</td>\n",
       "      <td>2.0</td>\n",
       "      <td>2012-05-06</td>\n",
       "    </tr>\n",
       "    <tr>\n",
       "      <th>472</th>\n",
       "      <td>95</td>\n",
       "      <td>VAL-D'OISE</td>\n",
       "      <td>4</td>\n",
       "      <td>107816</td>\n",
       "      <td>93268</td>\n",
       "      <td>90150</td>\n",
       "      <td>3118</td>\n",
       "      <td>45051.0</td>\n",
       "      <td>GISCARD D'ESTAING (UDF)</td>\n",
       "      <td>2.0</td>\n",
       "      <td>2012-05-06</td>\n",
       "    </tr>\n",
       "    <tr>\n",
       "      <th>473</th>\n",
       "      <td>95</td>\n",
       "      <td>VAL-D'OISE</td>\n",
       "      <td>5</td>\n",
       "      <td>152501</td>\n",
       "      <td>129716</td>\n",
       "      <td>125358</td>\n",
       "      <td>4358</td>\n",
       "      <td>48709.0</td>\n",
       "      <td>GISCARD D'ESTAING (UDF)</td>\n",
       "      <td>2.0</td>\n",
       "      <td>2012-05-06</td>\n",
       "    </tr>\n",
       "  </tbody>\n",
       "</table>\n",
       "</div>"
      ],
      "text/plain": [
       "    Code département département circonscription Inscrits Votants Exprimés  \\\n",
       "469               95  VAL-D'OISE               1   116492  101867    98727   \n",
       "470               95  VAL-D'OISE               2    88572   76804    74415   \n",
       "471               95  VAL-D'OISE               3    68462   57233    55549   \n",
       "472               95  VAL-D'OISE               4   107816   93268    90150   \n",
       "473               95  VAL-D'OISE               5   152501  129716   125358   \n",
       "\n",
       "    Blancs et nuls    Score                Candidats  Tour        Date  \n",
       "469           3140  45178.0  GISCARD D'ESTAING (UDF)   2.0  2012-05-06  \n",
       "470           2389  34047.0  GISCARD D'ESTAING (UDF)   2.0  2012-05-06  \n",
       "471           1684  18739.0  GISCARD D'ESTAING (UDF)   2.0  2012-05-06  \n",
       "472           3118  45051.0  GISCARD D'ESTAING (UDF)   2.0  2012-05-06  \n",
       "473           4358  48709.0  GISCARD D'ESTAING (UDF)   2.0  2012-05-06  "
      ]
     },
     "execution_count": 6,
     "metadata": {},
     "output_type": "execute_result"
    }
   ],
   "source": [
    "data.tail()"
   ]
  },
  {
   "cell_type": "markdown",
   "metadata": {},
   "source": [
    "## Write DataFrame"
   ]
  },
  {
   "cell_type": "code",
   "execution_count": 7,
   "metadata": {},
   "outputs": [],
   "source": [
    "data.to_csv('/home/h4r1c0t/Github/WildCodeSchool/Project/Datathon#1/data_pres_1965-2012.csv', index = False)"
   ]
  }
 ],
 "metadata": {
  "kernelspec": {
   "display_name": "Python 3",
   "language": "python",
   "name": "python3"
  },
  "language_info": {
   "codemirror_mode": {
    "name": "ipython",
    "version": 3
   },
   "file_extension": ".py",
   "mimetype": "text/x-python",
   "name": "python",
   "nbconvert_exporter": "python",
   "pygments_lexer": "ipython3",
   "version": "3.7.6"
  }
 },
 "nbformat": 4,
 "nbformat_minor": 4
}
