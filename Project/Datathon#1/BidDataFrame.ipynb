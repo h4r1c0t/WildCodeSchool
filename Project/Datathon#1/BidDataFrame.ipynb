{
 "cells": [
  {
   "cell_type": "markdown",
   "metadata": {},
   "source": [
    "# Concaténation des données "
   ]
  },
  {
   "cell_type": "code",
   "execution_count": 3,
   "metadata": {},
   "outputs": [
    {
     "data": {
      "text/plain": [
       "['/home/h4r1c0t/Github/WildCodeSchool/Project/Datathon#1/PRESIDENTIELLES_1965-2012-csv/cdsp_presi1974t2_circ.csv',\n",
       " '/home/h4r1c0t/Github/WildCodeSchool/Project/Datathon#1/PRESIDENTIELLES_1965-2012-csv/cdsp_presi1969t2_circ.csv',\n",
       " '/home/h4r1c0t/Github/WildCodeSchool/Project/Datathon#1/PRESIDENTIELLES_1965-2012-csv/cdsp_presi2002t1_circ.csv',\n",
       " '/home/h4r1c0t/Github/WildCodeSchool/Project/Datathon#1/PRESIDENTIELLES_1965-2012-csv/cdsp_presi1974t1_circ.csv',\n",
       " '/home/h4r1c0t/Github/WildCodeSchool/Project/Datathon#1/PRESIDENTIELLES_1965-2012-csv/cdsp_presi1995t1_commp9000.csv',\n",
       " '/home/h4r1c0t/Github/WildCodeSchool/Project/Datathon#1/PRESIDENTIELLES_1965-2012-csv/cdsp_presi2012t1_circ.csv',\n",
       " '/home/h4r1c0t/Github/WildCodeSchool/Project/Datathon#1/PRESIDENTIELLES_1965-2012-csv/cdsp_presi2007t2_circ.csv',\n",
       " '/home/h4r1c0t/Github/WildCodeSchool/Project/Datathon#1/PRESIDENTIELLES_1965-2012-csv/cdsp_presi1981t1_circ.csv',\n",
       " '/home/h4r1c0t/Github/WildCodeSchool/Project/Datathon#1/PRESIDENTIELLES_1965-2012-csv/cdsp_presi1981t1_commp9000.csv',\n",
       " '/home/h4r1c0t/Github/WildCodeSchool/Project/Datathon#1/PRESIDENTIELLES_1965-2012-csv/cdsp_presi2002t1_commp9000.csv',\n",
       " '/home/h4r1c0t/Github/WildCodeSchool/Project/Datathon#1/PRESIDENTIELLES_1965-2012-csv/cdsp_presi1995t2_circ.csv',\n",
       " '/home/h4r1c0t/Github/WildCodeSchool/Project/Datathon#1/PRESIDENTIELLES_1965-2012-csv/cdsp_presi1995t1_circ.csv',\n",
       " '/home/h4r1c0t/Github/WildCodeSchool/Project/Datathon#1/PRESIDENTIELLES_1965-2012-csv/cdsp_presi1965t2_circ.csv',\n",
       " '/home/h4r1c0t/Github/WildCodeSchool/Project/Datathon#1/PRESIDENTIELLES_1965-2012-csv/cdsp_presi2007t1_circ.csv',\n",
       " '/home/h4r1c0t/Github/WildCodeSchool/Project/Datathon#1/PRESIDENTIELLES_1965-2012-csv/cdsp_presi1988t2_circ.csv',\n",
       " '/home/h4r1c0t/Github/WildCodeSchool/Project/Datathon#1/PRESIDENTIELLES_1965-2012-csv/cdsp_presi1965t1_circ.csv',\n",
       " '/home/h4r1c0t/Github/WildCodeSchool/Project/Datathon#1/PRESIDENTIELLES_1965-2012-csv/cdsp_presi1969t1_circ.csv',\n",
       " '/home/h4r1c0t/Github/WildCodeSchool/Project/Datathon#1/PRESIDENTIELLES_1965-2012-csv/cdsp_presi2002t2_circ.csv',\n",
       " '/home/h4r1c0t/Github/WildCodeSchool/Project/Datathon#1/PRESIDENTIELLES_1965-2012-csv/cdsp_presi1988t1_circ.csv',\n",
       " '/home/h4r1c0t/Github/WildCodeSchool/Project/Datathon#1/PRESIDENTIELLES_1965-2012-csv/cdsp_presi1988t2_commp9000.csv',\n",
       " '/home/h4r1c0t/Github/WildCodeSchool/Project/Datathon#1/PRESIDENTIELLES_1965-2012-csv/cdsp_presi2012t2_circ.csv',\n",
       " '/home/h4r1c0t/Github/WildCodeSchool/Project/Datathon#1/PRESIDENTIELLES_1965-2012-csv/cdsp_presi1988t1_commp9000.csv',\n",
       " '/home/h4r1c0t/Github/WildCodeSchool/Project/Datathon#1/PRESIDENTIELLES_1965-2012-csv/cdsp_presi1981t2_circ.csv']"
      ]
     },
     "execution_count": 3,
     "metadata": {},
     "output_type": "execute_result"
    }
   ],
   "source": [
    "import glob\n",
    "import pandas as pd \n",
    "\n",
    "files = glob.glob('/home/h4r1c0t/Github/WildCodeSchool/Project/Datathon#1/PRESIDENTIELLES_1965-2012-csv/*.csv')\n",
    "\n",
    "# for file in files: \n",
    "    df = pd.read_csv(file)\n",
    "    df1 = df.iloc[:, 0:6]\n",
    "    "
   ]
  }
 ],
 "metadata": {
  "kernelspec": {
   "display_name": "Python 3",
   "language": "python",
   "name": "python3"
  },
  "language_info": {
   "codemirror_mode": {
    "name": "ipython",
    "version": 3
   },
   "file_extension": ".py",
   "mimetype": "text/x-python",
   "name": "python",
   "nbconvert_exporter": "python",
   "pygments_lexer": "ipython3",
   "version": "3.7.6"
  }
 },
 "nbformat": 4,
 "nbformat_minor": 4
}
