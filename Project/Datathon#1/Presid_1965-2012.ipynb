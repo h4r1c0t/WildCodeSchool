{
 "cells": [
  {
   "cell_type": "markdown",
   "metadata": {},
   "source": [
    "# Données des présidentielles de 1965 à 2012\n",
    "## Importation et exploration des données"
   ]
  },
  {
   "cell_type": "code",
   "execution_count": 2,
   "metadata": {},
   "outputs": [],
   "source": [
    "import pandas as pd\n",
    "df = pd.read_csv('https://raw.githubusercontent.com/h4r1c0t/WildCodeSchool/master/Project/Datathon%231/data_pres_1965-2012.csv')"
   ]
  },
  {
   "cell_type": "code",
   "execution_count": 4,
   "metadata": {},
   "outputs": [
    {
     "data": {
      "text/plain": [
       "(48372, 11)"
      ]
     },
     "execution_count": 4,
     "metadata": {},
     "output_type": "execute_result"
    }
   ],
   "source": [
    "df.shape"
   ]
  },
  {
   "cell_type": "code",
   "execution_count": 5,
   "metadata": {},
   "outputs": [
    {
     "data": {
      "text/html": [
       "<div>\n",
       "<style scoped>\n",
       "    .dataframe tbody tr th:only-of-type {\n",
       "        vertical-align: middle;\n",
       "    }\n",
       "\n",
       "    .dataframe tbody tr th {\n",
       "        vertical-align: top;\n",
       "    }\n",
       "\n",
       "    .dataframe thead th {\n",
       "        text-align: right;\n",
       "    }\n",
       "</style>\n",
       "<table border=\"1\" class=\"dataframe\">\n",
       "  <thead>\n",
       "    <tr style=\"text-align: right;\">\n",
       "      <th></th>\n",
       "      <th>Unnamed: 0</th>\n",
       "      <th>Code département</th>\n",
       "      <th>département</th>\n",
       "      <th>circonscription</th>\n",
       "      <th>Inscrits</th>\n",
       "      <th>Votants</th>\n",
       "      <th>Exprimés</th>\n",
       "      <th>Blancs et nuls</th>\n",
       "      <th>Score</th>\n",
       "      <th>Candidats</th>\n",
       "      <th>Tour</th>\n",
       "    </tr>\n",
       "  </thead>\n",
       "  <tbody>\n",
       "    <tr>\n",
       "      <th>0</th>\n",
       "      <td>0</td>\n",
       "      <td>1</td>\n",
       "      <td>AIN</td>\n",
       "      <td>1</td>\n",
       "      <td>80486.0</td>\n",
       "      <td>58825.0</td>\n",
       "      <td>56688.0</td>\n",
       "      <td>2137.0</td>\n",
       "      <td>2495.0</td>\n",
       "      <td>LAGUILLER (LO)</td>\n",
       "      <td>1</td>\n",
       "    </tr>\n",
       "    <tr>\n",
       "      <th>1</th>\n",
       "      <td>1</td>\n",
       "      <td>1</td>\n",
       "      <td>AIN</td>\n",
       "      <td>2</td>\n",
       "      <td>82984.0</td>\n",
       "      <td>61231.0</td>\n",
       "      <td>59271.0</td>\n",
       "      <td>1960.0</td>\n",
       "      <td>2968.0</td>\n",
       "      <td>LAGUILLER (LO)</td>\n",
       "      <td>1</td>\n",
       "    </tr>\n",
       "    <tr>\n",
       "      <th>2</th>\n",
       "      <td>2</td>\n",
       "      <td>1</td>\n",
       "      <td>AIN</td>\n",
       "      <td>3</td>\n",
       "      <td>76759.0</td>\n",
       "      <td>55344.0</td>\n",
       "      <td>53597.0</td>\n",
       "      <td>1747.0</td>\n",
       "      <td>2709.0</td>\n",
       "      <td>LAGUILLER (LO)</td>\n",
       "      <td>1</td>\n",
       "    </tr>\n",
       "    <tr>\n",
       "      <th>3</th>\n",
       "      <td>3</td>\n",
       "      <td>1</td>\n",
       "      <td>AIN</td>\n",
       "      <td>4</td>\n",
       "      <td>97991.0</td>\n",
       "      <td>73817.0</td>\n",
       "      <td>71096.0</td>\n",
       "      <td>2721.0</td>\n",
       "      <td>3390.0</td>\n",
       "      <td>LAGUILLER (LO)</td>\n",
       "      <td>1</td>\n",
       "    </tr>\n",
       "    <tr>\n",
       "      <th>4</th>\n",
       "      <td>4</td>\n",
       "      <td>2</td>\n",
       "      <td>AISNE</td>\n",
       "      <td>1</td>\n",
       "      <td>69958.0</td>\n",
       "      <td>51878.0</td>\n",
       "      <td>50280.0</td>\n",
       "      <td>1598.0</td>\n",
       "      <td>4710.0</td>\n",
       "      <td>LAGUILLER (LO)</td>\n",
       "      <td>1</td>\n",
       "    </tr>\n",
       "  </tbody>\n",
       "</table>\n",
       "</div>"
      ],
      "text/plain": [
       "   Unnamed: 0 Code département département circonscription  Inscrits  Votants  \\\n",
       "0           0                1         AIN               1   80486.0  58825.0   \n",
       "1           1                1         AIN               2   82984.0  61231.0   \n",
       "2           2                1         AIN               3   76759.0  55344.0   \n",
       "3           3                1         AIN               4   97991.0  73817.0   \n",
       "4           4                2       AISNE               1   69958.0  51878.0   \n",
       "\n",
       "   Exprimés  Blancs et nuls   Score       Candidats  Tour  \n",
       "0   56688.0          2137.0  2495.0  LAGUILLER (LO)     1  \n",
       "1   59271.0          1960.0  2968.0  LAGUILLER (LO)     1  \n",
       "2   53597.0          1747.0  2709.0  LAGUILLER (LO)     1  \n",
       "3   71096.0          2721.0  3390.0  LAGUILLER (LO)     1  \n",
       "4   50280.0          1598.0  4710.0  LAGUILLER (LO)     1  "
      ]
     },
     "execution_count": 5,
     "metadata": {},
     "output_type": "execute_result"
    }
   ],
   "source": [
    "df.head()"
   ]
  },
  {
   "cell_type": "code",
   "execution_count": null,
   "metadata": {},
   "outputs": [],
   "source": []
  }
 ],
 "metadata": {
  "kernelspec": {
   "display_name": "Python 3",
   "language": "python",
   "name": "python3"
  },
  "language_info": {
   "codemirror_mode": {
    "name": "ipython",
    "version": 3
   },
   "file_extension": ".py",
   "mimetype": "text/x-python",
   "name": "python",
   "nbconvert_exporter": "python",
   "pygments_lexer": "ipython3",
   "version": "3.7.6"
  }
 },
 "nbformat": 4,
 "nbformat_minor": 4
}
