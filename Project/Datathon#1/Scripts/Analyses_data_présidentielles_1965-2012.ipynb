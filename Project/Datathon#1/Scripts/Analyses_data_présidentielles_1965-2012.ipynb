{
 "cells": [
  {
   "cell_type": "markdown",
   "metadata": {},
   "source": [
    "# Analyse des données des élections de 1965 à 2012\n",
    "## Import"
   ]
  },
  {
   "cell_type": "code",
   "execution_count": 1,
   "metadata": {},
   "outputs": [],
   "source": [
    "import pandas as pd\n",
    "import numpy as np\n",
    "import matplotlib.pyplot as plt"
   ]
  },
  {
   "cell_type": "markdown",
   "metadata": {},
   "source": [
    "### Dataset sur la participation"
   ]
  },
  {
   "cell_type": "code",
   "execution_count": 2,
   "metadata": {},
   "outputs": [],
   "source": [
    "link = 'https://raw.githubusercontent.com/h4r1c0t/WildCodeSchool/master/Project/Datathon%231/Datasets/data_participation_1965-2012.csv'\n",
    "dfP = pd.read_csv(link, index_col = False)\n",
    "dfP.drop('Unnamed: 0', axis = 1, inplace = True)"
   ]
  },
  {
   "cell_type": "markdown",
   "metadata": {},
   "source": [
    "### Dataset sur les scores"
   ]
  },
  {
   "cell_type": "code",
   "execution_count": 3,
   "metadata": {},
   "outputs": [],
   "source": [
    "link = 'https://raw.githubusercontent.com/h4r1c0t/WildCodeSchool/master/Project/Datathon%231/Datasets/data_scores_1965-2012.csv'\n",
    "dfSc = pd.read_csv(link, index_col = False)\n",
    "dfSc.drop('Unnamed: 0', axis = 1, inplace = True)"
   ]
  },
  {
   "cell_type": "markdown",
   "metadata": {},
   "source": [
    "## Exploration et visualisation des données\n",
    "### Participation"
   ]
  },
  {
   "cell_type": "code",
   "execution_count": 4,
   "metadata": {},
   "outputs": [
    {
     "data": {
      "text/html": [
       "<div>\n",
       "<style scoped>\n",
       "    .dataframe tbody tr th:only-of-type {\n",
       "        vertical-align: middle;\n",
       "    }\n",
       "\n",
       "    .dataframe tbody tr th {\n",
       "        vertical-align: top;\n",
       "    }\n",
       "\n",
       "    .dataframe thead th {\n",
       "        text-align: right;\n",
       "    }\n",
       "</style>\n",
       "<table border=\"1\" class=\"dataframe\">\n",
       "  <thead>\n",
       "    <tr style=\"text-align: right;\">\n",
       "      <th></th>\n",
       "      <th>Date</th>\n",
       "      <th>Tour</th>\n",
       "      <th>Code département</th>\n",
       "      <th>département</th>\n",
       "      <th>Blancs et nuls</th>\n",
       "      <th>Exprimés</th>\n",
       "      <th>Inscrits</th>\n",
       "      <th>Votants</th>\n",
       "      <th>Abstention</th>\n",
       "      <th>Votants (%)</th>\n",
       "      <th>Abstention (%)</th>\n",
       "      <th>Année</th>\n",
       "    </tr>\n",
       "  </thead>\n",
       "  <tbody>\n",
       "    <tr>\n",
       "      <th>0</th>\n",
       "      <td>1965-12-05</td>\n",
       "      <td>1.0</td>\n",
       "      <td>1</td>\n",
       "      <td>AIN</td>\n",
       "      <td>1431.0</td>\n",
       "      <td>165555.0</td>\n",
       "      <td>206496.0</td>\n",
       "      <td>166986.0</td>\n",
       "      <td>39510.0</td>\n",
       "      <td>80.87</td>\n",
       "      <td>19.13</td>\n",
       "      <td>1965</td>\n",
       "    </tr>\n",
       "    <tr>\n",
       "      <th>1</th>\n",
       "      <td>1965-12-05</td>\n",
       "      <td>1.0</td>\n",
       "      <td>10</td>\n",
       "      <td>AUBE</td>\n",
       "      <td>1435.0</td>\n",
       "      <td>130280.0</td>\n",
       "      <td>153423.0</td>\n",
       "      <td>131715.0</td>\n",
       "      <td>21708.0</td>\n",
       "      <td>85.85</td>\n",
       "      <td>14.15</td>\n",
       "      <td>1965</td>\n",
       "    </tr>\n",
       "    <tr>\n",
       "      <th>2</th>\n",
       "      <td>1965-12-05</td>\n",
       "      <td>1.0</td>\n",
       "      <td>11</td>\n",
       "      <td>AUDE</td>\n",
       "      <td>2096.0</td>\n",
       "      <td>146993.0</td>\n",
       "      <td>173977.0</td>\n",
       "      <td>149089.0</td>\n",
       "      <td>24888.0</td>\n",
       "      <td>85.69</td>\n",
       "      <td>14.31</td>\n",
       "      <td>1965</td>\n",
       "    </tr>\n",
       "    <tr>\n",
       "      <th>3</th>\n",
       "      <td>1965-12-05</td>\n",
       "      <td>1.0</td>\n",
       "      <td>12</td>\n",
       "      <td>AVEYRON</td>\n",
       "      <td>2189.0</td>\n",
       "      <td>157076.0</td>\n",
       "      <td>189045.0</td>\n",
       "      <td>159265.0</td>\n",
       "      <td>29780.0</td>\n",
       "      <td>84.25</td>\n",
       "      <td>15.75</td>\n",
       "      <td>1965</td>\n",
       "    </tr>\n",
       "    <tr>\n",
       "      <th>4</th>\n",
       "      <td>1965-12-05</td>\n",
       "      <td>1.0</td>\n",
       "      <td>13</td>\n",
       "      <td>BOUCHES-DU-RHONE</td>\n",
       "      <td>5828.0</td>\n",
       "      <td>603841.0</td>\n",
       "      <td>750783.0</td>\n",
       "      <td>609669.0</td>\n",
       "      <td>141114.0</td>\n",
       "      <td>81.20</td>\n",
       "      <td>18.80</td>\n",
       "      <td>1965</td>\n",
       "    </tr>\n",
       "  </tbody>\n",
       "</table>\n",
       "</div>"
      ],
      "text/plain": [
       "         Date  Tour Code département       département  Blancs et nuls  \\\n",
       "0  1965-12-05   1.0                1               AIN          1431.0   \n",
       "1  1965-12-05   1.0               10              AUBE          1435.0   \n",
       "2  1965-12-05   1.0               11              AUDE          2096.0   \n",
       "3  1965-12-05   1.0               12           AVEYRON          2189.0   \n",
       "4  1965-12-05   1.0               13  BOUCHES-DU-RHONE          5828.0   \n",
       "\n",
       "   Exprimés  Inscrits   Votants  Abstention  Votants (%)  Abstention (%)  \\\n",
       "0  165555.0  206496.0  166986.0     39510.0        80.87           19.13   \n",
       "1  130280.0  153423.0  131715.0     21708.0        85.85           14.15   \n",
       "2  146993.0  173977.0  149089.0     24888.0        85.69           14.31   \n",
       "3  157076.0  189045.0  159265.0     29780.0        84.25           15.75   \n",
       "4  603841.0  750783.0  609669.0    141114.0        81.20           18.80   \n",
       "\n",
       "   Année  \n",
       "0   1965  \n",
       "1   1965  \n",
       "2   1965  \n",
       "3   1965  \n",
       "4   1965  "
      ]
     },
     "execution_count": 4,
     "metadata": {},
     "output_type": "execute_result"
    }
   ],
   "source": [
    "dfP.head()"
   ]
  },
  {
   "cell_type": "markdown",
   "metadata": {},
   "source": [
    "### Scores"
   ]
  },
  {
   "cell_type": "code",
   "execution_count": 5,
   "metadata": {},
   "outputs": [
    {
     "data": {
      "text/html": [
       "<div>\n",
       "<style scoped>\n",
       "    .dataframe tbody tr th:only-of-type {\n",
       "        vertical-align: middle;\n",
       "    }\n",
       "\n",
       "    .dataframe tbody tr th {\n",
       "        vertical-align: top;\n",
       "    }\n",
       "\n",
       "    .dataframe thead th {\n",
       "        text-align: right;\n",
       "    }\n",
       "</style>\n",
       "<table border=\"1\" class=\"dataframe\">\n",
       "  <thead>\n",
       "    <tr style=\"text-align: right;\">\n",
       "      <th></th>\n",
       "      <th>Candidats</th>\n",
       "      <th>Orientation</th>\n",
       "      <th>Date</th>\n",
       "      <th>Tour</th>\n",
       "      <th>Code département</th>\n",
       "      <th>département</th>\n",
       "      <th>Score</th>\n",
       "      <th>Année</th>\n",
       "      <th>Score (%)</th>\n",
       "    </tr>\n",
       "  </thead>\n",
       "  <tbody>\n",
       "    <tr>\n",
       "      <th>0</th>\n",
       "      <td>BALLADUR (UDF)</td>\n",
       "      <td>droite</td>\n",
       "      <td>1995-04-23</td>\n",
       "      <td>1.0</td>\n",
       "      <td>1</td>\n",
       "      <td>AIN</td>\n",
       "      <td>48264.0</td>\n",
       "      <td>1995</td>\n",
       "      <td>19.80</td>\n",
       "    </tr>\n",
       "    <tr>\n",
       "      <th>1</th>\n",
       "      <td>CHEMINADE (POE)</td>\n",
       "      <td>sans</td>\n",
       "      <td>1995-04-23</td>\n",
       "      <td>1.0</td>\n",
       "      <td>1</td>\n",
       "      <td>AIN</td>\n",
       "      <td>686.0</td>\n",
       "      <td>1995</td>\n",
       "      <td>0.28</td>\n",
       "    </tr>\n",
       "    <tr>\n",
       "      <th>2</th>\n",
       "      <td>CHIRAC (RPR)</td>\n",
       "      <td>droite</td>\n",
       "      <td>1995-04-23</td>\n",
       "      <td>1.0</td>\n",
       "      <td>1</td>\n",
       "      <td>AIN</td>\n",
       "      <td>46891.0</td>\n",
       "      <td>1995</td>\n",
       "      <td>19.23</td>\n",
       "    </tr>\n",
       "    <tr>\n",
       "      <th>3</th>\n",
       "      <td>DE VILLIERS (MPF)</td>\n",
       "      <td>droite</td>\n",
       "      <td>1995-04-23</td>\n",
       "      <td>1.0</td>\n",
       "      <td>1</td>\n",
       "      <td>AIN</td>\n",
       "      <td>13118.0</td>\n",
       "      <td>1995</td>\n",
       "      <td>5.38</td>\n",
       "    </tr>\n",
       "    <tr>\n",
       "      <th>4</th>\n",
       "      <td>HUE (PCF)</td>\n",
       "      <td>gauche</td>\n",
       "      <td>1995-04-23</td>\n",
       "      <td>1.0</td>\n",
       "      <td>1</td>\n",
       "      <td>AIN</td>\n",
       "      <td>14999.0</td>\n",
       "      <td>1995</td>\n",
       "      <td>6.15</td>\n",
       "    </tr>\n",
       "  </tbody>\n",
       "</table>\n",
       "</div>"
      ],
      "text/plain": [
       "           Candidats Orientation        Date  Tour Code département  \\\n",
       "0     BALLADUR (UDF)      droite  1995-04-23   1.0                1   \n",
       "1    CHEMINADE (POE)        sans  1995-04-23   1.0                1   \n",
       "2       CHIRAC (RPR)      droite  1995-04-23   1.0                1   \n",
       "3  DE VILLIERS (MPF)      droite  1995-04-23   1.0                1   \n",
       "4          HUE (PCF)      gauche  1995-04-23   1.0                1   \n",
       "\n",
       "  département    Score  Année  Score (%)  \n",
       "0         AIN  48264.0   1995      19.80  \n",
       "1         AIN    686.0   1995       0.28  \n",
       "2         AIN  46891.0   1995      19.23  \n",
       "3         AIN  13118.0   1995       5.38  \n",
       "4         AIN  14999.0   1995       6.15  "
      ]
     },
     "execution_count": 5,
     "metadata": {},
     "output_type": "execute_result"
    }
   ],
   "source": [
    "dfSc.head()"
   ]
  },
  {
   "cell_type": "code",
   "execution_count": 6,
   "metadata": {},
   "outputs": [
    {
     "data": {
      "text/html": [
       "<div>\n",
       "<style scoped>\n",
       "    .dataframe tbody tr th:only-of-type {\n",
       "        vertical-align: middle;\n",
       "    }\n",
       "\n",
       "    .dataframe tbody tr th {\n",
       "        vertical-align: top;\n",
       "    }\n",
       "\n",
       "    .dataframe thead th {\n",
       "        text-align: right;\n",
       "    }\n",
       "</style>\n",
       "<table border=\"1\" class=\"dataframe\">\n",
       "  <thead>\n",
       "    <tr style=\"text-align: right;\">\n",
       "      <th></th>\n",
       "      <th>Candidats</th>\n",
       "      <th>Orientation</th>\n",
       "      <th>Date</th>\n",
       "      <th>Tour</th>\n",
       "      <th>Code département</th>\n",
       "      <th>département</th>\n",
       "      <th>Score</th>\n",
       "      <th>Année</th>\n",
       "      <th>Score (%)</th>\n",
       "    </tr>\n",
       "  </thead>\n",
       "  <tbody>\n",
       "  </tbody>\n",
       "</table>\n",
       "</div>"
      ],
      "text/plain": [
       "Empty DataFrame\n",
       "Columns: [Candidats, Orientation, Date, Tour, Code département, département, Score, Année, Score (%)]\n",
       "Index: []"
      ]
     },
     "execution_count": 6,
     "metadata": {},
     "output_type": "execute_result"
    }
   ],
   "source": [
    "dfSc[dfSc['Score (%)'] > 100]"
   ]
  },
  {
   "cell_type": "markdown",
   "metadata": {},
   "source": [
    "Il y a une erreur sur le score de POMPIDOU pour le 1er tour de 1969. En calculant par raport aux autres scores, on obtient un score de "
   ]
  },
  {
   "cell_type": "code",
   "execution_count": 7,
   "metadata": {},
   "outputs": [
    {
     "data": {
      "text/html": [
       "<div>\n",
       "<style scoped>\n",
       "    .dataframe tbody tr th:only-of-type {\n",
       "        vertical-align: middle;\n",
       "    }\n",
       "\n",
       "    .dataframe tbody tr th {\n",
       "        vertical-align: top;\n",
       "    }\n",
       "\n",
       "    .dataframe thead th {\n",
       "        text-align: right;\n",
       "    }\n",
       "</style>\n",
       "<table border=\"1\" class=\"dataframe\">\n",
       "  <thead>\n",
       "    <tr style=\"text-align: right;\">\n",
       "      <th></th>\n",
       "      <th>Année</th>\n",
       "      <th>Tour</th>\n",
       "      <th>Orientation</th>\n",
       "      <th>Score</th>\n",
       "    </tr>\n",
       "  </thead>\n",
       "  <tbody>\n",
       "    <tr>\n",
       "      <th>0</th>\n",
       "      <td>1965</td>\n",
       "      <td>1.0</td>\n",
       "      <td>droite</td>\n",
       "      <td>15821153.0</td>\n",
       "    </tr>\n",
       "    <tr>\n",
       "      <th>1</th>\n",
       "      <td>1965</td>\n",
       "      <td>1.0</td>\n",
       "      <td>gauche</td>\n",
       "      <td>7936445.0</td>\n",
       "    </tr>\n",
       "    <tr>\n",
       "      <th>2</th>\n",
       "      <td>1965</td>\n",
       "      <td>2.0</td>\n",
       "      <td>droite</td>\n",
       "      <td>13084560.0</td>\n",
       "    </tr>\n",
       "    <tr>\n",
       "      <th>3</th>\n",
       "      <td>1965</td>\n",
       "      <td>2.0</td>\n",
       "      <td>gauche</td>\n",
       "      <td>12741053.0</td>\n",
       "    </tr>\n",
       "  </tbody>\n",
       "</table>\n",
       "</div>"
      ],
      "text/plain": [
       "   Année  Tour Orientation       Score\n",
       "0   1965   1.0      droite  15821153.0\n",
       "1   1965   1.0      gauche   7936445.0\n",
       "2   1965   2.0      droite  13084560.0\n",
       "3   1965   2.0      gauche  12741053.0"
      ]
     },
     "execution_count": 7,
     "metadata": {},
     "output_type": "execute_result"
    }
   ],
   "source": [
    "tab1 = pd.pivot_table(dfSc, values = ['Score'], \n",
    "                      index = ['Année', 'Tour', 'Orientation'], \n",
    "                      aggfunc = np.sum).reset_index()\n",
    "tab1.head(4)"
   ]
  },
  {
   "cell_type": "code",
   "execution_count": 8,
   "metadata": {},
   "outputs": [
    {
     "data": {
      "text/html": [
       "<div>\n",
       "<style scoped>\n",
       "    .dataframe tbody tr th:only-of-type {\n",
       "        vertical-align: middle;\n",
       "    }\n",
       "\n",
       "    .dataframe tbody tr th {\n",
       "        vertical-align: top;\n",
       "    }\n",
       "\n",
       "    .dataframe thead th {\n",
       "        text-align: right;\n",
       "    }\n",
       "</style>\n",
       "<table border=\"1\" class=\"dataframe\">\n",
       "  <thead>\n",
       "    <tr style=\"text-align: right;\">\n",
       "      <th></th>\n",
       "      <th>Année</th>\n",
       "      <th>Tour</th>\n",
       "      <th>Score</th>\n",
       "    </tr>\n",
       "  </thead>\n",
       "  <tbody>\n",
       "    <tr>\n",
       "      <th>0</th>\n",
       "      <td>1965</td>\n",
       "      <td>1.0</td>\n",
       "      <td>23757598.0</td>\n",
       "    </tr>\n",
       "    <tr>\n",
       "      <th>1</th>\n",
       "      <td>1965</td>\n",
       "      <td>2.0</td>\n",
       "      <td>25825613.0</td>\n",
       "    </tr>\n",
       "    <tr>\n",
       "      <th>2</th>\n",
       "      <td>1969</td>\n",
       "      <td>1.0</td>\n",
       "      <td>22431180.0</td>\n",
       "    </tr>\n",
       "    <tr>\n",
       "      <th>3</th>\n",
       "      <td>1969</td>\n",
       "      <td>2.0</td>\n",
       "      <td>18547214.0</td>\n",
       "    </tr>\n",
       "  </tbody>\n",
       "</table>\n",
       "</div>"
      ],
      "text/plain": [
       "   Année  Tour       Score\n",
       "0   1965   1.0  23757598.0\n",
       "1   1965   2.0  25825613.0\n",
       "2   1969   1.0  22431180.0\n",
       "3   1969   2.0  18547214.0"
      ]
     },
     "execution_count": 8,
     "metadata": {},
     "output_type": "execute_result"
    }
   ],
   "source": [
    "tab2 = pd.pivot_table(dfSc, values = ['Score'], \n",
    "                      index = ['Année', 'Tour'], \n",
    "                      aggfunc = np.sum).reset_index()\n",
    "tab2.head(4)"
   ]
  },
  {
   "cell_type": "code",
   "execution_count": 9,
   "metadata": {},
   "outputs": [
    {
     "data": {
      "text/html": [
       "<div>\n",
       "<style scoped>\n",
       "    .dataframe tbody tr th:only-of-type {\n",
       "        vertical-align: middle;\n",
       "    }\n",
       "\n",
       "    .dataframe tbody tr th {\n",
       "        vertical-align: top;\n",
       "    }\n",
       "\n",
       "    .dataframe thead th {\n",
       "        text-align: right;\n",
       "    }\n",
       "</style>\n",
       "<table border=\"1\" class=\"dataframe\">\n",
       "  <thead>\n",
       "    <tr style=\"text-align: right;\">\n",
       "      <th></th>\n",
       "      <th>Année</th>\n",
       "      <th>Tour</th>\n",
       "      <th>Orientation</th>\n",
       "      <th>Score</th>\n",
       "      <th>Score_total</th>\n",
       "      <th>Score (%)</th>\n",
       "    </tr>\n",
       "  </thead>\n",
       "  <tbody>\n",
       "    <tr>\n",
       "      <th>0</th>\n",
       "      <td>1965</td>\n",
       "      <td>1.0</td>\n",
       "      <td>droite</td>\n",
       "      <td>15821153.0</td>\n",
       "      <td>23757598.0</td>\n",
       "      <td>66.59</td>\n",
       "    </tr>\n",
       "    <tr>\n",
       "      <th>1</th>\n",
       "      <td>1965</td>\n",
       "      <td>1.0</td>\n",
       "      <td>gauche</td>\n",
       "      <td>7936445.0</td>\n",
       "      <td>23757598.0</td>\n",
       "      <td>33.41</td>\n",
       "    </tr>\n",
       "    <tr>\n",
       "      <th>2</th>\n",
       "      <td>1965</td>\n",
       "      <td>2.0</td>\n",
       "      <td>droite</td>\n",
       "      <td>13084560.0</td>\n",
       "      <td>25825613.0</td>\n",
       "      <td>50.67</td>\n",
       "    </tr>\n",
       "    <tr>\n",
       "      <th>3</th>\n",
       "      <td>1965</td>\n",
       "      <td>2.0</td>\n",
       "      <td>gauche</td>\n",
       "      <td>12741053.0</td>\n",
       "      <td>25825613.0</td>\n",
       "      <td>49.33</td>\n",
       "    </tr>\n",
       "  </tbody>\n",
       "</table>\n",
       "</div>"
      ],
      "text/plain": [
       "   Année  Tour Orientation       Score  Score_total  Score (%)\n",
       "0   1965   1.0      droite  15821153.0   23757598.0      66.59\n",
       "1   1965   1.0      gauche   7936445.0   23757598.0      33.41\n",
       "2   1965   2.0      droite  13084560.0   25825613.0      50.67\n",
       "3   1965   2.0      gauche  12741053.0   25825613.0      49.33"
      ]
     },
     "execution_count": 9,
     "metadata": {},
     "output_type": "execute_result"
    }
   ],
   "source": [
    "tab1 = tab1.merge(tab2, left_on = ['Année', 'Tour'], right_on = ['Année', 'Tour'], suffixes = ['', '_total'])\n",
    "\n",
    "tab1['Score (%)'] = round(tab1['Score'] / tab1['Score_total'] * 100, 2)\n",
    "\n",
    "tab1.head(4)"
   ]
  },
  {
   "cell_type": "markdown",
   "metadata": {},
   "source": [
    "## Visualisation des taux de participations en fonction du temps"
   ]
  },
  {
   "cell_type": "code",
   "execution_count": 11,
   "metadata": {},
   "outputs": [
    {
     "data": {
      "image/png": "[encoded data removed]",
      "text/plain": [
       "<Figure size 864x432 with 4 Axes>"
      ]
     },
     "metadata": {
      "needs_background": "light"
     },
     "output_type": "display_data"
    }
   ],
   "source": [
    "plt_data = dfP.groupby(by = ['Année', 'Tour']).mean().reset_index()\n",
    "plt_data['Année'] = plt_data['Année'].astype(str)\n",
    "\n",
    "fig = plt.subplots(figsize = (12, 6))\n",
    "ax1 = plt.subplot(221)\n",
    "ax1.bar('Année', 'Votants (%)', data = plt_data[plt_data['Tour'] == 1])\n",
    "ax1.plot('Année', 'Abstention (%)', data = plt_data[plt_data['Tour'] == 1], color = 'r')\n",
    "ax1.set_title('1er tour')\n",
    "ax1.set_ylabel('Proportion (%)')\n",
    "ax1.legend()\n",
    "\n",
    "ax2 = plt.subplot(222)\n",
    "ax2.bar('Année', 'Votants (%)', data = plt_data[plt_data['Tour'] == 2])\n",
    "ax2.plot('Année', 'Abstention (%)', data = plt_data[plt_data['Tour'] == 2], color = 'r')\n",
    "ax2.set_title('2d tour')\n",
    "ax2.set_ylabel('Proportion (%)')\n",
    "ax2.legend()\n",
    "\n",
    "ax3 = plt.subplot(223)\n",
    "ax3.bar('Année', 'Votants', data = plt_data[plt_data['Tour'] == 1], width = -.4, align = 'edge', label = '1er tour')\n",
    "ax3.bar('Année', 'Votants', data = plt_data[plt_data['Tour'] == 2], width = .4, align = 'edge', label = '2d tour')\n",
    "ax3.set_title('Participations en fonction du tour')\n",
    "ax3.set_ylabel('Nombre de votants')\n",
    "ax3.legend()\n",
    "\n",
    "ax4 = plt.subplot(224)\n",
    "ax4.plot('Année', 'Votants', data = plt_data[plt_data['Tour'] == 1], label = '1er tour')\n",
    "ax4.plot('Année', 'Votants', data = plt_data[plt_data['Tour'] == 2], label = '2d tour')\n",
    "ax4.set_title('Participations en fonction du tour')\n",
    "ax4.set_ylabel('Nombre de votants')\n",
    "ax4.legend()\n",
    "\n",
    "plt.show()"
   ]
  },
  {
   "cell_type": "markdown",
   "metadata": {},
   "source": [
    "## Visualisation des scores en fonction de l'orientation politique (tous départements confondus)"
   ]
  },
  {
   "cell_type": "code",
   "execution_count": 12,
   "metadata": {},
   "outputs": [
    {
     "name": "stderr",
     "output_type": "stream",
     "text": [
      "/home/h4r1c0t/.anaconda3/lib/python3.7/site-packages/ipykernel_launcher.py:4: SettingWithCopyWarning: \n",
      "A value is trying to be set on a copy of a slice from a DataFrame.\n",
      "Try using .loc[row_indexer,col_indexer] = value instead\n",
      "\n",
      "See the caveats in the documentation: https://pandas.pydata.org/pandas-docs/stable/user_guide/indexing.html#returning-a-view-versus-a-copy\n",
      "  after removing the cwd from sys.path.\n"
     ]
    },
    {
     "data": {
      "image/png": "[encoded data removed]",
      "text/plain": [
       "<Figure size 1152x288 with 2 Axes>"
      ]
     },
     "metadata": {
      "needs_background": "light"
     },
     "output_type": "display_data"
    }
   ],
   "source": [
    "fig = plt.subplots(figsize = (16, 4))\n",
    "\n",
    "plt_data = tab1[tab1['Tour'] == 1]\n",
    "plt_data['Année'] = plt_data['Année'].astype(str)\n",
    "\n",
    "ax1 = plt.subplot(121)\n",
    "ax1.plot('Année', 'Score (%)', data = plt_data[plt_data['Orientation'] == 'droite'], label = 'Droite', color = '#2E86C1')\n",
    "ax1.plot('Année', 'Score (%)', data = plt_data[plt_data['Orientation'] == 'gauche'], label = 'Gauche', color = '#A93226')\n",
    "ax1.plot('Année', 'Score (%)', data = plt_data[plt_data['Orientation'] == 'sans'], label = 'Sans', color = '#F7DC6F')\n",
    "ax1.set_title('1er tour')\n",
    "ax1.set_ylabel('Proportion des votes (%)')\n",
    "ax1.legend(title = 'Orientation :')\n",
    "\n",
    "plt_data = tab1[tab1['Tour'] == 2]\n",
    "# Ajout des lignes manquantes pour 1969 et 2002 (2d tour uniquement droite)\n",
    "add = pd.DataFrame({'Année':[1969, 2002], 'Tour':[2, 2], 'Orientation':['gauche', 'gauche'], 'Score':[0, 0], 'Score_total':[0, 0], 'Score (%)':[0, 0]})\n",
    "plt_data = plt_data.append(add).reset_index().sort_values(['Année', 'Tour', 'Orientation']).drop('index', axis = 1)\n",
    "plt_data['Année'] = plt_data['Année'].astype(str)\n",
    "\n",
    "ax2 = plt.subplot(122)\n",
    "ax2.plot('Année', 'Score (%)', data = plt_data[plt_data['Orientation'] == 'droite'], label = 'Droite', color = '#2E86C1')\n",
    "ax2.plot('Année', 'Score (%)', data = plt_data[plt_data['Orientation'] == 'gauche'], label = 'Gauche', color = '#A93226')\n",
    "ax2.set_title('2d tour')\n",
    "ax2.set_ylabel('Proportion des votes (%)')\n",
    "ax2.legend(title = 'Orientation :')\n",
    "\n",
    "plt.show()"
   ]
  },
  {
   "cell_type": "markdown",
   "metadata": {},
   "source": [
    "## Visualisation et prédiction des scores par départements et/ou régions"
   ]
  },
  {
   "cell_type": "code",
   "execution_count": 13,
   "metadata": {},
   "outputs": [
    {
     "data": {
      "text/html": [
       "<div>\n",
       "<style scoped>\n",
       "    .dataframe tbody tr th:only-of-type {\n",
       "        vertical-align: middle;\n",
       "    }\n",
       "\n",
       "    .dataframe tbody tr th {\n",
       "        vertical-align: top;\n",
       "    }\n",
       "\n",
       "    .dataframe thead th {\n",
       "        text-align: right;\n",
       "    }\n",
       "</style>\n",
       "<table border=\"1\" class=\"dataframe\">\n",
       "  <thead>\n",
       "    <tr style=\"text-align: right;\">\n",
       "      <th></th>\n",
       "      <th>Candidats</th>\n",
       "      <th>Orientation</th>\n",
       "      <th>Date</th>\n",
       "      <th>Tour</th>\n",
       "      <th>Code département</th>\n",
       "      <th>département</th>\n",
       "      <th>Score</th>\n",
       "      <th>Année</th>\n",
       "      <th>Score (%)</th>\n",
       "    </tr>\n",
       "  </thead>\n",
       "  <tbody>\n",
       "    <tr>\n",
       "      <th>0</th>\n",
       "      <td>BALLADUR (UDF)</td>\n",
       "      <td>droite</td>\n",
       "      <td>1995-04-23</td>\n",
       "      <td>1.0</td>\n",
       "      <td>1</td>\n",
       "      <td>AIN</td>\n",
       "      <td>48264.0</td>\n",
       "      <td>1995</td>\n",
       "      <td>19.80</td>\n",
       "    </tr>\n",
       "    <tr>\n",
       "      <th>1</th>\n",
       "      <td>CHEMINADE (POE)</td>\n",
       "      <td>sans</td>\n",
       "      <td>1995-04-23</td>\n",
       "      <td>1.0</td>\n",
       "      <td>1</td>\n",
       "      <td>AIN</td>\n",
       "      <td>686.0</td>\n",
       "      <td>1995</td>\n",
       "      <td>0.28</td>\n",
       "    </tr>\n",
       "    <tr>\n",
       "      <th>2</th>\n",
       "      <td>CHIRAC (RPR)</td>\n",
       "      <td>droite</td>\n",
       "      <td>1995-04-23</td>\n",
       "      <td>1.0</td>\n",
       "      <td>1</td>\n",
       "      <td>AIN</td>\n",
       "      <td>46891.0</td>\n",
       "      <td>1995</td>\n",
       "      <td>19.23</td>\n",
       "    </tr>\n",
       "    <tr>\n",
       "      <th>3</th>\n",
       "      <td>DE VILLIERS (MPF)</td>\n",
       "      <td>droite</td>\n",
       "      <td>1995-04-23</td>\n",
       "      <td>1.0</td>\n",
       "      <td>1</td>\n",
       "      <td>AIN</td>\n",
       "      <td>13118.0</td>\n",
       "      <td>1995</td>\n",
       "      <td>5.38</td>\n",
       "    </tr>\n",
       "    <tr>\n",
       "      <th>4</th>\n",
       "      <td>HUE (PCF)</td>\n",
       "      <td>gauche</td>\n",
       "      <td>1995-04-23</td>\n",
       "      <td>1.0</td>\n",
       "      <td>1</td>\n",
       "      <td>AIN</td>\n",
       "      <td>14999.0</td>\n",
       "      <td>1995</td>\n",
       "      <td>6.15</td>\n",
       "    </tr>\n",
       "    <tr>\n",
       "      <th>...</th>\n",
       "      <td>...</td>\n",
       "      <td>...</td>\n",
       "      <td>...</td>\n",
       "      <td>...</td>\n",
       "      <td>...</td>\n",
       "      <td>...</td>\n",
       "      <td>...</td>\n",
       "      <td>...</td>\n",
       "      <td>...</td>\n",
       "    </tr>\n",
       "    <tr>\n",
       "      <th>10726</th>\n",
       "      <td>SARKOZY (UMP)</td>\n",
       "      <td>droite</td>\n",
       "      <td>1974-05-19</td>\n",
       "      <td>2.0</td>\n",
       "      <td>987</td>\n",
       "      <td>SAINT PIERRE ET MIQUELON</td>\n",
       "      <td>1378.0</td>\n",
       "      <td>1974</td>\n",
       "      <td>39.14</td>\n",
       "    </tr>\n",
       "    <tr>\n",
       "      <th>10727</th>\n",
       "      <td>ROYAL (PS)</td>\n",
       "      <td>gauche</td>\n",
       "      <td>1974-05-19</td>\n",
       "      <td>2.0</td>\n",
       "      <td>988</td>\n",
       "      <td>WALLIS-ET-FUTUNA</td>\n",
       "      <td>3840.0</td>\n",
       "      <td>1974</td>\n",
       "      <td>49.83</td>\n",
       "    </tr>\n",
       "    <tr>\n",
       "      <th>10728</th>\n",
       "      <td>SARKOZY (UMP)</td>\n",
       "      <td>droite</td>\n",
       "      <td>1974-05-19</td>\n",
       "      <td>2.0</td>\n",
       "      <td>988</td>\n",
       "      <td>WALLIS-ET-FUTUNA</td>\n",
       "      <td>3866.0</td>\n",
       "      <td>1974</td>\n",
       "      <td>50.17</td>\n",
       "    </tr>\n",
       "    <tr>\n",
       "      <th>10729</th>\n",
       "      <td>ROYAL (PS)</td>\n",
       "      <td>gauche</td>\n",
       "      <td>1974-05-19</td>\n",
       "      <td>2.0</td>\n",
       "      <td>99</td>\n",
       "      <td>FRANCAIS DE L'ETRANGER</td>\n",
       "      <td>156480.0</td>\n",
       "      <td>1974</td>\n",
       "      <td>46.01</td>\n",
       "    </tr>\n",
       "    <tr>\n",
       "      <th>10730</th>\n",
       "      <td>SARKOZY (UMP)</td>\n",
       "      <td>droite</td>\n",
       "      <td>1974-05-19</td>\n",
       "      <td>2.0</td>\n",
       "      <td>99</td>\n",
       "      <td>FRANCAIS DE L'ETRANGER</td>\n",
       "      <td>183613.0</td>\n",
       "      <td>1974</td>\n",
       "      <td>53.99</td>\n",
       "    </tr>\n",
       "  </tbody>\n",
       "</table>\n",
       "<p>10731 rows × 9 columns</p>\n",
       "</div>"
      ],
      "text/plain": [
       "               Candidats Orientation        Date  Tour Code département  \\\n",
       "0         BALLADUR (UDF)      droite  1995-04-23   1.0                1   \n",
       "1        CHEMINADE (POE)        sans  1995-04-23   1.0                1   \n",
       "2           CHIRAC (RPR)      droite  1995-04-23   1.0                1   \n",
       "3      DE VILLIERS (MPF)      droite  1995-04-23   1.0                1   \n",
       "4              HUE (PCF)      gauche  1995-04-23   1.0                1   \n",
       "...                  ...         ...         ...   ...              ...   \n",
       "10726      SARKOZY (UMP)      droite  1974-05-19   2.0              987   \n",
       "10727         ROYAL (PS)      gauche  1974-05-19   2.0              988   \n",
       "10728      SARKOZY (UMP)      droite  1974-05-19   2.0              988   \n",
       "10729         ROYAL (PS)      gauche  1974-05-19   2.0               99   \n",
       "10730      SARKOZY (UMP)      droite  1974-05-19   2.0               99   \n",
       "\n",
       "                    département     Score  Année  Score (%)  \n",
       "0                           AIN   48264.0   1995      19.80  \n",
       "1                           AIN     686.0   1995       0.28  \n",
       "2                           AIN   46891.0   1995      19.23  \n",
       "3                           AIN   13118.0   1995       5.38  \n",
       "4                           AIN   14999.0   1995       6.15  \n",
       "...                         ...       ...    ...        ...  \n",
       "10726  SAINT PIERRE ET MIQUELON    1378.0   1974      39.14  \n",
       "10727         WALLIS-ET-FUTUNA     3840.0   1974      49.83  \n",
       "10728         WALLIS-ET-FUTUNA     3866.0   1974      50.17  \n",
       "10729    FRANCAIS DE L'ETRANGER  156480.0   1974      46.01  \n",
       "10730    FRANCAIS DE L'ETRANGER  183613.0   1974      53.99  \n",
       "\n",
       "[10731 rows x 9 columns]"
      ]
     },
     "execution_count": 13,
     "metadata": {},
     "output_type": "execute_result"
    }
   ],
   "source": [
    "dfSc"
   ]
  },
  {
   "cell_type": "markdown",
   "metadata": {},
   "source": [
    "### Evolution des scores en fonction de l'orientation politique"
   ]
  },
  {
   "cell_type": "code",
   "execution_count": 16,
   "metadata": {},
   "outputs": [
    {
     "data": {
      "image/png": "[encoded data removed]",
      "text/plain": [
       "<Figure size 432x288 with 1 Axes>"
      ]
     },
     "metadata": {
      "needs_background": "light"
     },
     "output_type": "display_data"
    }
   ],
   "source": [
    "import seaborn as sns\n",
    "ax = sns.regplot('Année', 'Score (%)', data = dfSc[dfSc['Orientation'] == 'droite'], color = '#2E86C1') \n",
    "ax = sns.regplot('Année', 'Score (%)', data = dfSc[dfSc['Orientation'] == 'gauche'], color = '#A93226')\n",
    "\n",
    "plt.show()"
   ]
  },
  {
   "cell_type": "markdown",
   "metadata": {},
   "source": [
    "**New plot here** \n",
    "\n",
    "Refaire un plot ici avec les projections des courbes pour 2017"
   ]
  },
  {
   "cell_type": "code",
   "execution_count": null,
   "metadata": {},
   "outputs": [],
   "source": []
  },
  {
   "cell_type": "markdown",
   "metadata": {},
   "source": [
    "### Evolution des scores en fonction de l'orientation politique et du tour"
   ]
  },
  {
   "cell_type": "code",
   "execution_count": 15,
   "metadata": {},
   "outputs": [
    {
     "name": "stderr",
     "output_type": "stream",
     "text": [
      "/home/h4r1c0t/.anaconda3/lib/python3.7/site-packages/ipykernel_launcher.py:5: SettingWithCopyWarning: \n",
      "A value is trying to be set on a copy of a slice from a DataFrame\n",
      "\n",
      "See the caveats in the documentation: https://pandas.pydata.org/pandas-docs/stable/user_guide/indexing.html#returning-a-view-versus-a-copy\n",
      "  \"\"\"\n",
      "/home/h4r1c0t/.anaconda3/lib/python3.7/site-packages/ipykernel_launcher.py:11: SettingWithCopyWarning: \n",
      "A value is trying to be set on a copy of a slice from a DataFrame\n",
      "\n",
      "See the caveats in the documentation: https://pandas.pydata.org/pandas-docs/stable/user_guide/indexing.html#returning-a-view-versus-a-copy\n",
      "  # This is added back by InteractiveShellApp.init_path()\n"
     ]
    },
    {
     "data": {
      "image/png": "[encoded data removed]",
      "text/plain": [
       "<Figure size 1152x288 with 2 Axes>"
      ]
     },
     "metadata": {
      "needs_background": "light"
     },
     "output_type": "display_data"
    }
   ],
   "source": [
    "fig = plt.subplots(figsize = (16, 4))\n",
    "\n",
    "plt_data = dfSc[dfSc['Tour'] == 1]\n",
    "plt_data.sort_values(['Année'], inplace = True)\n",
    "ax1 = plt.subplot(121)\n",
    "ax1 = sns.regplot('Année', 'Score (%)', data = plt_data[plt_data['Orientation'] == 'droite'], color = '#2E86C1') \n",
    "ax1 = sns.regplot('Année', 'Score (%)', data = plt_data[plt_data['Orientation'] == 'gauche'], color = '#A93226')\n",
    "\n",
    "plt_data = dfSc[dfSc['Tour'] == 2]\n",
    "plt_data.sort_values(['Année'], inplace = True)\n",
    "ax2 = plt.subplot(122)\n",
    "ax2 = sns.regplot('Année', 'Score (%)', data = plt_data[plt_data['Orientation'] == 'droite'], color = '#2E86C1') \n",
    "ax2 = sns.regplot('Année', 'Score (%)', data = plt_data[plt_data['Orientation'] == 'gauche'], color = '#A93226')\n",
    "\n",
    "plt.show()"
   ]
  },
  {
   "cell_type": "markdown",
   "metadata": {},
   "source": [
    "## Prédictions des scores par des modèles de régression multiples"
   ]
  },
  {
   "cell_type": "code",
   "execution_count": 27,
   "metadata": {},
   "outputs": [
    {
     "name": "stdout",
     "output_type": "stream",
     "text": [
      "Score pour les partis de droite : 0.5840366142493244\n",
      "Score pour les partis de gauche : 0.6433800671746271\n"
     ]
    }
   ],
   "source": [
    "from sklearn.linear_model import LinearRegression\n",
    "data_droite = dfSc[dfSc['Orientation'] == 'droite']\n",
    "Xd = data_droite[['Année', 'Tour']]\n",
    "yd = data_droite['Score (%)'] \n",
    "modelLR_droite = LinearRegression().fit(Xd, yd)\n",
    "\n",
    "data_gauche = dfSc[dfSc['Orientation'] == 'gauche']\n",
    "Xg = data_gauche[['Année', 'Tour']]\n",
    "yg = data_gauche['Score (%)'] \n",
    "modelLR_gauche = LinearRegression().fit(Xg, yg)\n",
    "\n",
    "print('Score pour les partis de droite :', modelLR_droite.score(Xd, yd))\n",
    "print('Score pour les partis de gauche :', modelLR_gauche.score(Xg, yg))"
   ]
  }
 ],
 "metadata": {
  "kernelspec": {
   "display_name": "Python 3",
   "language": "python",
   "name": "python3"
  },
  "language_info": {
   "codemirror_mode": {
    "name": "ipython",
    "version": 3
   },
   "file_extension": ".py",
   "mimetype": "text/x-python",
   "name": "python",
   "nbconvert_exporter": "python",
   "pygments_lexer": "ipython3",
   "version": "3.7.6"
  }
 },
 "nbformat": 4,
 "nbformat_minor": 4
}
