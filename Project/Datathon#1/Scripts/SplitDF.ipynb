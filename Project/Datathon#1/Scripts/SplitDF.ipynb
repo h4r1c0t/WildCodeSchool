{
 "cells": [
  {
   "cell_type": "markdown",
   "metadata": {},
   "source": [
    "# Split DataFrame (Statut: OK)\n",
    "\n",
    "Le but de ici est de séparer le DF en 2 afin de le manipuler plus aisément. \n",
    "\n",
    "1. DF sur la participation \n",
    "1. DF sur les scores\n",
    "\n",
    "\n",
    "***Import library***"
   ]
  },
  {
   "cell_type": "code",
   "execution_count": null,
   "metadata": {},
   "outputs": [],
   "source": [
    "import pandas as pd\n",
    "import numpy as np"
   ]
  },
  {
   "cell_type": "markdown",
   "metadata": {},
   "source": [
    "## Import DF"
   ]
  },
  {
   "cell_type": "code",
   "execution_count": null,
   "metadata": {},
   "outputs": [],
   "source": [
    "df = pd.read_csv('https://raw.githubusercontent.com/h4r1c0t/WildCodeSchool/master/Project/Datathon%231/Datasets/bigData.csv',\n",
    "                index_col=False)"
   ]
  },
  {
   "cell_type": "code",
   "execution_count": null,
   "metadata": {},
   "outputs": [],
   "source": [
    "df.head()"
   ]
  },
  {
   "cell_type": "markdown",
   "metadata": {},
   "source": [
    "## 1. Participation's DF"
   ]
  },
  {
   "cell_type": "code",
   "execution_count": null,
   "metadata": {},
   "outputs": [],
   "source": [
    "lstCol = ['Date', 'Tour', 'Code département', 'département', 'circonscription', \n",
    "          'Inscrits', 'Votants', 'Exprimés', 'Blancs et nuls']\n",
    "dfP = df[lstCol]\n",
    "\n",
    "dfP.shape"
   ]
  },
  {
   "cell_type": "code",
   "execution_count": null,
   "metadata": {},
   "outputs": [],
   "source": [
    "dfP = dfP.drop_duplicates()\n",
    "\n",
    "dfP.shape"
   ]
  },
  {
   "cell_type": "code",
   "execution_count": null,
   "metadata": {},
   "outputs": [],
   "source": [
    "tab1 = pd.pivot_table(dfP, values = ['Inscrits', 'Votants', 'Exprimés', 'Blancs et nuls'], \n",
    "                      index = ['Date', 'Tour', 'Code département', 'département'],\n",
    "                      columns=[], aggfunc=np.sum)"
   ]
  },
  {
   "cell_type": "code",
   "execution_count": null,
   "metadata": {},
   "outputs": [],
   "source": [
    "# Nb Abstention\n",
    "tab1['Abstention'] = tab1['Inscrits'] - tab1['Votants']\n",
    "\n",
    "# % Participation \n",
    "tab1['Votants (%)'] = round(tab1['Votants'] / tab1['Inscrits'] * 100, 2)\n",
    "\n",
    "# % Abstention\n",
    "tab1['Abstention (%)'] = round(tab1['Abstention'] / tab1['Inscrits'] * 100, 2)"
   ]
  },
  {
   "cell_type": "code",
   "execution_count": null,
   "metadata": {},
   "outputs": [],
   "source": [
    "tab1.head()"
   ]
  },
  {
   "cell_type": "code",
   "execution_count": null,
   "metadata": {},
   "outputs": [],
   "source": [
    "tab1.reset_index(inplace = True)\n",
    "\n",
    "tab1['Année'] = tab1['Date'].apply(lambda x: x[:4])"
   ]
  },
  {
   "cell_type": "code",
   "execution_count": null,
   "metadata": {},
   "outputs": [],
   "source": [
    "tab1.head()"
   ]
  },
  {
   "cell_type": "code",
   "execution_count": null,
   "metadata": {},
   "outputs": [],
   "source": [
    "tab1.to_csv('/home/h4r1c0t/Github/WildCodeSchool/Project/Datathon#1/Datasets/data_participation_1965-2012.csv')"
   ]
  },
  {
   "cell_type": "markdown",
   "metadata": {},
   "source": [
    "## Score's DF"
   ]
  },
  {
   "cell_type": "code",
   "execution_count": null,
   "metadata": {},
   "outputs": [],
   "source": [
    "df.head()"
   ]
  },
  {
   "cell_type": "code",
   "execution_count": null,
   "metadata": {},
   "outputs": [],
   "source": [
    "lstCol = ['Date', 'Tour', 'Code département', 'département', 'circonscription', \n",
    "          'Candidats', 'Exprimés', 'Score']\n",
    "dfSc = df[lstCol]\n",
    "\n",
    "orientations = pd.read_csv('https://raw.githubusercontent.com/h4r1c0t/WildCodeSchool/master/Project/Datathon%231/Datasets/orientation_candidats.csv')\n",
    "\n",
    "dfSc = dfSc.merge(orientations, how = 'left', left_on = 'Candidats', right_on = 'Candidat')\n",
    "dfSc.drop('Candidat', axis = 1, inplace = True)\n",
    "\n",
    "dfSc.shape"
   ]
  },
  {
   "cell_type": "code",
   "execution_count": null,
   "metadata": {},
   "outputs": [],
   "source": [
    "dfSc.head()"
   ]
  },
  {
   "cell_type": "code",
   "execution_count": null,
   "metadata": {},
   "outputs": [],
   "source": [
    "tab2 = pd.pivot_table(dfSc, values = ['Score'], \n",
    "                      index = ['Candidats', 'Orientation', 'Date', 'Tour', 'Code département', 'département'],\n",
    "                      columns = [], aggfunc = np.sum)"
   ]
  },
  {
   "cell_type": "code",
   "execution_count": null,
   "metadata": {},
   "outputs": [],
   "source": [
    "tab2.reset_index(inplace = True)\n",
    "\n",
    "tab2['Année'] = tab2['Date'].apply(lambda x: x[:4])\n",
    "\n",
    "expr = tab1[['Date', 'Code département', 'Exprimés']]\n",
    "\n",
    "tab2 = tab2.merge(expr, left_on = ['Date', 'Code département'], right_on = ['Date', 'Code département'])"
   ]
  },
  {
   "cell_type": "code",
   "execution_count": null,
   "metadata": {},
   "outputs": [],
   "source": [
    "tab2['Score (%)'] = round(tab2['Score'] / tab2['Exprimés'] * 100, 2)\n",
    "tab2.drop('Exprimés', axis = 1, inplace = True)"
   ]
  },
  {
   "cell_type": "code",
   "execution_count": null,
   "metadata": {},
   "outputs": [],
   "source": [
    "tab3 = pd.pivot_table(tab2, values = ['Score (%)'], \n",
    "                      index = ['Date', 'Tour', 'Candidats'], \n",
    "                      aggfunc = np.mean).reset_index()"
   ]
  },
  {
   "cell_type": "code",
   "execution_count": null,
   "metadata": {},
   "outputs": [],
   "source": [
    "tab3[tab3['Date'] == '1965-12-05']"
   ]
  },
  {
   "cell_type": "code",
   "execution_count": null,
   "metadata": {},
   "outputs": [],
   "source": [
    "tab2.to_csv('/home/h4r1c0t/Github/WildCodeSchool/Project/Datathon#1/Datasets/data_scores_1965-2012.csv')"
   ]
  }
 ],
 "metadata": {
  "kernelspec": {
   "display_name": "Python 3",
   "language": "python",
   "name": "python3"
  },
  "language_info": {
   "codemirror_mode": {
    "name": "ipython",
    "version": 3
   },
   "file_extension": ".py",
   "mimetype": "text/x-python",
   "name": "python",
   "nbconvert_exporter": "python",
   "pygments_lexer": "ipython3",
   "version": "3.7.6"
  }
 },
 "nbformat": 4,
 "nbformat_minor": 4
}
