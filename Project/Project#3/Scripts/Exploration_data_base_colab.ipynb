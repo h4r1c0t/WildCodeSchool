{
 "nbformat": 4,
 "nbformat_minor": 0,
 "metadata": {
  "kernelspec": {
   "display_name": "Python 3",
   "language": "python",
   "name": "python3"
  },
  "language_info": {
   "codemirror_mode": {
    "name": "ipython",
    "version": 3
   },
   "file_extension": ".py",
   "mimetype": "text/x-python",
   "name": "python",
   "nbconvert_exporter": "python",
   "pygments_lexer": "ipython3",
   "version": "3.7.6"
  },
  "colab": {
   "name": "Exploration_data.ipynb",
   "provenance": []
  }
 },
 "cells": [
  {
   "cell_type": "markdown",
   "metadata": {
    "id": "Y_FQB3frzjML",
    "colab_type": "text"
   },
   "source": [
    "# Exploration dataset Netflix project"
   ]
  },
  {
   "cell_type": "markdown",
   "source": [
    "## Google Drive local"
   ],
   "metadata": {
    "collapsed": false
   }
  },
  {
   "cell_type": "code",
   "execution_count": null,
   "outputs": [],
   "source": [],
   "metadata": {
    "collapsed": false,
    "pycharm": {
     "name": "#%%\n"
    }
   }
  },
  {
   "cell_type": "markdown",
   "metadata": {
    "id": "Y-NEsJEO6Lx7",
    "colab_type": "text"
   },
   "source": [
    "## Google Drive connection"
   ]
  },
  {
   "cell_type": "code",
   "metadata": {
    "id": "KxyLlvbs6UwI",
    "colab_type": "code",
    "pycharm": {
     "is_executing": true
    },
    "colab": {}
   },
   "source": [
    "from pydrive.auth import GoogleAuth\n",
    "from pydrive.drive import GoogleDrive\n",
    "from google.colab import auth\n",
    "from oauth2client.client import GoogleCredentials\n",
    "\n",
    "auth.authenticate_user()\n",
    "gauth = GoogleAuth()\n",
    "gauth.credentials = GoogleCredentials.get_application_default()\n",
    "drive = GoogleDrive(gauth)"
   ],
   "execution_count": 0,
   "outputs": []
  },
  {
   "cell_type": "markdown",
   "metadata": {
    "id": "cwfULxzHzjMM",
    "colab_type": "text"
   },
   "source": [
    "## Import library"
   ]
  },
  {
   "cell_type": "code",
   "metadata": {
    "id": "UO-NUshozjMM",
    "colab_type": "code",
    "colab": {}
   },
   "source": [
    "import pandas as pd"
   ],
   "execution_count": 0,
   "outputs": []
  },
  {
   "cell_type": "markdown",
   "metadata": {
    "id": "A800ARo5zjMP",
    "colab_type": "text"
   },
   "source": [
    "## Import datasets"
   ]
  },
  {
   "cell_type": "markdown",
   "metadata": {
    "id": "q3ytYN-NzjMP",
    "colab_type": "text"
   },
   "source": [
    "### movies.csv"
   ]
  },
  {
   "cell_type": "code",
   "metadata": {
    "id": "o3wYU_JXzjMQ",
    "colab_type": "code",
    "colab": {}
   },
   "source": [
    "downloaded = drive.CreateFile({'id': '1KQ1hWtDPuL_Rrs-HeH2qACVOy1ISfoaB'})\n",
    "downloaded.GetContentFile('movies.csv')\n",
    "movies = pd.read_csv('movies.csv')"
   ],
   "execution_count": 0,
   "outputs": []
  },
  {
   "cell_type": "markdown",
   "metadata": {
    "id": "n5yrYPmwzjMS",
    "colab_type": "text"
   },
   "source": [
    "### ratings.csv"
   ]
  },
  {
   "cell_type": "code",
   "metadata": {
    "id": "isFdQZRgzjMS",
    "colab_type": "code",
    "colab": {}
   },
   "source": [
    "downloaded = drive.CreateFile({'id': '1b5nVk_pKi6DcA2lp9-CD8micKIvWKMYi'})\n",
    "downloaded.GetContentFile('ratings.csv')\n",
    "ratings = pd.read_csv('ratings.csv')"
   ],
   "execution_count": 0,
   "outputs": []
  },
  {
   "cell_type": "markdown",
   "metadata": {
    "id": "WzDF7XAY5zH-",
    "colab_type": "text"
   },
   "source": [
    "### links.csv"
   ]
  },
  {
   "cell_type": "code",
   "metadata": {
    "id": "Pd6wQyyl52KB",
    "colab_type": "code",
    "colab": {}
   },
   "source": [
    "downloaded = drive.CreateFile({'id': '18Fzel7ZxehY5VQqVJbjFvFFtfb-uutaK'})\n",
    "downloaded.GetContentFile('links.csv')\n",
    "links = pd.read_csv('links.csv')"
   ],
   "execution_count": 0,
   "outputs": []
  },
  {
   "cell_type": "markdown",
   "metadata": {
    "id": "GzueTADt6v7D",
    "colab_type": "text"
   },
   "source": [
    "### tags.csv"
   ]
  },
  {
   "cell_type": "code",
   "metadata": {
    "id": "TzjEhEeJ7FRD",
    "colab_type": "code",
    "colab": {}
   },
   "source": [
    "downloaded = drive.CreateFile({'id': '1SzlRuZDiVNHS2JcCbe1uq_sqzhBSRrmk'})\n",
    "downloaded.GetContentFile('tags.csv')\n",
    "tags = pd.read_csv('tags.csv')"
   ],
   "execution_count": 0,
   "outputs": []
  },
  {
   "cell_type": "markdown",
   "metadata": {
    "id": "h20hZsEI6xK5",
    "colab_type": "text"
   },
   "source": [
    "### genome-scores.csv"
   ]
  },
  {
   "cell_type": "code",
   "metadata": {
    "id": "dEOKLEFI7Cp0",
    "colab_type": "code",
    "colab": {}
   },
   "source": [
    "downloaded = drive.CreateFile({'id': '1C25W5O82e-F0lIfqi1eZR002K9sPoLvG'})\n",
    "downloaded.GetContentFile('genome-scores.csv')\n",
    "genome_scores = pd.read_csv('genome-scores.csv')"
   ],
   "execution_count": 0,
   "outputs": []
  },
  {
   "cell_type": "markdown",
   "metadata": {
    "id": "E3HeM6Zx7Dyc",
    "colab_type": "text"
   },
   "source": [
    "### genome-tags.csv\n"
   ]
  },
  {
   "cell_type": "code",
   "metadata": {
    "id": "OA6r_GEk7J-x",
    "colab_type": "code",
    "colab": {}
   },
   "source": [
    "downloaded = drive.CreateFile({'id': '1Q6LEsYOJK2-qlCtFqRFi6sfc3XcuSycl'})\n",
    "downloaded.GetContentFile('genome-tags.csv')\n",
    "genome_tags = pd.read_csv('genome-tags.csv')"
   ],
   "execution_count": 0,
   "outputs": []
  },
  {
   "cell_type": "markdown",
   "metadata": {
    "id": "REpQQQC586jJ",
    "colab_type": "text"
   },
   "source": [
    "## Exploration"
   ]
  },
  {
   "cell_type": "code",
   "metadata": {
    "id": "1Olq7wMI89nx",
    "colab_type": "code",
    "colab": {}
   },
   "source": [
    "movies.info()"
   ],
   "execution_count": 0,
   "outputs": []
  },
  {
   "cell_type": "code",
   "metadata": {
    "id": "tkQIaK409qEB",
    "colab_type": "code",
    "colab": {}
   },
   "source": [
    "ratings.info()"
   ],
   "execution_count": 0,
   "outputs": []
  },
  {
   "cell_type": "code",
   "metadata": {
    "id": "1erSr8dv9syu",
    "colab_type": "code",
    "colab": {}
   },
   "source": [
    "links.info()"
   ],
   "execution_count": 0,
   "outputs": []
  },
  {
   "cell_type": "code",
   "metadata": {
    "id": "B7_DypOV91pg",
    "colab_type": "code",
    "colab": {}
   },
   "source": [
    "tags.info()"
   ],
   "execution_count": 0,
   "outputs": []
  },
  {
   "cell_type": "code",
   "metadata": {
    "id": "vChLvD_E92-k",
    "colab_type": "code",
    "colab": {}
   },
   "source": [
    "genome_scores.info()"
   ],
   "execution_count": 0,
   "outputs": []
  },
  {
   "cell_type": "code",
   "metadata": {
    "id": "Whr4XTZB944u",
    "colab_type": "code",
    "pycharm": {
     "name": "#%%\n"
    },
    "colab": {}
   },
   "source": [
    "genome_tags.info()"
   ],
   "execution_count": 0,
   "outputs": []
  }
 ]
}