{
 "cells": [
  {
   "cell_type": "markdown",
   "source": [
    "# Exploration des données de la base *imdb*\n",
    "\n",
    "source : https://datasets.imdbws.com/"
   ],
   "metadata": {
    "collapsed": false
   }
  },
  {
   "cell_type": "markdown",
   "source": [
    "## Import modules"
   ],
   "metadata": {
    "collapsed": false,
    "pycharm": {
     "name": "#%% md\n"
    }
   }
  },
  {
   "cell_type": "code",
   "execution_count": 12,
   "outputs": [],
   "source": [
    "import pandas as pd"
   ],
   "metadata": {
    "collapsed": false,
    "pycharm": {
     "name": "#%%\n"
    }
   }
  },
  {
   "cell_type": "markdown",
   "source": [
    "## Import data\n",
    "**Data names**"
   ],
   "metadata": {
    "collapsed": false
   }
  },
  {
   "cell_type": "code",
   "execution_count": 13,
   "outputs": [],
   "source": [
    "path = 'D:/tmp storage/Projet3/name.basics.tsv/data.tsv'\n",
    "name_basics = pd.read_csv(path, delimiter = '\\t')"
   ],
   "metadata": {
    "collapsed": false,
    "pycharm": {
     "name": "#%%\n"
    }
   }
  },
  {
   "cell_type": "markdown",
   "source": [
    "**Data title akas**"
   ],
   "metadata": {
    "collapsed": false,
    "pycharm": {
     "name": "#%% md\n"
    }
   }
  },
  {
   "cell_type": "code",
   "execution_count": 14,
   "outputs": [
    {
     "name": "stderr",
     "output_type": "stream",
     "text": [
      "C:\\Users\\vanst\\PycharmProjects\\Python (default)\\venv\\lib\\site-packages\\IPython\\core\\interactiveshell.py:3063: DtypeWarning: Columns (7) have mixed types.Specify dtype option on import or set low_memory=False.\n",
      "  interactivity=interactivity, compiler=compiler, result=result)\n"
     ]
    }
   ],
   "source": [
    "path = 'D:/tmp storage/Projet3/title.akas.tsv/data.tsv'\n",
    "title_akas = pd.read_csv(path, delimiter = '\\t')"
   ],
   "metadata": {
    "collapsed": false,
    "pycharm": {
     "name": "#%%\n"
    }
   }
  },
  {
   "cell_type": "markdown",
   "source": [
    "**Data title basics**"
   ],
   "metadata": {
    "collapsed": false
   }
  },
  {
   "cell_type": "code",
   "execution_count": 15,
   "outputs": [
    {
     "name": "stderr",
     "output_type": "stream",
     "text": [
      "C:\\Users\\vanst\\PycharmProjects\\Python (default)\\venv\\lib\\site-packages\\IPython\\core\\interactiveshell.py:3063: DtypeWarning: Columns (5) have mixed types.Specify dtype option on import or set low_memory=False.\n",
      "  interactivity=interactivity, compiler=compiler, result=result)\n"
     ]
    }
   ],
   "source": [
    "path = 'D:/tmp storage/Projet3/title.basics.tsv/data.tsv'\n",
    "title_basics = pd.read_csv(path, delimiter = '\\t')"
   ],
   "metadata": {
    "collapsed": false,
    "pycharm": {
     "name": "#%%\n"
    }
   }
  },
  {
   "cell_type": "markdown",
   "source": [
    "**Data title episode**"
   ],
   "metadata": {
    "collapsed": false
   }
  },
  {
   "cell_type": "code",
   "execution_count": 16,
   "outputs": [],
   "source": [
    "path = 'D:/tmp storage/Projet3/title.episode.tsv/data.tsv'\n",
    "title_episode = pd.read_csv(path, delimiter = '\\t')"
   ],
   "metadata": {
    "collapsed": false,
    "pycharm": {
     "name": "#%%\n"
    }
   }
  },
  {
   "cell_type": "markdown",
   "source": [
    "**Data title principals**"
   ],
   "metadata": {
    "collapsed": false
   }
  },
  {
   "cell_type": "code",
   "execution_count": 17,
   "outputs": [],
   "source": [
    "path = 'D:/tmp storage/Projet3/title.principals.tsv/data.tsv'\n",
    "title_principals = pd.read_csv(path, delimiter = '\\t')"
   ],
   "metadata": {
    "collapsed": false,
    "pycharm": {
     "name": "#%%\n"
    }
   }
  },
  {
   "cell_type": "markdown",
   "source": [
    "**Data title ratings**"
   ],
   "metadata": {
    "collapsed": false
   }
  },
  {
   "cell_type": "code",
   "execution_count": 18,
   "outputs": [],
   "source": [
    "path = 'D:/tmp storage/Projet3/title.ratings.tsv/data.tsv'\n",
    "title_ratings = pd.read_csv(path, delimiter = '\\t')"
   ],
   "metadata": {
    "collapsed": false,
    "pycharm": {
     "name": "#%%\n"
    }
   }
  },
  {
   "cell_type": "markdown",
   "source": [
    "## Explore data"
   ],
   "metadata": {
    "collapsed": false
   }
  },
  {
   "cell_type": "code",
   "execution_count": 24,
   "outputs": [
    {
     "data": {
      "text/plain": "      tconst titleType            primaryTitle           originalTitle  \\\n0  tt0000001     short              Carmencita              Carmencita   \n1  tt0000002     short  Le clown et ses chiens  Le clown et ses chiens   \n2  tt0000003     short          Pauvre Pierrot          Pauvre Pierrot   \n3  tt0000004     short             Un bon bock             Un bon bock   \n4  tt0000005     short        Blacksmith Scene        Blacksmith Scene   \n\n   isAdult startYear endYear runtimeMinutes                    genres  \n0        0      1894      \\N              1         Documentary,Short  \n1        0      1892      \\N              5           Animation,Short  \n2        0      1892      \\N              4  Animation,Comedy,Romance  \n3        0      1892      \\N             12           Animation,Short  \n4        0      1893      \\N              1              Comedy,Short  ",
      "text/html": "<div>\n<style scoped>\n    .dataframe tbody tr th:only-of-type {\n        vertical-align: middle;\n    }\n\n    .dataframe tbody tr th {\n        vertical-align: top;\n    }\n\n    .dataframe thead th {\n        text-align: right;\n    }\n</style>\n<table border=\"1\" class=\"dataframe\">\n  <thead>\n    <tr style=\"text-align: right;\">\n      <th></th>\n      <th>tconst</th>\n      <th>titleType</th>\n      <th>primaryTitle</th>\n      <th>originalTitle</th>\n      <th>isAdult</th>\n      <th>startYear</th>\n      <th>endYear</th>\n      <th>runtimeMinutes</th>\n      <th>genres</th>\n    </tr>\n  </thead>\n  <tbody>\n    <tr>\n      <th>0</th>\n      <td>tt0000001</td>\n      <td>short</td>\n      <td>Carmencita</td>\n      <td>Carmencita</td>\n      <td>0</td>\n      <td>1894</td>\n      <td>\\N</td>\n      <td>1</td>\n      <td>Documentary,Short</td>\n    </tr>\n    <tr>\n      <th>1</th>\n      <td>tt0000002</td>\n      <td>short</td>\n      <td>Le clown et ses chiens</td>\n      <td>Le clown et ses chiens</td>\n      <td>0</td>\n      <td>1892</td>\n      <td>\\N</td>\n      <td>5</td>\n      <td>Animation,Short</td>\n    </tr>\n    <tr>\n      <th>2</th>\n      <td>tt0000003</td>\n      <td>short</td>\n      <td>Pauvre Pierrot</td>\n      <td>Pauvre Pierrot</td>\n      <td>0</td>\n      <td>1892</td>\n      <td>\\N</td>\n      <td>4</td>\n      <td>Animation,Comedy,Romance</td>\n    </tr>\n    <tr>\n      <th>3</th>\n      <td>tt0000004</td>\n      <td>short</td>\n      <td>Un bon bock</td>\n      <td>Un bon bock</td>\n      <td>0</td>\n      <td>1892</td>\n      <td>\\N</td>\n      <td>12</td>\n      <td>Animation,Short</td>\n    </tr>\n    <tr>\n      <th>4</th>\n      <td>tt0000005</td>\n      <td>short</td>\n      <td>Blacksmith Scene</td>\n      <td>Blacksmith Scene</td>\n      <td>0</td>\n      <td>1893</td>\n      <td>\\N</td>\n      <td>1</td>\n      <td>Comedy,Short</td>\n    </tr>\n  </tbody>\n</table>\n</div>"
     },
     "execution_count": 24,
     "metadata": {},
     "output_type": "execute_result"
    }
   ],
   "source": [
    "title_basics.head()"
   ],
   "metadata": {
    "collapsed": false,
    "pycharm": {
     "name": "#%%\n"
    }
   }
  },
  {
   "cell_type": "code",
   "execution_count": 23,
   "outputs": [
    {
     "data": {
      "text/plain": "            tconst titleType  \\\n8        tt0000009     movie   \n145      tt0000147     movie   \n332      tt0000335     movie   \n499      tt0000502     movie   \n571      tt0000574     movie   \n...            ...       ...   \n6781979  tt9916622     movie   \n6782006  tt9916680     movie   \n6782018  tt9916706     movie   \n6782029  tt9916730     movie   \n6782040  tt9916754     movie   \n\n                                              primaryTitle  \\\n8                                               Miss Jerry   \n145                          The Corbett-Fitzsimmons Fight   \n332                                  Soldiers of the Cross   \n499                                               Bohemios   \n571                            The Story of the Kelly Gang   \n...                                                    ...   \n6781979        Rodolpho Teóphilo - O Legado de um Pioneiro   \n6782006  De la ilusión al desconcierto: cine colombiano...   \n6782018                                    Dankyavar Danka   \n6782029                                             6 Gunn   \n6782040                     Chico Albuquerque - Revelações   \n\n                                             originalTitle  isAdult startYear  \\\n8                                               Miss Jerry        0      1894   \n145                          The Corbett-Fitzsimmons Fight        0      1897   \n332                                  Soldiers of the Cross        0      1900   \n499                                               Bohemios        0      1905   \n571                            The Story of the Kelly Gang        0      1906   \n...                                                    ...      ...       ...   \n6781979        Rodolpho Teóphilo - O Legado de um Pioneiro        0      2015   \n6782006  De la ilusión al desconcierto: cine colombiano...        0      2007   \n6782018                                    Dankyavar Danka        0      2013   \n6782029                                             6 Gunn        0      2017   \n6782040                     Chico Albuquerque - Revelações        0      2013   \n\n        endYear runtimeMinutes                  genres  \n8            \\N             45                 Romance  \n145          \\N             20  Documentary,News,Sport  \n332          \\N             \\N         Biography,Drama  \n499          \\N            100                      \\N  \n571          \\N             70   Biography,Crime,Drama  \n...         ...            ...                     ...  \n6781979      \\N             57             Documentary  \n6782006      \\N            100             Documentary  \n6782018      \\N             \\N                  Comedy  \n6782029      \\N            116                      \\N  \n6782040      \\N             49             Documentary  \n\n[550001 rows x 9 columns]",
      "text/html": "<div>\n<style scoped>\n    .dataframe tbody tr th:only-of-type {\n        vertical-align: middle;\n    }\n\n    .dataframe tbody tr th {\n        vertical-align: top;\n    }\n\n    .dataframe thead th {\n        text-align: right;\n    }\n</style>\n<table border=\"1\" class=\"dataframe\">\n  <thead>\n    <tr style=\"text-align: right;\">\n      <th></th>\n      <th>tconst</th>\n      <th>titleType</th>\n      <th>primaryTitle</th>\n      <th>originalTitle</th>\n      <th>isAdult</th>\n      <th>startYear</th>\n      <th>endYear</th>\n      <th>runtimeMinutes</th>\n      <th>genres</th>\n    </tr>\n  </thead>\n  <tbody>\n    <tr>\n      <th>8</th>\n      <td>tt0000009</td>\n      <td>movie</td>\n      <td>Miss Jerry</td>\n      <td>Miss Jerry</td>\n      <td>0</td>\n      <td>1894</td>\n      <td>\\N</td>\n      <td>45</td>\n      <td>Romance</td>\n    </tr>\n    <tr>\n      <th>145</th>\n      <td>tt0000147</td>\n      <td>movie</td>\n      <td>The Corbett-Fitzsimmons Fight</td>\n      <td>The Corbett-Fitzsimmons Fight</td>\n      <td>0</td>\n      <td>1897</td>\n      <td>\\N</td>\n      <td>20</td>\n      <td>Documentary,News,Sport</td>\n    </tr>\n    <tr>\n      <th>332</th>\n      <td>tt0000335</td>\n      <td>movie</td>\n      <td>Soldiers of the Cross</td>\n      <td>Soldiers of the Cross</td>\n      <td>0</td>\n      <td>1900</td>\n      <td>\\N</td>\n      <td>\\N</td>\n      <td>Biography,Drama</td>\n    </tr>\n    <tr>\n      <th>499</th>\n      <td>tt0000502</td>\n      <td>movie</td>\n      <td>Bohemios</td>\n      <td>Bohemios</td>\n      <td>0</td>\n      <td>1905</td>\n      <td>\\N</td>\n      <td>100</td>\n      <td>\\N</td>\n    </tr>\n    <tr>\n      <th>571</th>\n      <td>tt0000574</td>\n      <td>movie</td>\n      <td>The Story of the Kelly Gang</td>\n      <td>The Story of the Kelly Gang</td>\n      <td>0</td>\n      <td>1906</td>\n      <td>\\N</td>\n      <td>70</td>\n      <td>Biography,Crime,Drama</td>\n    </tr>\n    <tr>\n      <th>...</th>\n      <td>...</td>\n      <td>...</td>\n      <td>...</td>\n      <td>...</td>\n      <td>...</td>\n      <td>...</td>\n      <td>...</td>\n      <td>...</td>\n      <td>...</td>\n    </tr>\n    <tr>\n      <th>6781979</th>\n      <td>tt9916622</td>\n      <td>movie</td>\n      <td>Rodolpho Teóphilo - O Legado de um Pioneiro</td>\n      <td>Rodolpho Teóphilo - O Legado de um Pioneiro</td>\n      <td>0</td>\n      <td>2015</td>\n      <td>\\N</td>\n      <td>57</td>\n      <td>Documentary</td>\n    </tr>\n    <tr>\n      <th>6782006</th>\n      <td>tt9916680</td>\n      <td>movie</td>\n      <td>De la ilusión al desconcierto: cine colombiano...</td>\n      <td>De la ilusión al desconcierto: cine colombiano...</td>\n      <td>0</td>\n      <td>2007</td>\n      <td>\\N</td>\n      <td>100</td>\n      <td>Documentary</td>\n    </tr>\n    <tr>\n      <th>6782018</th>\n      <td>tt9916706</td>\n      <td>movie</td>\n      <td>Dankyavar Danka</td>\n      <td>Dankyavar Danka</td>\n      <td>0</td>\n      <td>2013</td>\n      <td>\\N</td>\n      <td>\\N</td>\n      <td>Comedy</td>\n    </tr>\n    <tr>\n      <th>6782029</th>\n      <td>tt9916730</td>\n      <td>movie</td>\n      <td>6 Gunn</td>\n      <td>6 Gunn</td>\n      <td>0</td>\n      <td>2017</td>\n      <td>\\N</td>\n      <td>116</td>\n      <td>\\N</td>\n    </tr>\n    <tr>\n      <th>6782040</th>\n      <td>tt9916754</td>\n      <td>movie</td>\n      <td>Chico Albuquerque - Revelações</td>\n      <td>Chico Albuquerque - Revelações</td>\n      <td>0</td>\n      <td>2013</td>\n      <td>\\N</td>\n      <td>49</td>\n      <td>Documentary</td>\n    </tr>\n  </tbody>\n</table>\n<p>550001 rows × 9 columns</p>\n</div>"
     },
     "execution_count": 23,
     "metadata": {},
     "output_type": "execute_result"
    }
   ],
   "source": [
    "title_basics[title_basics['titleType'] == 'movie']"
   ],
   "metadata": {
    "collapsed": false,
    "pycharm": {
     "name": "#%%\n"
    }
   }
  },
  {
   "cell_type": "code",
   "execution_count": null,
   "outputs": [],
   "source": [
    "\n"
   ],
   "metadata": {
    "collapsed": false,
    "pycharm": {
     "name": "#%%\n"
    }
   }
  }
 ],
 "metadata": {
  "kernelspec": {
   "name": "pycharm-9d3ed5e2",
   "language": "python",
   "display_name": "PyCharm (Python (default))"
  },
  "language_info": {
   "codemirror_mode": {
    "name": "ipython",
    "version": 2
   },
   "file_extension": ".py",
   "mimetype": "text/x-python",
   "name": "python",
   "nbconvert_exporter": "python",
   "pygments_lexer": "ipython2",
   "version": "2.7.6"
  }
 },
 "nbformat": 4,
 "nbformat_minor": 0
}