{
 "cells": [
  {
   "cell_type": "markdown",
   "metadata": {
    "collapsed": true,
    "pycharm": {
     "name": "#%% md\n"
    }
   },
   "source": [
    "# 1ère exploration de la database"
   ]
  },
  {
   "cell_type": "code",
   "execution_count": 1,
   "outputs": [],
   "source": [
    "import sqlite3\n",
    "import pandas as pd\n",
    "conn = sqlite3.connect(\"D:/Google Drive/Wild Code School/Projets_/Projet #3/Dataset/SQLite3 db/NetflixSmalldb2.db\")\n",
    "\n",
    "SQL_Query = '''\n",
    "SELECT * FROM movies\n",
    "'''\n",
    "movies = pd.DataFrame(pd.read_sql_query(SQL_Query, conn))"
   ],
   "metadata": {
    "collapsed": false,
    "pycharm": {
     "name": "#%%\n"
    }
   }
  },
  {
   "cell_type": "code",
   "execution_count": 7,
   "outputs": [
    {
     "name": "stdout",
     "output_type": "stream",
     "text": [
      "<class 'pandas.core.frame.DataFrame'>\n",
      "RangeIndex: 9742 entries, 0 to 9741\n",
      "Data columns (total 13 columns):\n",
      " #   Column   Non-Null Count  Dtype \n",
      "---  ------   --------------  ----- \n",
      " 0   movieId  9742 non-null   int64 \n",
      " 1   title    9742 non-null   object\n",
      " 2   year     9742 non-null   object\n",
      " 3   genre1   9742 non-null   object\n",
      " 4   genre2   9742 non-null   object\n",
      " 5   genre3   9742 non-null   object\n",
      " 6   genre4   9742 non-null   object\n",
      " 7   genre5   9742 non-null   object\n",
      " 8   genre6   9742 non-null   object\n",
      " 9   genre7   9742 non-null   object\n",
      " 10  genre8   9742 non-null   object\n",
      " 11  genre9   9742 non-null   object\n",
      " 12  genre10  9742 non-null   object\n",
      "dtypes: int64(1), object(12)\n",
      "memory usage: 989.5+ KB\n",
      "None\n"
     ]
    }
   ],
   "source": [
    "print(movies.info())"
   ],
   "metadata": {
    "collapsed": false,
    "pycharm": {
     "name": "#%%\n"
    }
   }
  },
  {
   "cell_type": "code",
   "execution_count": 10,
   "outputs": [
    {
     "name": "stdout",
     "output_type": "stream",
     "text": [
      "          title  year  genre1 genre2 genre3 genre4 genre5 genre6 genre7  \\\n",
      "count      9742  9742    9742   9742   9742   9742   9742   9742   9742   \n",
      "unique     9459   120      20     19     18     17     15     11      7   \n",
      "top     Hamlet   2002  Comedy                                             \n",
      "freq          5   311    2779   2852   6070   8407   9394   9665   9728   \n",
      "\n",
      "       genre8 genre9 genre10  \n",
      "count    9742   9742    9742  \n",
      "unique      3      2       2  \n",
      "top                           \n",
      "freq     9740   9741    9741  \n"
     ]
    }
   ],
   "source": [
    "print(movies.describe(include = ['int', 'object']))\n"
   ],
   "metadata": {
    "collapsed": false,
    "pycharm": {
     "name": "#%%\n"
    }
   }
  }
 ],
 "metadata": {
  "kernelspec": {
   "name": "pycharm-9d3ed5e2",
   "language": "python",
   "display_name": "PyCharm (Python (default))"
  },
  "language_info": {
   "codemirror_mode": {
    "name": "ipython",
    "version": 2
   },
   "file_extension": ".py",
   "mimetype": "text/x-python",
   "name": "python",
   "nbconvert_exporter": "python",
   "pygments_lexer": "ipython2",
   "version": "2.7.6"
  }
 },
 "nbformat": 4,
 "nbformat_minor": 0
}