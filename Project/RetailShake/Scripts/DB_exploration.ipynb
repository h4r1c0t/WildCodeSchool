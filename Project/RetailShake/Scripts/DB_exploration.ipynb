{
 "cells": [
  {
   "cell_type": "markdown",
   "source": [
    "# Exploration des tables"
   ],
   "metadata": {
    "collapsed": false,
    "pycharm": {
     "name": "#%% md\n"
    }
   }
  },
  {
   "cell_type": "code",
   "execution_count": null,
   "outputs": [],
   "source": [
    "import numpy as np\n",
    "import pandas as pd\n",
    "from mysql.connector import connect"
   ],
   "metadata": {
    "collapsed": false,
    "pycharm": {
     "name": "#%%\n"
    }
   }
  },
  {
   "cell_type": "code",
   "execution_count": 13,
   "outputs": [],
   "source": [
    "mydb = mysql.connector.connect(\n",
    "  host=\"localhost\",\n",
    "  user=\"root\",\n",
    "  password=\"MySQL00x04.\",\n",
    "  database=\"retail_shake\"\n",
    ")\n",
    "mycursor = mydb.cursor()"
   ],
   "metadata": {
    "collapsed": false,
    "pycharm": {
     "name": "#%% DB CONNECT\n"
    }
   }
  },
  {
   "cell_type": "markdown",
   "source": [
    "## Vue des tables"
   ],
   "metadata": {
    "collapsed": false,
    "pycharm": {
     "name": "#%% md\n"
    }
   }
  },
  {
   "cell_type": "code",
   "execution_count": 14,
   "outputs": [
    {
     "data": {
      "text/plain": "[('piwigo_retail_product_company',),\n ('piwigo_retail_product_company_price_changes',),\n ('piwigo_retail_product_company_rating_count_changes',),\n ('piwigo_retail_product_store',)]"
     },
     "execution_count": 14,
     "metadata": {},
     "output_type": "execute_result"
    }
   ],
   "source": [
    "mycursor.execute(\"SHOW TABLES;\")\n",
    "mycursor.fetchall()"
   ],
   "metadata": {
    "collapsed": false,
    "pycharm": {
     "name": "#%% SHOW DB\n"
    }
   }
  },
  {
   "cell_type": "code",
   "execution_count": 18,
   "outputs": [
    {
     "data": {
      "text/plain": "                  0   1              2                3     4              5   \\\n0  0 001 107 5402743   0  3165143408988  BOSCH Démarreur  2743  0 001 107 540   \n1  0 001 110 1062743   0           None  BOSCH Démarreur  2743  0 001 110 106   \n2  0 001 110 1222743   0           None  BOSCH Démarreur  2743  0 001 110 122   \n3  0 001 110 1262743   0  3165142706368  BOSCH Démarreur  2743  0 001 110 126   \n4  0 001 110 1282743   0  3165142960036  BOSCH Démarreur  2743  0 001 110 128   \n\n     6     7      8       9   ...   20  21  \\\n0  None  None  BOSCH  167.84  ...  4.0 NaN   \n1  None  None  BOSCH  489.49  ...  3.0 NaN   \n2  None  None  BOSCH  206.83  ...  3.0 NaN   \n3  None  None  BOSCH  399.53  ...  3.0 NaN   \n4  None  None  BOSCH  354.74  ...  3.0 NaN   \n\n                                                  22  23    24   25   26   27  \\\n0  https://cdn.autodoc.de/thumb?id=7477536&m=2&n=... NaN  None  0.0  0.0  0.0   \n1  https://cdn.autodoc.de/thumb?id=1144341&m=2&n=... NaN  None  0.0  0.0  0.0   \n2  https://cdn.autodoc.de/thumb?id=1144347&m=2&n=... NaN  None  0.0  0.0  0.0   \n3  https://cdn.autodoc.de/thumb?id=7289447&m=2&n=... NaN  None  0.0  0.0  0.0   \n4  https://cdn.autodoc.de/thumb?id=7289446&m=2&n=... NaN  None  0.0  0.0  0.0   \n\n    28    29  \n0  0.0  None  \n1  0.0  None  \n2  0.0  None  \n3  0.0  None  \n4  0.0  None  \n\n[5 rows x 30 columns]",
      "text/html": "<div>\n<style scoped>\n    .dataframe tbody tr th:only-of-type {\n        vertical-align: middle;\n    }\n\n    .dataframe tbody tr th {\n        vertical-align: top;\n    }\n\n    .dataframe thead th {\n        text-align: right;\n    }\n</style>\n<table border=\"1\" class=\"dataframe\">\n  <thead>\n    <tr style=\"text-align: right;\">\n      <th></th>\n      <th>0</th>\n      <th>1</th>\n      <th>2</th>\n      <th>3</th>\n      <th>4</th>\n      <th>5</th>\n      <th>6</th>\n      <th>7</th>\n      <th>8</th>\n      <th>9</th>\n      <th>...</th>\n      <th>20</th>\n      <th>21</th>\n      <th>22</th>\n      <th>23</th>\n      <th>24</th>\n      <th>25</th>\n      <th>26</th>\n      <th>27</th>\n      <th>28</th>\n      <th>29</th>\n    </tr>\n  </thead>\n  <tbody>\n    <tr>\n      <th>0</th>\n      <td>0 001 107 5402743</td>\n      <td>0</td>\n      <td>3165143408988</td>\n      <td>BOSCH Démarreur</td>\n      <td>2743</td>\n      <td>0 001 107 540</td>\n      <td>None</td>\n      <td>None</td>\n      <td>BOSCH</td>\n      <td>167.84</td>\n      <td>...</td>\n      <td>4.0</td>\n      <td>NaN</td>\n      <td>https://cdn.autodoc.de/thumb?id=7477536&amp;m=2&amp;n=...</td>\n      <td>NaN</td>\n      <td>None</td>\n      <td>0.0</td>\n      <td>0.0</td>\n      <td>0.0</td>\n      <td>0.0</td>\n      <td>None</td>\n    </tr>\n    <tr>\n      <th>1</th>\n      <td>0 001 110 1062743</td>\n      <td>0</td>\n      <td>None</td>\n      <td>BOSCH Démarreur</td>\n      <td>2743</td>\n      <td>0 001 110 106</td>\n      <td>None</td>\n      <td>None</td>\n      <td>BOSCH</td>\n      <td>489.49</td>\n      <td>...</td>\n      <td>3.0</td>\n      <td>NaN</td>\n      <td>https://cdn.autodoc.de/thumb?id=1144341&amp;m=2&amp;n=...</td>\n      <td>NaN</td>\n      <td>None</td>\n      <td>0.0</td>\n      <td>0.0</td>\n      <td>0.0</td>\n      <td>0.0</td>\n      <td>None</td>\n    </tr>\n    <tr>\n      <th>2</th>\n      <td>0 001 110 1222743</td>\n      <td>0</td>\n      <td>None</td>\n      <td>BOSCH Démarreur</td>\n      <td>2743</td>\n      <td>0 001 110 122</td>\n      <td>None</td>\n      <td>None</td>\n      <td>BOSCH</td>\n      <td>206.83</td>\n      <td>...</td>\n      <td>3.0</td>\n      <td>NaN</td>\n      <td>https://cdn.autodoc.de/thumb?id=1144347&amp;m=2&amp;n=...</td>\n      <td>NaN</td>\n      <td>None</td>\n      <td>0.0</td>\n      <td>0.0</td>\n      <td>0.0</td>\n      <td>0.0</td>\n      <td>None</td>\n    </tr>\n    <tr>\n      <th>3</th>\n      <td>0 001 110 1262743</td>\n      <td>0</td>\n      <td>3165142706368</td>\n      <td>BOSCH Démarreur</td>\n      <td>2743</td>\n      <td>0 001 110 126</td>\n      <td>None</td>\n      <td>None</td>\n      <td>BOSCH</td>\n      <td>399.53</td>\n      <td>...</td>\n      <td>3.0</td>\n      <td>NaN</td>\n      <td>https://cdn.autodoc.de/thumb?id=7289447&amp;m=2&amp;n=...</td>\n      <td>NaN</td>\n      <td>None</td>\n      <td>0.0</td>\n      <td>0.0</td>\n      <td>0.0</td>\n      <td>0.0</td>\n      <td>None</td>\n    </tr>\n    <tr>\n      <th>4</th>\n      <td>0 001 110 1282743</td>\n      <td>0</td>\n      <td>3165142960036</td>\n      <td>BOSCH Démarreur</td>\n      <td>2743</td>\n      <td>0 001 110 128</td>\n      <td>None</td>\n      <td>None</td>\n      <td>BOSCH</td>\n      <td>354.74</td>\n      <td>...</td>\n      <td>3.0</td>\n      <td>NaN</td>\n      <td>https://cdn.autodoc.de/thumb?id=7289446&amp;m=2&amp;n=...</td>\n      <td>NaN</td>\n      <td>None</td>\n      <td>0.0</td>\n      <td>0.0</td>\n      <td>0.0</td>\n      <td>0.0</td>\n      <td>None</td>\n    </tr>\n  </tbody>\n</table>\n<p>5 rows × 30 columns</p>\n</div>"
     },
     "execution_count": 18,
     "metadata": {},
     "output_type": "execute_result"
    }
   ],
   "source": [
    "mycursor.execute(\"SELECT * FROM piwigo_retail_product_company;\")\n",
    "df_piwigo_retail_product_company = pd.DataFrame (mycursor.fetchall())"
   ],
   "metadata": {
    "collapsed": false,
    "pycharm": {
     "name": "#%% IMPORT IN DB\n"
    }
   }
  },
  {
   "cell_type": "code",
   "execution_count": 22,
   "outputs": [
    {
     "data": {
      "text/plain": "(975586, 30)"
     },
     "execution_count": 22,
     "metadata": {},
     "output_type": "execute_result"
    }
   ],
   "source": [
    "df_piwigo_retail_product_company.shape\n"
   ],
   "metadata": {
    "collapsed": false,
    "pycharm": {
     "name": "#%%\n"
    }
   }
  }
 ],
 "metadata": {
  "kernelspec": {
   "name": "pycharm-9d3ed5e2",
   "language": "python",
   "display_name": "PyCharm (Python (default))"
  },
  "language_info": {
   "codemirror_mode": {
    "name": "ipython",
    "version": 2
   },
   "file_extension": ".py",
   "mimetype": "text/x-python",
   "name": "python",
   "nbconvert_exporter": "python",
   "pygments_lexer": "ipython2",
   "version": "2.7.6"
  }
 },
 "nbformat": 4,
 "nbformat_minor": 0
}