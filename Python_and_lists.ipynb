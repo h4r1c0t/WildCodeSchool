{
  "nbformat": 4,
  "nbformat_minor": 0,
  "metadata": {
    "colab": {
      "name": "Python and lists.ipynb",
      "provenance": [],
      "collapsed_sections": [
        "LoJw-LlCTnWF",
        "GCvpkWzXXPTf",
        "V8ZS3aECXvuZ"
      ],
      "include_colab_link": true
    },
    "kernelspec": {
      "name": "python3",
      "display_name": "Python 3"
    }
  },
  "cells": [
    {
      "cell_type": "markdown",
      "metadata": {
        "id": "view-in-github",
        "colab_type": "text"
      },
      "source": [
        "<a href=\"https://colab.research.google.com/github/h4r1c0t/WildCodeSchool/blob/master/Python_and_lists.ipynb\" target=\"_parent\"><img src=\"https://colab.research.google.com/assets/colab-badge.svg\" alt=\"Open In Colab\"/></a>"
      ]
    },
    {
      "cell_type": "markdown",
      "metadata": {
        "id": "LoJw-LlCTnWF",
        "colab_type": "text"
      },
      "source": [
        "# Mission 1 ✔\n",
        "\n",
        "Create a function that takes a list as a parameter and displays only the elements (and their position) that have positions that are even (0, 2, 4, 6...).\n",
        "\n",
        "Example list = [\"a\", \"b\", \"c\", \"d\", \"e\"], the function should return : \n",
        "- a position 0\n",
        "- c position 2\n",
        "- e position 4"
      ]
    },
    {
      "cell_type": "code",
      "metadata": {
        "id": "C2Lk113KSPUO",
        "colab_type": "code",
        "outputId": "b688e4da-576d-4a67-9bd3-a5cf4d6d46f8",
        "colab": {
          "base_uri": "https://localhost:8080/",
          "height": 85
        }
      },
      "source": [
        "def evenIndex(list):\n",
        "  for i in range(len(list)): \n",
        "    if i == 0 or i % 2 == 0:\n",
        "      print(list[i], 'position', i) \n",
        "\n",
        "\n",
        "list = input().split(\" \")\n",
        "evenIndex(list)"
      ],
      "execution_count": 0,
      "outputs": [
        {
          "output_type": "stream",
          "text": [
            "a b c d e f\n",
            "a position 0\n",
            "c position 2\n",
            "e position 4\n"
          ],
          "name": "stdout"
        }
      ]
    },
    {
      "cell_type": "markdown",
      "metadata": {
        "id": "njaLhz1Xh7Q6",
        "colab_type": "text"
      },
      "source": [
        "# Mission 2 ✔\n",
        "Create a function that takes a list as a parameter. Then make it so that this function allows us to replace the value of an element with another simply by indicating its position, however, only if both elements have the same type."
      ]
    },
    {
      "cell_type": "code",
      "metadata": {
        "id": "Fy1OmPSUXNaP",
        "colab_type": "code",
        "outputId": "75078ac4-3cf3-4a4b-e3a1-4930103af7f6",
        "colab": {
          "base_uri": "https://localhost:8080/",
          "height": 85
        }
      },
      "source": [
        "def replaceElement(list, position, old, new):\n",
        "  if type(old) == type(new):\n",
        "    list[position] = new\n",
        "  print(list)\n",
        "\n",
        "\n",
        "replaceElement(['a', 1, 'c', 3], 1, 1, 'b')\n",
        "replaceElement(['a', 1, 'c', 3], 1, 1, 3)\n",
        "\n",
        "replaceElement(['a', 1, 'c', 3], 2, 'c', 'b')\n",
        "replaceElement(['a', 1, 'c', 3], 2, 'c', 1)"
      ],
      "execution_count": 0,
      "outputs": [
        {
          "output_type": "stream",
          "text": [
            "['a', 1, 'c', 3]\n",
            "['a', 3, 'c', 3]\n",
            "['a', 1, 'b', 3]\n",
            "['a', 1, 'c', 3]\n"
          ],
          "name": "stdout"
        }
      ]
    },
    {
      "cell_type": "markdown",
      "metadata": {
        "id": "dVl36lvlWLdV",
        "colab_type": "text"
      },
      "source": [
        "# Mission 3 ✔\n",
        "\n",
        "Create a function that adds an element to the end of a list and removes the first element so that the list stays the same size."
      ]
    },
    {
      "cell_type": "code",
      "metadata": {
        "id": "pN3_mD4YSPfb",
        "colab_type": "code",
        "outputId": "798e0473-f31c-48d8-a26e-15c1e64c8540",
        "colab": {
          "base_uri": "https://localhost:8080/",
          "height": 68
        }
      },
      "source": [
        "def addElement(list, newElement):\n",
        "  list.append(newElement)\n",
        "  del list[0]\n",
        "  print(list)\n",
        "\n",
        "addElement(input().split(\" \"), input())"
      ],
      "execution_count": 0,
      "outputs": [
        {
          "output_type": "stream",
          "text": [
            "a b c d e\n",
            "f\n",
            "['b', 'c', 'd', 'e', 'f']\n"
          ],
          "name": "stdout"
        }
      ]
    },
    {
      "cell_type": "markdown",
      "metadata": {
        "id": "GCvpkWzXXPTf",
        "colab_type": "text"
      },
      "source": [
        "# Mission 4 ✔\n",
        "\n",
        "Create a function that does the same thing as the insert method but at a random position."
      ]
    },
    {
      "cell_type": "code",
      "metadata": {
        "id": "QjLMjogySPk_",
        "colab_type": "code",
        "outputId": "c33ff923-0208-4b21-c09e-31ed5882420c",
        "colab": {
          "base_uri": "https://localhost:8080/",
          "height": 34
        }
      },
      "source": [
        "def randInsert(list, newElement):\n",
        "  import random\n",
        "  list.insert(random.randrange(len(list)), newElement)\n",
        "  print(list)\n",
        "\n",
        "randInsert(['a', 'b', 'c', 'd', 'e'], 'f')"
      ],
      "execution_count": 0,
      "outputs": [
        {
          "output_type": "stream",
          "text": [
            "['a', 'f', 'b', 'c', 'd', 'e']\n"
          ],
          "name": "stdout"
        }
      ]
    },
    {
      "cell_type": "markdown",
      "metadata": {
        "id": "V8ZS3aECXvuZ",
        "colab_type": "text"
      },
      "source": [
        "# Mission 5 ✔\n",
        "\n",
        "Create a function that does the same thing as the pop method for a list containing only characters. The difference is that this function displays a message indicating the number of characters that are identical to the deleted character and still remain in the string. In other words, if there were 3 \"b\" s in the list, and one has just been deleted by your function, the function will display \"there are still 2 letter b s\"."
      ]
    },
    {
      "cell_type": "code",
      "metadata": {
        "id": "ph_j97PoSPmU",
        "colab_type": "code",
        "outputId": "38858c67-206b-4df6-b56a-5350b51a82a9",
        "colab": {
          "base_uri": "https://localhost:8080/",
          "height": 34
        }
      },
      "source": [
        "def delAndCount(list, ch): \n",
        "  position = list.index(ch)\n",
        "  del list[position]\n",
        "  print('there are still', list.count(ch), 'letter', ch, 's')\n",
        "\n",
        "delAndCount(['a', 'b', 'c', 'b', 'a'], 'b')"
      ],
      "execution_count": 0,
      "outputs": [
        {
          "output_type": "stream",
          "text": [
            "there are still 1 letter b s\n"
          ],
          "name": "stdout"
        }
      ]
    },
    {
      "cell_type": "markdown",
      "metadata": {
        "id": "geMLdrvAYHKx",
        "colab_type": "text"
      },
      "source": [
        "# Mission 6 ✔\n",
        "\n",
        "Create a function that takes in 3 lists as parameters, and indicates the two that are \"closest\". That is to say, the two that have the most elements in common."
      ]
    },
    {
      "cell_type": "code",
      "metadata": {
        "id": "1-cenx3RSPpq",
        "colab_type": "code",
        "outputId": "7cbdd844-8ac1-4eba-ab3a-b7fe484ff370",
        "colab": {
          "base_uri": "https://localhost:8080/",
          "height": 34
        }
      },
      "source": [
        "list1 = [\"blue\", \"red\", \"yellow\"]\n",
        "list2 = [\"red\", \"orange\", \"yellow\"]\n",
        "list3 = [\"dark\", \"grey\", \"white\", \"yellow\"]\n",
        "\n",
        "def common_elements(list1, list2, list3):\n",
        "  count_1_2 = len([element for element in list1 if element in list2])\n",
        "  count_1_3 = len([element for element in list1 if element in list3])\n",
        "  count_2_3 = len([element for element in list2 if element in list3])\n",
        "\n",
        "  if count_1_2 > count_1_3:\n",
        "    if count_1_2 > count_2_3:\n",
        "      print(\"List1 and List2 are the closest lists.\")\n",
        "    else:\n",
        "      print(\"List2 and List3 are the closest lists.\")\n",
        "  else:\n",
        "    if count_1_3 > count_2_3:\n",
        "      print(\"List1 and List3 are the closest lists.\")\n",
        "    else:\n",
        "      print(\"List2 and List3 are the closest lists.\")\n",
        "\n",
        "common_elements(list1, list2, list3)"
      ],
      "execution_count": 0,
      "outputs": [
        {
          "output_type": "stream",
          "text": [
            "List1 and List2 are the closest lists.\n"
          ],
          "name": "stdout"
        }
      ]
    },
    {
      "cell_type": "markdown",
      "metadata": {
        "id": "Ygonr8C4pEgg",
        "colab_type": "text"
      },
      "source": [
        "# Mission 7 ✔\n",
        "\n",
        "Create a function that displays all the items in a list of int from smallest to the largest. In other words, a function that sorts the list from smallest to largest."
      ]
    },
    {
      "cell_type": "code",
      "metadata": {
        "id": "dlRdqxco5r8U",
        "colab_type": "code",
        "outputId": "5cdbf81f-6aea-466d-9d51-27ed6df989f9",
        "colab": {
          "base_uri": "https://localhost:8080/",
          "height": 34
        }
      },
      "source": [
        "int_list = [65, 131, 5, 4, 654, 542, 114]\n",
        "\n",
        "def sort_int_list(int_list):\n",
        "  for i in range(len(int_list)):\n",
        "      for j in range(i + 1, len(int_list)):\n",
        "          if int_list[i] > int_list[j]:\n",
        "            int_list[i], int_list[j] = int_list[j], int_list[i]\n",
        "  return int_list\n",
        "\n",
        "sorted_int_list = sort_int_list(int_list)\n",
        "print(sorted_int_list)"
      ],
      "execution_count": 0,
      "outputs": [
        {
          "output_type": "stream",
          "text": [
            "[4, 5, 65, 114, 131, 542, 654]\n"
          ],
          "name": "stdout"
        }
      ]
    }
  ]
}