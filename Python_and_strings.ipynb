{
  "nbformat": 4,
  "nbformat_minor": 0,
  "metadata": {
    "colab": {
      "name": "Python and strings.ipynb",
      "provenance": [],
      "collapsed_sections": [],
      "toc_visible": true,
      "include_colab_link": true
    },
    "kernelspec": {
      "name": "python3",
      "display_name": "Python 3"
    }
  },
  "cells": [
    {
      "cell_type": "markdown",
      "metadata": {
        "id": "view-in-github",
        "colab_type": "text"
      },
      "source": [
        "<a href=\"https://colab.research.google.com/github/h4r1c0t/WildCodeSchool/blob/master/Python_and_strings.ipynb\" target=\"_parent\"><img src=\"https://colab.research.google.com/assets/colab-badge.svg\" alt=\"Open In Colab\"/></a>"
      ]
    },
    {
      "cell_type": "markdown",
      "metadata": {
        "id": "LoJw-LlCTnWF",
        "colab_type": "text"
      },
      "source": [
        "# Mission 1\n",
        "\n",
        "Create a function that uses the len method to display the length of the string named: \"string\" below.\n",
        "\n",
        "Make the character count returned by your function ignore the number of spaces (without changing the string).\n",
        "\n",
        "string = \"Taumata whakatangihanga koauau o tamatea turi pukaka piki maungah oronuku pokai whenuaki tanatahu \""
      ]
    },
    {
      "cell_type": "code",
      "metadata": {
        "colab_type": "code",
        "id": "oweHYwlm1EVo",
        "colab": {}
      },
      "source": [
        ""
      ],
      "execution_count": 0,
      "outputs": []
    },
    {
      "cell_type": "markdown",
      "metadata": {
        "id": "J3bsGIvAT049",
        "colab_type": "text"
      },
      "source": [
        "# Mission 2\n",
        "\n",
        "Create a function that takes a string as one parameter and a character as another parameter. The function should return the position (starting with 1 and not 0) of all occurrences of the character within the string.\n",
        "\n",
        "For example for the word \"hello\" and for the character \"o\" the function will return :\n",
        "- \"position : 5\""
      ]
    },
    {
      "cell_type": "code",
      "metadata": {
        "id": "Fy1OmPSUXNaP",
        "colab_type": "code",
        "colab": {}
      },
      "source": [
        ""
      ],
      "execution_count": 0,
      "outputs": []
    },
    {
      "cell_type": "markdown",
      "metadata": {
        "id": "dVl36lvlWLdV",
        "colab_type": "text"
      },
      "source": [
        "# Mission 3\n",
        "\n",
        "Create a function that only displays characters from one position to another position. In other words, make it so that you are able decide the exact character range to be displayed."
      ]
    },
    {
      "cell_type": "code",
      "metadata": {
        "id": "pN3_mD4YSPfb",
        "colab_type": "code",
        "colab": {}
      },
      "source": [
        ""
      ],
      "execution_count": 0,
      "outputs": []
    },
    {
      "cell_type": "markdown",
      "metadata": {
        "id": "GCvpkWzXXPTf",
        "colab_type": "text"
      },
      "source": [
        "# Mission 4\n",
        "\n",
        "Find 3 ways to return the following string without including the spaces at the beginning and end only (without changing the string): \" Data Analyst \"."
      ]
    },
    {
      "cell_type": "code",
      "metadata": {
        "id": "QjLMjogySPk_",
        "colab_type": "code",
        "colab": {}
      },
      "source": [
        ""
      ],
      "execution_count": 0,
      "outputs": []
    },
    {
      "cell_type": "markdown",
      "metadata": {
        "id": "V8ZS3aECXvuZ",
        "colab_type": "text"
      },
      "source": [
        "# Mission 5\n",
        "\n",
        "Create a function that converts all vowels to uppercase and all consonants to lowercase."
      ]
    },
    {
      "cell_type": "code",
      "metadata": {
        "id": "ph_j97PoSPmU",
        "colab_type": "code",
        "colab": {}
      },
      "source": [
        ""
      ],
      "execution_count": 0,
      "outputs": []
    },
    {
      "cell_type": "markdown",
      "metadata": {
        "id": "geMLdrvAYHKx",
        "colab_type": "text"
      },
      "source": [
        "# Mission 6\n",
        "\n",
        "Create a function that replaces one character with another and redisplays the modified string."
      ]
    },
    {
      "cell_type": "code",
      "metadata": {
        "id": "1-cenx3RSPpq",
        "colab_type": "code",
        "colab": {}
      },
      "source": [
        ""
      ],
      "execution_count": 0,
      "outputs": []
    },
    {
      "cell_type": "code",
      "metadata": {
        "id": "XKzG7YJljZxS",
        "colab_type": "code",
        "colab": {}
      },
      "source": [
        ""
      ],
      "execution_count": 0,
      "outputs": []
    }
  ]
}